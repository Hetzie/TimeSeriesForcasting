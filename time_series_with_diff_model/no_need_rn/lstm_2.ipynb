{
 "cells": [
  {
   "cell_type": "code",
   "execution_count": 1,
   "metadata": {},
   "outputs": [],
   "source": [
    "# Imports\n",
    "import pandas as pd\n",
    "import numpy as np\n",
    "import matplotlib.pyplot as plt\n",
    "import seaborn as sns\n",
    "import datetime\n",
    "\n",
    "#To mute Warnings\n",
    "import warnings\n",
    "warnings.filterwarnings(\"ignore\")"
   ]
  },
  {
   "cell_type": "code",
   "execution_count": 2,
   "metadata": {},
   "outputs": [],
   "source": [
    "# Weekly\n",
    "df_w_2020_23 = pd.read_csv('./data/VolumeDataset_2020_to_2023.csv')\n",
    "\n",
    "# Monthly\n",
    "df_m_2020_23 = pd.read_csv('./data/Month_clean_data.csv')"
   ]
  },
  {
   "cell_type": "code",
   "execution_count": 3,
   "metadata": {},
   "outputs": [
    {
     "data": {
      "text/html": [
       "<div>\n",
       "<style scoped>\n",
       "    .dataframe tbody tr th:only-of-type {\n",
       "        vertical-align: middle;\n",
       "    }\n",
       "\n",
       "    .dataframe tbody tr th {\n",
       "        vertical-align: top;\n",
       "    }\n",
       "\n",
       "    .dataframe thead th {\n",
       "        text-align: right;\n",
       "    }\n",
       "</style>\n",
       "<table border=\"1\" class=\"dataframe\">\n",
       "  <thead>\n",
       "    <tr style=\"text-align: right;\">\n",
       "      <th></th>\n",
       "      <th>Year</th>\n",
       "      <th>Week</th>\n",
       "      <th>A1</th>\n",
       "      <th>A2</th>\n",
       "      <th>E1</th>\n",
       "      <th>E2</th>\n",
       "      <th>N1</th>\n",
       "      <th>N2</th>\n",
       "      <th>N3</th>\n",
       "      <th>S1</th>\n",
       "      <th>S2</th>\n",
       "      <th>S3</th>\n",
       "      <th>W1</th>\n",
       "      <th>W2</th>\n",
       "      <th>W3</th>\n",
       "      <th>Cleared Volume</th>\n",
       "      <th>MCV</th>\n",
       "    </tr>\n",
       "    <tr>\n",
       "      <th>Date</th>\n",
       "      <th></th>\n",
       "      <th></th>\n",
       "      <th></th>\n",
       "      <th></th>\n",
       "      <th></th>\n",
       "      <th></th>\n",
       "      <th></th>\n",
       "      <th></th>\n",
       "      <th></th>\n",
       "      <th></th>\n",
       "      <th></th>\n",
       "      <th></th>\n",
       "      <th></th>\n",
       "      <th></th>\n",
       "      <th></th>\n",
       "      <th></th>\n",
       "      <th></th>\n",
       "    </tr>\n",
       "  </thead>\n",
       "  <tbody>\n",
       "    <tr>\n",
       "      <th>2020-01-12</th>\n",
       "      <td>2020</td>\n",
       "      <td>1</td>\n",
       "      <td>16911.93</td>\n",
       "      <td>33756.53</td>\n",
       "      <td>48253.47</td>\n",
       "      <td>51912.76</td>\n",
       "      <td>34120.12</td>\n",
       "      <td>48682.29</td>\n",
       "      <td>0.0</td>\n",
       "      <td>118862.33</td>\n",
       "      <td>8394.66</td>\n",
       "      <td>604.80</td>\n",
       "      <td>164894.79</td>\n",
       "      <td>70374.62</td>\n",
       "      <td>185102.58</td>\n",
       "      <td>781869.95</td>\n",
       "      <td>788121.16</td>\n",
       "    </tr>\n",
       "    <tr>\n",
       "      <th>2020-01-19</th>\n",
       "      <td>2020</td>\n",
       "      <td>2</td>\n",
       "      <td>16678.16</td>\n",
       "      <td>35520.72</td>\n",
       "      <td>68177.88</td>\n",
       "      <td>57986.37</td>\n",
       "      <td>42388.81</td>\n",
       "      <td>75084.86</td>\n",
       "      <td>0.0</td>\n",
       "      <td>148760.74</td>\n",
       "      <td>19815.62</td>\n",
       "      <td>650.20</td>\n",
       "      <td>257190.84</td>\n",
       "      <td>87611.24</td>\n",
       "      <td>304985.01</td>\n",
       "      <td>1114849.33</td>\n",
       "      <td>1129493.91</td>\n",
       "    </tr>\n",
       "    <tr>\n",
       "      <th>2020-01-26</th>\n",
       "      <td>2020</td>\n",
       "      <td>3</td>\n",
       "      <td>18848.19</td>\n",
       "      <td>23953.29</td>\n",
       "      <td>74396.13</td>\n",
       "      <td>39749.67</td>\n",
       "      <td>50518.35</td>\n",
       "      <td>90128.99</td>\n",
       "      <td>0.0</td>\n",
       "      <td>147718.97</td>\n",
       "      <td>22392.94</td>\n",
       "      <td>832.80</td>\n",
       "      <td>209441.27</td>\n",
       "      <td>90702.62</td>\n",
       "      <td>245815.56</td>\n",
       "      <td>1014497.72</td>\n",
       "      <td>1014497.72</td>\n",
       "    </tr>\n",
       "    <tr>\n",
       "      <th>2020-02-02</th>\n",
       "      <td>2020</td>\n",
       "      <td>4</td>\n",
       "      <td>13864.97</td>\n",
       "      <td>30214.57</td>\n",
       "      <td>66323.83</td>\n",
       "      <td>74711.48</td>\n",
       "      <td>44585.04</td>\n",
       "      <td>156190.36</td>\n",
       "      <td>0.0</td>\n",
       "      <td>162732.93</td>\n",
       "      <td>32756.68</td>\n",
       "      <td>750.60</td>\n",
       "      <td>181776.78</td>\n",
       "      <td>133732.89</td>\n",
       "      <td>159148.69</td>\n",
       "      <td>1056787.47</td>\n",
       "      <td>1056787.45</td>\n",
       "    </tr>\n",
       "    <tr>\n",
       "      <th>2020-02-09</th>\n",
       "      <td>2020</td>\n",
       "      <td>5</td>\n",
       "      <td>19588.03</td>\n",
       "      <td>27242.09</td>\n",
       "      <td>47763.37</td>\n",
       "      <td>83659.99</td>\n",
       "      <td>60050.33</td>\n",
       "      <td>154508.37</td>\n",
       "      <td>0.0</td>\n",
       "      <td>161117.18</td>\n",
       "      <td>26246.31</td>\n",
       "      <td>695.61</td>\n",
       "      <td>198066.16</td>\n",
       "      <td>132061.48</td>\n",
       "      <td>202806.64</td>\n",
       "      <td>1113804.41</td>\n",
       "      <td>1116246.21</td>\n",
       "    </tr>\n",
       "  </tbody>\n",
       "</table>\n",
       "</div>"
      ],
      "text/plain": [
       "            Year  Week        A1        A2        E1        E2        N1  \\\n",
       "Date                                                                       \n",
       "2020-01-12  2020     1  16911.93  33756.53  48253.47  51912.76  34120.12   \n",
       "2020-01-19  2020     2  16678.16  35520.72  68177.88  57986.37  42388.81   \n",
       "2020-01-26  2020     3  18848.19  23953.29  74396.13  39749.67  50518.35   \n",
       "2020-02-02  2020     4  13864.97  30214.57  66323.83  74711.48  44585.04   \n",
       "2020-02-09  2020     5  19588.03  27242.09  47763.37  83659.99  60050.33   \n",
       "\n",
       "                   N2   N3         S1        S2      S3         W1         W2  \\\n",
       "Date                                                                            \n",
       "2020-01-12   48682.29  0.0  118862.33   8394.66  604.80  164894.79   70374.62   \n",
       "2020-01-19   75084.86  0.0  148760.74  19815.62  650.20  257190.84   87611.24   \n",
       "2020-01-26   90128.99  0.0  147718.97  22392.94  832.80  209441.27   90702.62   \n",
       "2020-02-02  156190.36  0.0  162732.93  32756.68  750.60  181776.78  133732.89   \n",
       "2020-02-09  154508.37  0.0  161117.18  26246.31  695.61  198066.16  132061.48   \n",
       "\n",
       "                   W3  Cleared Volume         MCV  \n",
       "Date                                               \n",
       "2020-01-12  185102.58       781869.95   788121.16  \n",
       "2020-01-19  304985.01      1114849.33  1129493.91  \n",
       "2020-01-26  245815.56      1014497.72  1014497.72  \n",
       "2020-02-02  159148.69      1056787.47  1056787.45  \n",
       "2020-02-09  202806.64      1113804.41  1116246.21  "
      ]
     },
     "metadata": {},
     "output_type": "display_data"
    },
    {
     "data": {
      "text/html": [
       "<div>\n",
       "<style scoped>\n",
       "    .dataframe tbody tr th:only-of-type {\n",
       "        vertical-align: middle;\n",
       "    }\n",
       "\n",
       "    .dataframe tbody tr th {\n",
       "        vertical-align: top;\n",
       "    }\n",
       "\n",
       "    .dataframe thead th {\n",
       "        text-align: right;\n",
       "    }\n",
       "</style>\n",
       "<table border=\"1\" class=\"dataframe\">\n",
       "  <thead>\n",
       "    <tr style=\"text-align: right;\">\n",
       "      <th></th>\n",
       "      <th>Month</th>\n",
       "      <th>A1</th>\n",
       "      <th>A2</th>\n",
       "      <th>E1</th>\n",
       "      <th>E2</th>\n",
       "      <th>N1</th>\n",
       "      <th>N2</th>\n",
       "      <th>N3</th>\n",
       "      <th>S1</th>\n",
       "      <th>S2</th>\n",
       "      <th>S3</th>\n",
       "      <th>W1</th>\n",
       "      <th>W2</th>\n",
       "      <th>W3</th>\n",
       "      <th>Cleared Volume</th>\n",
       "      <th>MCV</th>\n",
       "    </tr>\n",
       "    <tr>\n",
       "      <th>Date</th>\n",
       "      <th></th>\n",
       "      <th></th>\n",
       "      <th></th>\n",
       "      <th></th>\n",
       "      <th></th>\n",
       "      <th></th>\n",
       "      <th></th>\n",
       "      <th></th>\n",
       "      <th></th>\n",
       "      <th></th>\n",
       "      <th></th>\n",
       "      <th></th>\n",
       "      <th></th>\n",
       "      <th></th>\n",
       "      <th></th>\n",
       "      <th></th>\n",
       "    </tr>\n",
       "  </thead>\n",
       "  <tbody>\n",
       "    <tr>\n",
       "      <th>01-01-2020</th>\n",
       "      <td>1</td>\n",
       "      <td>66303.25</td>\n",
       "      <td>123445.11</td>\n",
       "      <td>257151.31</td>\n",
       "      <td>224360.28</td>\n",
       "      <td>171612.32</td>\n",
       "      <td>370086.50</td>\n",
       "      <td>0.0</td>\n",
       "      <td>578074.97</td>\n",
       "      <td>83359.90</td>\n",
       "      <td>2838.40</td>\n",
       "      <td>813303.68</td>\n",
       "      <td>382421.37</td>\n",
       "      <td>895051.84</td>\n",
       "      <td>3968004.47</td>\n",
       "      <td>3988900.24</td>\n",
       "    </tr>\n",
       "    <tr>\n",
       "      <th>01-02-2020</th>\n",
       "      <td>2</td>\n",
       "      <td>74862.97</td>\n",
       "      <td>104828.98</td>\n",
       "      <td>208028.44</td>\n",
       "      <td>434917.15</td>\n",
       "      <td>238676.95</td>\n",
       "      <td>476956.27</td>\n",
       "      <td>0.0</td>\n",
       "      <td>534379.41</td>\n",
       "      <td>142714.33</td>\n",
       "      <td>3102.46</td>\n",
       "      <td>568893.78</td>\n",
       "      <td>675279.49</td>\n",
       "      <td>757637.25</td>\n",
       "      <td>4220272.12</td>\n",
       "      <td>4222713.99</td>\n",
       "    </tr>\n",
       "    <tr>\n",
       "      <th>01-03-2020</th>\n",
       "      <td>3</td>\n",
       "      <td>37087.81</td>\n",
       "      <td>144506.05</td>\n",
       "      <td>620054.99</td>\n",
       "      <td>474525.58</td>\n",
       "      <td>326302.03</td>\n",
       "      <td>786295.16</td>\n",
       "      <td>0.0</td>\n",
       "      <td>199910.55</td>\n",
       "      <td>51569.67</td>\n",
       "      <td>2823.86</td>\n",
       "      <td>304063.81</td>\n",
       "      <td>447513.10</td>\n",
       "      <td>1247417.93</td>\n",
       "      <td>4642064.05</td>\n",
       "      <td>4657620.35</td>\n",
       "    </tr>\n",
       "    <tr>\n",
       "      <th>01-04-2020</th>\n",
       "      <td>4</td>\n",
       "      <td>42797.94</td>\n",
       "      <td>215447.04</td>\n",
       "      <td>386198.01</td>\n",
       "      <td>469504.46</td>\n",
       "      <td>523446.95</td>\n",
       "      <td>760255.22</td>\n",
       "      <td>0.0</td>\n",
       "      <td>54273.49</td>\n",
       "      <td>42244.35</td>\n",
       "      <td>1558.74</td>\n",
       "      <td>72899.64</td>\n",
       "      <td>507490.71</td>\n",
       "      <td>325247.66</td>\n",
       "      <td>3401358.28</td>\n",
       "      <td>3401358.27</td>\n",
       "    </tr>\n",
       "    <tr>\n",
       "      <th>01-05-2020</th>\n",
       "      <td>5</td>\n",
       "      <td>22426.57</td>\n",
       "      <td>147490.98</td>\n",
       "      <td>581634.38</td>\n",
       "      <td>940433.68</td>\n",
       "      <td>796148.85</td>\n",
       "      <td>477740.10</td>\n",
       "      <td>0.0</td>\n",
       "      <td>201199.84</td>\n",
       "      <td>61656.62</td>\n",
       "      <td>3883.37</td>\n",
       "      <td>403408.38</td>\n",
       "      <td>303068.90</td>\n",
       "      <td>844138.11</td>\n",
       "      <td>4783223.72</td>\n",
       "      <td>4783223.66</td>\n",
       "    </tr>\n",
       "  </tbody>\n",
       "</table>\n",
       "</div>"
      ],
      "text/plain": [
       "            Month        A1         A2         E1         E2         N1  \\\n",
       "Date                                                                      \n",
       "01-01-2020      1  66303.25  123445.11  257151.31  224360.28  171612.32   \n",
       "01-02-2020      2  74862.97  104828.98  208028.44  434917.15  238676.95   \n",
       "01-03-2020      3  37087.81  144506.05  620054.99  474525.58  326302.03   \n",
       "01-04-2020      4  42797.94  215447.04  386198.01  469504.46  523446.95   \n",
       "01-05-2020      5  22426.57  147490.98  581634.38  940433.68  796148.85   \n",
       "\n",
       "                   N2   N3         S1         S2       S3         W1  \\\n",
       "Date                                                                   \n",
       "01-01-2020  370086.50  0.0  578074.97   83359.90  2838.40  813303.68   \n",
       "01-02-2020  476956.27  0.0  534379.41  142714.33  3102.46  568893.78   \n",
       "01-03-2020  786295.16  0.0  199910.55   51569.67  2823.86  304063.81   \n",
       "01-04-2020  760255.22  0.0   54273.49   42244.35  1558.74   72899.64   \n",
       "01-05-2020  477740.10  0.0  201199.84   61656.62  3883.37  403408.38   \n",
       "\n",
       "                   W2          W3  Cleared Volume         MCV  \n",
       "Date                                                           \n",
       "01-01-2020  382421.37   895051.84      3968004.47  3988900.24  \n",
       "01-02-2020  675279.49   757637.25      4220272.12  4222713.99  \n",
       "01-03-2020  447513.10  1247417.93      4642064.05  4657620.35  \n",
       "01-04-2020  507490.71   325247.66      3401358.28  3401358.27  \n",
       "01-05-2020  303068.90   844138.11      4783223.72  4783223.66  "
      ]
     },
     "metadata": {},
     "output_type": "display_data"
    }
   ],
   "source": [
    "#  Made Date index column \n",
    "dates = df_w_2020_23.Year*100+df_w_2020_23.Week\n",
    "df_w_2020_23['Date'] = pd.to_datetime(dates.astype(str) + '0', format='%Y%W%w')\n",
    "df_w_2020_23 = df_w_2020_23.set_index('Date')\n",
    "\n",
    "df_m_2020_23 = df_m_2020_23.set_index('Date')\n",
    "\n",
    "\n",
    "\n",
    "for df in [df_w_2020_23, df_m_2020_23]:\n",
    "    display(df.head())"
   ]
  },
  {
   "cell_type": "code",
   "execution_count": 5,
   "metadata": {},
   "outputs": [
    {
     "data": {
      "text/plain": [
       "<Axes: xlabel='Date'>"
      ]
     },
     "execution_count": 5,
     "metadata": {},
     "output_type": "execute_result"
    },
    {
     "data": {
      "image/png": "[encoded data removed]",
      "text/plain": [
       "<Figure size 640x480 with 1 Axes>"
      ]
     },
     "metadata": {},
     "output_type": "display_data"
    }
   ],
   "source": [
    "temp = df_w_2020_23['S1']\n",
    "temp.plot()"
   ]
  },
  {
   "cell_type": "code",
   "execution_count": 29,
   "metadata": {},
   "outputs": [],
   "source": [
    "\n",
    "from sklearn.preprocessing import MinMaxScaler\n",
    "scaler = MinMaxScaler()\n",
    "\n",
    "scaler.fit(df_w_2020_23[['S1']][:190])\n",
    "scaled_train = scaler.transform(df_w_2020_23[['S1']][:190])\n",
    "scaled_test = scaler.transform(df_w_2020_23[['S1']][190:])"
   ]
  },
  {
   "cell_type": "code",
   "execution_count": 6,
   "metadata": {},
   "outputs": [],
   "source": [
    "def df_to_X_y(df, window_size=5):\n",
    "  df_as_np = df.to_numpy()\n",
    "  X = []\n",
    "  y = []\n",
    "  for i in range(len(df_as_np)-window_size):\n",
    "    row = [[a] for a in df_as_np[i:i+window_size]]\n",
    "    X.append(row)\n",
    "    label = df_as_np[i+window_size]\n",
    "    y.append(label)\n",
    "  return np.array(X), np.array(y)"
   ]
  },
  {
   "cell_type": "code",
   "execution_count": 36,
   "metadata": {},
   "outputs": [
    {
     "data": {
      "text/plain": [
       "((200, 10, 1), (200,))"
      ]
     },
     "execution_count": 36,
     "metadata": {},
     "output_type": "execute_result"
    }
   ],
   "source": [
    "WINDOW_SIZE = 10\n",
    "X1, y1 = df_to_X_y(temp, WINDOW_SIZE)\n",
    "X1.shape, y1.shape"
   ]
  },
  {
   "cell_type": "code",
   "execution_count": 37,
   "metadata": {},
   "outputs": [
    {
     "data": {
      "text/plain": [
       "((180, 10, 1), (180,), (10, 10, 1), (10,), (10, 10, 1), (10,))"
      ]
     },
     "execution_count": 37,
     "metadata": {},
     "output_type": "execute_result"
    }
   ],
   "source": [
    "X_train1, y_train1 = X1[:180], y1[:180]\n",
    "X_val1, y_val1 = X1[180:190], y1[180:190]\n",
    "X_test1, y_test1 = X1[190:], y1[190:]\n",
    "X_train1.shape, y_train1.shape, X_val1.shape, y_val1.shape, X_test1.shape, y_test1.shape"
   ]
  },
  {
   "cell_type": "code",
   "execution_count": 38,
   "metadata": {},
   "outputs": [
    {
     "data": {
      "text/html": [
       "<pre style=\"white-space:pre;overflow-x:auto;line-height:normal;font-family:Menlo,'DejaVu Sans Mono',consolas,'Courier New',monospace\"><span style=\"font-weight: bold\">Model: \"sequential_2\"</span>\n",
       "</pre>\n"
      ],
      "text/plain": [
       "\u001b[1mModel: \"sequential_2\"\u001b[0m\n"
      ]
     },
     "metadata": {},
     "output_type": "display_data"
    },
    {
     "data": {
      "text/html": [
       "<pre style=\"white-space:pre;overflow-x:auto;line-height:normal;font-family:Menlo,'DejaVu Sans Mono',consolas,'Courier New',monospace\">┏━━━━━━━━━━━━━━━━━━━━━━━━━━━━━━━━━┳━━━━━━━━━━━━━━━━━━━━━━━━┳━━━━━━━━━━━━━━━┓\n",
       "┃<span style=\"font-weight: bold\"> Layer (type)                    </span>┃<span style=\"font-weight: bold\"> Output Shape           </span>┃<span style=\"font-weight: bold\">       Param # </span>┃\n",
       "┡━━━━━━━━━━━━━━━━━━━━━━━━━━━━━━━━━╇━━━━━━━━━━━━━━━━━━━━━━━━╇━━━━━━━━━━━━━━━┩\n",
       "│ lstm_2 (<span style=\"color: #0087ff; text-decoration-color: #0087ff\">LSTM</span>)                   │ (<span style=\"color: #00d7ff; text-decoration-color: #00d7ff\">None</span>, <span style=\"color: #00af00; text-decoration-color: #00af00\">64</span>)             │        <span style=\"color: #00af00; text-decoration-color: #00af00\">16,896</span> │\n",
       "├─────────────────────────────────┼────────────────────────┼───────────────┤\n",
       "│ dense_4 (<span style=\"color: #0087ff; text-decoration-color: #0087ff\">Dense</span>)                 │ (<span style=\"color: #00d7ff; text-decoration-color: #00d7ff\">None</span>, <span style=\"color: #00af00; text-decoration-color: #00af00\">8</span>)              │           <span style=\"color: #00af00; text-decoration-color: #00af00\">520</span> │\n",
       "├─────────────────────────────────┼────────────────────────┼───────────────┤\n",
       "│ dense_5 (<span style=\"color: #0087ff; text-decoration-color: #0087ff\">Dense</span>)                 │ (<span style=\"color: #00d7ff; text-decoration-color: #00d7ff\">None</span>, <span style=\"color: #00af00; text-decoration-color: #00af00\">1</span>)              │             <span style=\"color: #00af00; text-decoration-color: #00af00\">9</span> │\n",
       "└─────────────────────────────────┴────────────────────────┴───────────────┘\n",
       "</pre>\n"
      ],
      "text/plain": [
       "┏━━━━━━━━━━━━━━━━━━━━━━━━━━━━━━━━━┳━━━━━━━━━━━━━━━━━━━━━━━━┳━━━━━━━━━━━━━━━┓\n",
       "┃\u001b[1m \u001b[0m\u001b[1mLayer (type)                   \u001b[0m\u001b[1m \u001b[0m┃\u001b[1m \u001b[0m\u001b[1mOutput Shape          \u001b[0m\u001b[1m \u001b[0m┃\u001b[1m \u001b[0m\u001b[1m      Param #\u001b[0m\u001b[1m \u001b[0m┃\n",
       "┡━━━━━━━━━━━━━━━━━━━━━━━━━━━━━━━━━╇━━━━━━━━━━━━━━━━━━━━━━━━╇━━━━━━━━━━━━━━━┩\n",
       "│ lstm_2 (\u001b[38;5;33mLSTM\u001b[0m)                   │ (\u001b[38;5;45mNone\u001b[0m, \u001b[38;5;34m64\u001b[0m)             │        \u001b[38;5;34m16,896\u001b[0m │\n",
       "├─────────────────────────────────┼────────────────────────┼───────────────┤\n",
       "│ dense_4 (\u001b[38;5;33mDense\u001b[0m)                 │ (\u001b[38;5;45mNone\u001b[0m, \u001b[38;5;34m8\u001b[0m)              │           \u001b[38;5;34m520\u001b[0m │\n",
       "├─────────────────────────────────┼────────────────────────┼───────────────┤\n",
       "│ dense_5 (\u001b[38;5;33mDense\u001b[0m)                 │ (\u001b[38;5;45mNone\u001b[0m, \u001b[38;5;34m1\u001b[0m)              │             \u001b[38;5;34m9\u001b[0m │\n",
       "└─────────────────────────────────┴────────────────────────┴───────────────┘\n"
      ]
     },
     "metadata": {},
     "output_type": "display_data"
    },
    {
     "data": {
      "text/html": [
       "<pre style=\"white-space:pre;overflow-x:auto;line-height:normal;font-family:Menlo,'DejaVu Sans Mono',consolas,'Courier New',monospace\"><span style=\"font-weight: bold\"> Total params: </span><span style=\"color: #00af00; text-decoration-color: #00af00\">17,425</span> (68.07 KB)\n",
       "</pre>\n"
      ],
      "text/plain": [
       "\u001b[1m Total params: \u001b[0m\u001b[38;5;34m17,425\u001b[0m (68.07 KB)\n"
      ]
     },
     "metadata": {},
     "output_type": "display_data"
    },
    {
     "data": {
      "text/html": [
       "<pre style=\"white-space:pre;overflow-x:auto;line-height:normal;font-family:Menlo,'DejaVu Sans Mono',consolas,'Courier New',monospace\"><span style=\"font-weight: bold\"> Trainable params: </span><span style=\"color: #00af00; text-decoration-color: #00af00\">17,425</span> (68.07 KB)\n",
       "</pre>\n"
      ],
      "text/plain": [
       "\u001b[1m Trainable params: \u001b[0m\u001b[38;5;34m17,425\u001b[0m (68.07 KB)\n"
      ]
     },
     "metadata": {},
     "output_type": "display_data"
    },
    {
     "data": {
      "text/html": [
       "<pre style=\"white-space:pre;overflow-x:auto;line-height:normal;font-family:Menlo,'DejaVu Sans Mono',consolas,'Courier New',monospace\"><span style=\"font-weight: bold\"> Non-trainable params: </span><span style=\"color: #00af00; text-decoration-color: #00af00\">0</span> (0.00 B)\n",
       "</pre>\n"
      ],
      "text/plain": [
       "\u001b[1m Non-trainable params: \u001b[0m\u001b[38;5;34m0\u001b[0m (0.00 B)\n"
      ]
     },
     "metadata": {},
     "output_type": "display_data"
    }
   ],
   "source": [
    "from tensorflow.keras.models import Sequential\n",
    "from tensorflow.keras.layers import *\n",
    "from tensorflow.keras.callbacks import ModelCheckpoint\n",
    "from tensorflow.keras.losses import MeanSquaredError\n",
    "from tensorflow.keras.metrics import RootMeanSquaredError\n",
    "from tensorflow.keras.optimizers import Adam\n",
    "\n",
    "model1 = Sequential()\n",
    "model1.add(InputLayer((5, 1)))\n",
    "model1.add(LSTM(64))\n",
    "model1.add(Dense(8, 'relu'))\n",
    "model1.add(Dense(1, 'linear'))\n",
    "\n",
    "model1.summary()"
   ]
  },
  {
   "cell_type": "code",
   "execution_count": 39,
   "metadata": {},
   "outputs": [],
   "source": [
    "cp1 = ModelCheckpoint('./model1/a.keras', save_best_only=True)\n",
    "model1.compile(loss=MeanSquaredError(), optimizer=Adam(learning_rate=0.0001), metrics=[RootMeanSquaredError()])"
   ]
  },
  {
   "cell_type": "code",
   "execution_count": 40,
   "metadata": {},
   "outputs": [
    {
     "name": "stdout",
     "output_type": "stream",
     "text": [
      "Epoch 1/50\n"
     ]
    },
    {
     "name": "stdout",
     "output_type": "stream",
     "text": [
      "\u001b[1m6/6\u001b[0m \u001b[32m━━━━━━━━━━━━━━━━━━━━\u001b[0m\u001b[37m\u001b[0m \u001b[1m5s\u001b[0m 140ms/step - loss: 25056526336.0000 - root_mean_squared_error: 158304.6562 - val_loss: 2994490112.0000 - val_root_mean_squared_error: 54721.9336\n",
      "Epoch 2/50\n",
      "\u001b[1m6/6\u001b[0m \u001b[32m━━━━━━━━━━━━━━━━━━━━\u001b[0m\u001b[37m\u001b[0m \u001b[1m0s\u001b[0m 33ms/step - loss: 26580264960.0000 - root_mean_squared_error: 162864.8438 - val_loss: 2994487552.0000 - val_root_mean_squared_error: 54721.9102\n",
      "Epoch 3/50\n",
      "\u001b[1m6/6\u001b[0m \u001b[32m━━━━━━━━━━━━━━━━━━━━\u001b[0m\u001b[37m\u001b[0m \u001b[1m0s\u001b[0m 41ms/step - loss: 23574151168.0000 - root_mean_squared_error: 154101.7031 - val_loss: 2994484736.0000 - val_root_mean_squared_error: 54721.8867\n",
      "Epoch 4/50\n",
      "\u001b[1m6/6\u001b[0m \u001b[32m━━━━━━━━━━━━━━━━━━━━\u001b[0m\u001b[37m\u001b[0m \u001b[1m0s\u001b[0m 36ms/step - loss: 24788463616.0000 - root_mean_squared_error: 157589.9219 - val_loss: 2994482176.0000 - val_root_mean_squared_error: 54721.8633\n",
      "Epoch 5/50\n",
      "\u001b[1m6/6\u001b[0m \u001b[32m━━━━━━━━━━━━━━━━━━━━\u001b[0m\u001b[37m\u001b[0m \u001b[1m0s\u001b[0m 18ms/step - loss: 29313495040.0000 - root_mean_squared_error: 171161.0625 - val_loss: 2994479616.0000 - val_root_mean_squared_error: 54721.8398\n",
      "Epoch 6/50\n",
      "\u001b[1m6/6\u001b[0m \u001b[32m━━━━━━━━━━━━━━━━━━━━\u001b[0m\u001b[37m\u001b[0m \u001b[1m0s\u001b[0m 19ms/step - loss: 23236167680.0000 - root_mean_squared_error: 152444.2188 - val_loss: 2994476800.0000 - val_root_mean_squared_error: 54721.8125\n",
      "Epoch 7/50\n",
      "\u001b[1m6/6\u001b[0m \u001b[32m━━━━━━━━━━━━━━━━━━━━\u001b[0m\u001b[37m\u001b[0m \u001b[1m0s\u001b[0m 36ms/step - loss: 24397619200.0000 - root_mean_squared_error: 154802.9688 - val_loss: 2994473984.0000 - val_root_mean_squared_error: 54721.7852\n",
      "Epoch 8/50\n",
      "\u001b[1m6/6\u001b[0m \u001b[32m━━━━━━━━━━━━━━━━━━━━\u001b[0m\u001b[37m\u001b[0m \u001b[1m0s\u001b[0m 55ms/step - loss: 20008640512.0000 - root_mean_squared_error: 138886.3906 - val_loss: 2994471168.0000 - val_root_mean_squared_error: 54721.7617\n",
      "Epoch 9/50\n",
      "\u001b[1m6/6\u001b[0m \u001b[32m━━━━━━━━━━━━━━━━━━━━\u001b[0m\u001b[37m\u001b[0m \u001b[1m0s\u001b[0m 19ms/step - loss: 26239621120.0000 - root_mean_squared_error: 161795.9062 - val_loss: 2994468096.0000 - val_root_mean_squared_error: 54721.7344\n",
      "Epoch 10/50\n",
      "\u001b[1m6/6\u001b[0m \u001b[32m━━━━━━━━━━━━━━━━━━━━\u001b[0m\u001b[37m\u001b[0m \u001b[1m0s\u001b[0m 19ms/step - loss: 26060118016.0000 - root_mean_squared_error: 161088.8438 - val_loss: 2994465536.0000 - val_root_mean_squared_error: 54721.7109\n",
      "Epoch 11/50\n",
      "\u001b[1m6/6\u001b[0m \u001b[32m━━━━━━━━━━━━━━━━━━━━\u001b[0m\u001b[37m\u001b[0m \u001b[1m0s\u001b[0m 25ms/step - loss: 21223614464.0000 - root_mean_squared_error: 144682.9688 - val_loss: 2994462720.0000 - val_root_mean_squared_error: 54721.6836\n",
      "Epoch 12/50\n",
      "\u001b[1m6/6\u001b[0m \u001b[32m━━━━━━━━━━━━━━━━━━━━\u001b[0m\u001b[37m\u001b[0m \u001b[1m0s\u001b[0m 42ms/step - loss: 22841792512.0000 - root_mean_squared_error: 151252.7188 - val_loss: 2994459904.0000 - val_root_mean_squared_error: 54721.6602\n",
      "Epoch 13/50\n",
      "\u001b[1m6/6\u001b[0m \u001b[32m━━━━━━━━━━━━━━━━━━━━\u001b[0m\u001b[37m\u001b[0m \u001b[1m0s\u001b[0m 41ms/step - loss: 27884566528.0000 - root_mean_squared_error: 167612.3281 - val_loss: 2994457088.0000 - val_root_mean_squared_error: 54721.6328\n",
      "Epoch 14/50\n",
      "\u001b[1m6/6\u001b[0m \u001b[32m━━━━━━━━━━━━━━━━━━━━\u001b[0m\u001b[37m\u001b[0m \u001b[1m0s\u001b[0m 24ms/step - loss: 23500189696.0000 - root_mean_squared_error: 152865.2812 - val_loss: 2994454272.0000 - val_root_mean_squared_error: 54721.6055\n",
      "Epoch 15/50\n",
      "\u001b[1m6/6\u001b[0m \u001b[32m━━━━━━━━━━━━━━━━━━━━\u001b[0m\u001b[37m\u001b[0m \u001b[1m0s\u001b[0m 30ms/step - loss: 22379581440.0000 - root_mean_squared_error: 149746.8125 - val_loss: 2994451200.0000 - val_root_mean_squared_error: 54721.5781\n",
      "Epoch 16/50\n",
      "\u001b[1m6/6\u001b[0m \u001b[32m━━━━━━━━━━━━━━━━━━━━\u001b[0m\u001b[37m\u001b[0m \u001b[1m0s\u001b[0m 19ms/step - loss: 21613520896.0000 - root_mean_squared_error: 145636.8594 - val_loss: 2994448640.0000 - val_root_mean_squared_error: 54721.5547\n",
      "Epoch 17/50\n",
      "\u001b[1m6/6\u001b[0m \u001b[32m━━━━━━━━━━━━━━━━━━━━\u001b[0m\u001b[37m\u001b[0m \u001b[1m0s\u001b[0m 24ms/step - loss: 21875335168.0000 - root_mean_squared_error: 147112.8906 - val_loss: 2994445824.0000 - val_root_mean_squared_error: 54721.5312\n",
      "Epoch 18/50\n",
      "\u001b[1m6/6\u001b[0m \u001b[32m━━━━━━━━━━━━━━━━━━━━\u001b[0m\u001b[37m\u001b[0m \u001b[1m0s\u001b[0m 32ms/step - loss: 24507023360.0000 - root_mean_squared_error: 155812.1875 - val_loss: 2994443008.0000 - val_root_mean_squared_error: 54721.5039\n",
      "Epoch 19/50\n",
      "\u001b[1m6/6\u001b[0m \u001b[32m━━━━━━━━━━━━━━━━━━━━\u001b[0m\u001b[37m\u001b[0m \u001b[1m0s\u001b[0m 17ms/step - loss: 25612634112.0000 - root_mean_squared_error: 159091.4219 - val_loss: 2994439936.0000 - val_root_mean_squared_error: 54721.4766\n",
      "Epoch 20/50\n",
      "\u001b[1m6/6\u001b[0m \u001b[32m━━━━━━━━━━━━━━━━━━━━\u001b[0m\u001b[37m\u001b[0m \u001b[1m0s\u001b[0m 17ms/step - loss: 31273447424.0000 - root_mean_squared_error: 176717.9688 - val_loss: 2994437376.0000 - val_root_mean_squared_error: 54721.4531\n",
      "Epoch 21/50\n",
      "\u001b[1m6/6\u001b[0m \u001b[32m━━━━━━━━━━━━━━━━━━━━\u001b[0m\u001b[37m\u001b[0m \u001b[1m0s\u001b[0m 26ms/step - loss: 22877480960.0000 - root_mean_squared_error: 150839.8281 - val_loss: 2994434560.0000 - val_root_mean_squared_error: 54721.4258\n",
      "Epoch 22/50\n",
      "\u001b[1m6/6\u001b[0m \u001b[32m━━━━━━━━━━━━━━━━━━━━\u001b[0m\u001b[37m\u001b[0m \u001b[1m0s\u001b[0m 39ms/step - loss: 20117108736.0000 - root_mean_squared_error: 139717.8750 - val_loss: 2994431488.0000 - val_root_mean_squared_error: 54721.3984\n",
      "Epoch 23/50\n",
      "\u001b[1m6/6\u001b[0m \u001b[32m━━━━━━━━━━━━━━━━━━━━\u001b[0m\u001b[37m\u001b[0m \u001b[1m0s\u001b[0m 35ms/step - loss: 27696513024.0000 - root_mean_squared_error: 165931.3750 - val_loss: 2994428672.0000 - val_root_mean_squared_error: 54721.3750\n",
      "Epoch 24/50\n",
      "\u001b[1m6/6\u001b[0m \u001b[32m━━━━━━━━━━━━━━━━━━━━\u001b[0m\u001b[37m\u001b[0m \u001b[1m0s\u001b[0m 19ms/step - loss: 23159965696.0000 - root_mean_squared_error: 152198.0000 - val_loss: 2994425856.0000 - val_root_mean_squared_error: 54721.3477\n",
      "Epoch 25/50\n",
      "\u001b[1m6/6\u001b[0m \u001b[32m━━━━━━━━━━━━━━━━━━━━\u001b[0m\u001b[37m\u001b[0m \u001b[1m0s\u001b[0m 22ms/step - loss: 23102105600.0000 - root_mean_squared_error: 151444.0469 - val_loss: 2994423040.0000 - val_root_mean_squared_error: 54721.3203\n",
      "Epoch 26/50\n",
      "\u001b[1m6/6\u001b[0m \u001b[32m━━━━━━━━━━━━━━━━━━━━\u001b[0m\u001b[37m\u001b[0m \u001b[1m0s\u001b[0m 47ms/step - loss: 28055449600.0000 - root_mean_squared_error: 166843.3750 - val_loss: 2994419712.0000 - val_root_mean_squared_error: 54721.2930\n",
      "Epoch 27/50\n",
      "\u001b[1m6/6\u001b[0m \u001b[32m━━━━━━━━━━━━━━━━━━━━\u001b[0m\u001b[37m\u001b[0m \u001b[1m0s\u001b[0m 27ms/step - loss: 29522876416.0000 - root_mean_squared_error: 171858.6094 - val_loss: 2994417152.0000 - val_root_mean_squared_error: 54721.2695\n",
      "Epoch 28/50\n",
      "\u001b[1m6/6\u001b[0m \u001b[32m━━━━━━━━━━━━━━━━━━━━\u001b[0m\u001b[37m\u001b[0m \u001b[1m0s\u001b[0m 19ms/step - loss: 23805003776.0000 - root_mean_squared_error: 153532.2344 - val_loss: 2994414080.0000 - val_root_mean_squared_error: 54721.2383\n",
      "Epoch 29/50\n",
      "\u001b[1m6/6\u001b[0m \u001b[32m━━━━━━━━━━━━━━━━━━━━\u001b[0m\u001b[37m\u001b[0m \u001b[1m0s\u001b[0m 17ms/step - loss: 22871478272.0000 - root_mean_squared_error: 150844.2969 - val_loss: 2994410752.0000 - val_root_mean_squared_error: 54721.2109\n",
      "Epoch 30/50\n",
      "\u001b[1m6/6\u001b[0m \u001b[32m━━━━━━━━━━━━━━━━━━━━\u001b[0m\u001b[37m\u001b[0m \u001b[1m0s\u001b[0m 24ms/step - loss: 24055746560.0000 - root_mean_squared_error: 155349.7812 - val_loss: 2994407936.0000 - val_root_mean_squared_error: 54721.1836\n",
      "Epoch 31/50\n",
      "\u001b[1m6/6\u001b[0m \u001b[32m━━━━━━━━━━━━━━━━━━━━\u001b[0m\u001b[37m\u001b[0m \u001b[1m0s\u001b[0m 20ms/step - loss: 28781137920.0000 - root_mean_squared_error: 169808.0000 - val_loss: 2994405120.0000 - val_root_mean_squared_error: 54721.1562\n",
      "Epoch 32/50\n",
      "\u001b[1m6/6\u001b[0m \u001b[32m━━━━━━━━━━━━━━━━━━━━\u001b[0m\u001b[37m\u001b[0m \u001b[1m0s\u001b[0m 40ms/step - loss: 26226978816.0000 - root_mean_squared_error: 162239.6094 - val_loss: 2994402560.0000 - val_root_mean_squared_error: 54721.1328\n",
      "Epoch 33/50\n",
      "\u001b[1m6/6\u001b[0m \u001b[32m━━━━━━━━━━━━━━━━━━━━\u001b[0m\u001b[37m\u001b[0m \u001b[1m0s\u001b[0m 32ms/step - loss: 27455000576.0000 - root_mean_squared_error: 165892.6875 - val_loss: 2994399232.0000 - val_root_mean_squared_error: 54721.1055\n",
      "Epoch 34/50\n",
      "\u001b[1m6/6\u001b[0m \u001b[32m━━━━━━━━━━━━━━━━━━━━\u001b[0m\u001b[37m\u001b[0m \u001b[1m0s\u001b[0m 18ms/step - loss: 29185288192.0000 - root_mean_squared_error: 170477.1250 - val_loss: 2994396416.0000 - val_root_mean_squared_error: 54721.0781\n",
      "Epoch 35/50\n",
      "\u001b[1m6/6\u001b[0m \u001b[32m━━━━━━━━━━━━━━━━━━━━\u001b[0m\u001b[37m\u001b[0m \u001b[1m0s\u001b[0m 20ms/step - loss: 21648504832.0000 - root_mean_squared_error: 146186.5625 - val_loss: 2994393344.0000 - val_root_mean_squared_error: 54721.0508\n",
      "Epoch 36/50\n",
      "\u001b[1m6/6\u001b[0m \u001b[32m━━━━━━━━━━━━━━━━━━━━\u001b[0m\u001b[37m\u001b[0m \u001b[1m0s\u001b[0m 27ms/step - loss: 29334849536.0000 - root_mean_squared_error: 170291.5625 - val_loss: 2994390272.0000 - val_root_mean_squared_error: 54721.0234\n",
      "Epoch 37/50\n",
      "\u001b[1m6/6\u001b[0m \u001b[32m━━━━━━━━━━━━━━━━━━━━\u001b[0m\u001b[37m\u001b[0m \u001b[1m0s\u001b[0m 43ms/step - loss: 23520686080.0000 - root_mean_squared_error: 152171.2344 - val_loss: 2994387200.0000 - val_root_mean_squared_error: 54720.9961\n",
      "Epoch 38/50\n",
      "\u001b[1m6/6\u001b[0m \u001b[32m━━━━━━━━━━━━━━━━━━━━\u001b[0m\u001b[37m\u001b[0m \u001b[1m0s\u001b[0m 38ms/step - loss: 22621927424.0000 - root_mean_squared_error: 150550.7500 - val_loss: 2994384384.0000 - val_root_mean_squared_error: 54720.9688\n",
      "Epoch 39/50\n",
      "\u001b[1m6/6\u001b[0m \u001b[32m━━━━━━━━━━━━━━━━━━━━\u001b[0m\u001b[37m\u001b[0m \u001b[1m0s\u001b[0m 20ms/step - loss: 24484067328.0000 - root_mean_squared_error: 156609.6250 - val_loss: 2994381312.0000 - val_root_mean_squared_error: 54720.9414\n",
      "Epoch 40/50\n",
      "\u001b[1m6/6\u001b[0m \u001b[32m━━━━━━━━━━━━━━━━━━━━\u001b[0m\u001b[37m\u001b[0m \u001b[1m0s\u001b[0m 22ms/step - loss: 28572542976.0000 - root_mean_squared_error: 167029.4062 - val_loss: 2994378240.0000 - val_root_mean_squared_error: 54720.9141\n",
      "Epoch 41/50\n",
      "\u001b[1m6/6\u001b[0m \u001b[32m━━━━━━━━━━━━━━━━━━━━\u001b[0m\u001b[37m\u001b[0m \u001b[1m0s\u001b[0m 29ms/step - loss: 25883516928.0000 - root_mean_squared_error: 160424.0469 - val_loss: 2994375168.0000 - val_root_mean_squared_error: 54720.8828\n",
      "Epoch 42/50\n",
      "\u001b[1m6/6\u001b[0m \u001b[32m━━━━━━━━━━━━━━━━━━━━\u001b[0m\u001b[37m\u001b[0m \u001b[1m0s\u001b[0m 36ms/step - loss: 22666422272.0000 - root_mean_squared_error: 149744.1562 - val_loss: 2994372096.0000 - val_root_mean_squared_error: 54720.8555\n",
      "Epoch 43/50\n",
      "\u001b[1m6/6\u001b[0m \u001b[32m━━━━━━━━━━━━━━━━━━━━\u001b[0m\u001b[37m\u001b[0m \u001b[1m0s\u001b[0m 18ms/step - loss: 25474209792.0000 - root_mean_squared_error: 159814.0625 - val_loss: 2994369024.0000 - val_root_mean_squared_error: 54720.8281\n",
      "Epoch 44/50\n",
      "\u001b[1m6/6\u001b[0m \u001b[32m━━━━━━━━━━━━━━━━━━━━\u001b[0m\u001b[37m\u001b[0m \u001b[1m0s\u001b[0m 18ms/step - loss: 23621941248.0000 - root_mean_squared_error: 152520.0469 - val_loss: 2994365952.0000 - val_root_mean_squared_error: 54720.8008\n",
      "Epoch 45/50\n",
      "\u001b[1m6/6\u001b[0m \u001b[32m━━━━━━━━━━━━━━━━━━━━\u001b[0m\u001b[37m\u001b[0m \u001b[1m0s\u001b[0m 22ms/step - loss: 27082655744.0000 - root_mean_squared_error: 164709.5938 - val_loss: 2994363136.0000 - val_root_mean_squared_error: 54720.7734\n",
      "Epoch 46/50\n",
      "\u001b[1m6/6\u001b[0m \u001b[32m━━━━━━━━━━━━━━━━━━━━\u001b[0m\u001b[37m\u001b[0m \u001b[1m0s\u001b[0m 41ms/step - loss: 25244534784.0000 - root_mean_squared_error: 159505.6250 - val_loss: 2994359808.0000 - val_root_mean_squared_error: 54720.7422\n",
      "Epoch 47/50\n",
      "\u001b[1m6/6\u001b[0m \u001b[32m━━━━━━━━━━━━━━━━━━━━\u001b[0m\u001b[37m\u001b[0m \u001b[1m0s\u001b[0m 23ms/step - loss: 22703986688.0000 - root_mean_squared_error: 149673.6875 - val_loss: 2994356736.0000 - val_root_mean_squared_error: 54720.7148\n",
      "Epoch 48/50\n",
      "\u001b[1m6/6\u001b[0m \u001b[32m━━━━━━━━━━━━━━━━━━━━\u001b[0m\u001b[37m\u001b[0m \u001b[1m0s\u001b[0m 18ms/step - loss: 21857658880.0000 - root_mean_squared_error: 147399.3281 - val_loss: 2994353408.0000 - val_root_mean_squared_error: 54720.6836\n",
      "Epoch 49/50\n",
      "\u001b[1m6/6\u001b[0m \u001b[32m━━━━━━━━━━━━━━━━━━━━\u001b[0m\u001b[37m\u001b[0m \u001b[1m0s\u001b[0m 18ms/step - loss: 21462716416.0000 - root_mean_squared_error: 145616.4219 - val_loss: 2994350592.0000 - val_root_mean_squared_error: 54720.6602\n",
      "Epoch 50/50\n",
      "\u001b[1m6/6\u001b[0m \u001b[32m━━━━━━━━━━━━━━━━━━━━\u001b[0m\u001b[37m\u001b[0m \u001b[1m0s\u001b[0m 26ms/step - loss: 25401679872.0000 - root_mean_squared_error: 159164.7656 - val_loss: 2994347520.0000 - val_root_mean_squared_error: 54720.6328\n"
     ]
    },
    {
     "data": {
      "text/plain": [
       "<keras.src.callbacks.history.History at 0x20067bc1890>"
      ]
     },
     "execution_count": 40,
     "metadata": {},
     "output_type": "execute_result"
    }
   ],
   "source": [
    "model1.fit(X_train1, y_train1, validation_data=(X_val1, y_val1), epochs=50, callbacks=[cp1])"
   ]
  },
  {
   "cell_type": "code",
   "execution_count": 41,
   "metadata": {},
   "outputs": [],
   "source": [
    "from tensorflow.keras.models import load_model\n",
    "model1 = load_model('model1/a.keras')"
   ]
  },
  {
   "cell_type": "code",
   "execution_count": 42,
   "metadata": {},
   "outputs": [
    {
     "name": "stdout",
     "output_type": "stream",
     "text": [
      "\u001b[1m6/6\u001b[0m \u001b[32m━━━━━━━━━━━━━━━━━━━━\u001b[0m\u001b[37m\u001b[0m \u001b[1m1s\u001b[0m 63ms/step\n"
     ]
    },
    {
     "data": {
      "text/html": [
       "<div>\n",
       "<style scoped>\n",
       "    .dataframe tbody tr th:only-of-type {\n",
       "        vertical-align: middle;\n",
       "    }\n",
       "\n",
       "    .dataframe tbody tr th {\n",
       "        vertical-align: top;\n",
       "    }\n",
       "\n",
       "    .dataframe thead th {\n",
       "        text-align: right;\n",
       "    }\n",
       "</style>\n",
       "<table border=\"1\" class=\"dataframe\">\n",
       "  <thead>\n",
       "    <tr style=\"text-align: right;\">\n",
       "      <th></th>\n",
       "      <th>Train Predictions</th>\n",
       "      <th>Actuals</th>\n",
       "    </tr>\n",
       "  </thead>\n",
       "  <tbody>\n",
       "    <tr>\n",
       "      <th>0</th>\n",
       "      <td>2.876854</td>\n",
       "      <td>22263.02</td>\n",
       "    </tr>\n",
       "    <tr>\n",
       "      <th>1</th>\n",
       "      <td>2.876854</td>\n",
       "      <td>67341.79</td>\n",
       "    </tr>\n",
       "    <tr>\n",
       "      <th>2</th>\n",
       "      <td>2.876854</td>\n",
       "      <td>11881.08</td>\n",
       "    </tr>\n",
       "    <tr>\n",
       "      <th>3</th>\n",
       "      <td>2.876854</td>\n",
       "      <td>14745.91</td>\n",
       "    </tr>\n",
       "    <tr>\n",
       "      <th>4</th>\n",
       "      <td>2.876854</td>\n",
       "      <td>12499.00</td>\n",
       "    </tr>\n",
       "    <tr>\n",
       "      <th>...</th>\n",
       "      <td>...</td>\n",
       "      <td>...</td>\n",
       "    </tr>\n",
       "    <tr>\n",
       "      <th>175</th>\n",
       "      <td>2.876854</td>\n",
       "      <td>45764.83</td>\n",
       "    </tr>\n",
       "    <tr>\n",
       "      <th>176</th>\n",
       "      <td>2.876854</td>\n",
       "      <td>80263.65</td>\n",
       "    </tr>\n",
       "    <tr>\n",
       "      <th>177</th>\n",
       "      <td>2.876854</td>\n",
       "      <td>95778.07</td>\n",
       "    </tr>\n",
       "    <tr>\n",
       "      <th>178</th>\n",
       "      <td>2.876854</td>\n",
       "      <td>66450.44</td>\n",
       "    </tr>\n",
       "    <tr>\n",
       "      <th>179</th>\n",
       "      <td>2.876854</td>\n",
       "      <td>44067.69</td>\n",
       "    </tr>\n",
       "  </tbody>\n",
       "</table>\n",
       "<p>180 rows × 2 columns</p>\n",
       "</div>"
      ],
      "text/plain": [
       "     Train Predictions   Actuals\n",
       "0             2.876854  22263.02\n",
       "1             2.876854  67341.79\n",
       "2             2.876854  11881.08\n",
       "3             2.876854  14745.91\n",
       "4             2.876854  12499.00\n",
       "..                 ...       ...\n",
       "175           2.876854  45764.83\n",
       "176           2.876854  80263.65\n",
       "177           2.876854  95778.07\n",
       "178           2.876854  66450.44\n",
       "179           2.876854  44067.69\n",
       "\n",
       "[180 rows x 2 columns]"
      ]
     },
     "execution_count": 42,
     "metadata": {},
     "output_type": "execute_result"
    }
   ],
   "source": [
    "train_predictions = model1.predict(X_train1).flatten()\n",
    "train_results = pd.DataFrame(data={'Train Predictions':train_predictions, 'Actuals':y_train1})\n",
    "train_results"
   ]
  },
  {
   "cell_type": "code",
   "execution_count": 43,
   "metadata": {},
   "outputs": [
    {
     "data": {
      "text/plain": [
       "[<matplotlib.lines.Line2D at 0x20068c980d0>]"
      ]
     },
     "execution_count": 43,
     "metadata": {},
     "output_type": "execute_result"
    },
    {
     "data": {
      "image/png": "[encoded data removed]",
      "text/plain": [
       "<Figure size 640x480 with 1 Axes>"
      ]
     },
     "metadata": {},
     "output_type": "display_data"
    }
   ],
   "source": [
    "import matplotlib.pyplot as plt\n",
    "plt.plot(train_results['Train Predictions'][50:100])\n",
    "plt.plot(train_results['Actuals'][50:100])"
   ]
  },
  {
   "cell_type": "code",
   "execution_count": null,
   "metadata": {},
   "outputs": [],
   "source": []
  }
 ],
 "metadata": {
  "kernelspec": {
   "display_name": "intern",
   "language": "python",
   "name": "python3"
  },
  "language_info": {
   "codemirror_mode": {
    "name": "ipython",
    "version": 3
   },
   "file_extension": ".py",
   "mimetype": "text/x-python",
   "name": "python",
   "nbconvert_exporter": "python",
   "pygments_lexer": "ipython3",
   "version": "3.11.8"
  }
 },
 "nbformat": 4,
 "nbformat_minor": 2
}
