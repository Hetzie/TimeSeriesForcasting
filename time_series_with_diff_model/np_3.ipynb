{
 "cells": [
  {
   "cell_type": "code",
   "execution_count": 1,
   "metadata": {},
   "outputs": [
    {
     "name": "stderr",
     "output_type": "stream",
     "text": [
      "c:\\Miniconda3\\envs\\intern\\Lib\\site-packages\\tqdm\\auto.py:21: TqdmWarning: IProgress not found. Please update jupyter and ipywidgets. See https://ipywidgets.readthedocs.io/en/stable/user_install.html\n",
      "  from .autonotebook import tqdm as notebook_tqdm\n",
      "Importing plotly failed. Interactive plots will not work.\n",
      "Importing plotly failed. Interactive plots will not work.\n"
     ]
    }
   ],
   "source": [
    "# Imports\n",
    "import pandas as pd\n",
    "import numpy as np\n",
    "import matplotlib.pyplot as plt\n",
    "import seaborn as sns\n",
    "import datetime\n",
    "\n",
    "\n",
    "from statsmodels.tsa.seasonal import seasonal_decompose\n",
    "\n",
    "from neuralprophet import NeuralProphet\n",
    "\n",
    "#To mute Warnings\n",
    "import warnings\n",
    "warnings.filterwarnings(\"ignore\")"
   ]
  },
  {
   "cell_type": "code",
   "execution_count": 2,
   "metadata": {},
   "outputs": [],
   "source": [
    "# Weekly\n",
    "df_w_2020_23 = pd.read_csv('./data/VolumeDataset_2020_to_2023.csv')\n",
    "\n",
    "# Monthly\n",
    "df_m_2020_23 = pd.read_csv('./data/Month_clean_data.csv')\n"
   ]
  },
  {
   "cell_type": "code",
   "execution_count": 3,
   "metadata": {},
   "outputs": [],
   "source": [
    "#  Made Date index column \n",
    "dates = df_w_2020_23.Year*100+df_w_2020_23.Week\n",
    "df_w_2020_23['Date'] = pd.to_datetime(dates.astype(str) + '0', format='%Y%W%w')\n",
    "df_w_2020_23 = df_w_2020_23.set_index('Date')\n",
    "\n",
    "df_m_2020_23 = df_m_2020_23.set_index('Date')"
   ]
  },
  {
   "cell_type": "code",
   "execution_count": 5,
   "metadata": {},
   "outputs": [
    {
     "data": {
      "text/plain": [
       "210"
      ]
     },
     "execution_count": 5,
     "metadata": {},
     "output_type": "execute_result"
    }
   ],
   "source": [
    "len(df_w_2020_23)"
   ]
  },
  {
   "cell_type": "markdown",
   "metadata": {},
   "source": [
    "# Neural Prpphet Prediction (Weekly)\n",
    "    - N2 (High Varience/ High Mean)\n",
    "\n",
    "total data - jan 2020 to july 2022 (datapoints : 133 weeks)\n",
    "train data - 123 week, test data - 10 weeks\n",
    "\n",
    "train data -> jan 2020 1 week\n",
    "\n",
    "1. with delhi temperature \n",
    "                                        MAE                            RMSE                    Loss\n",
    " - train error (epoch 500)            : -----42450.78       |          56330.3            |  0.028651\n",
    " - train error (epoch 700)            : ---40582.9          |          54316.3            |  0.028030\n",
    " - train error (epoch 850)            : ----40830.4  -      |          54100.7            |  0.028030\n",
    " - train error (epoch 1000)           : --40277.03          |          53887.9            |  0.026970\n",
    " - train error (epoch 1500)           : -39887.64           |          53760.6            |  0.026780\n",
    "                           \n",
    " - test error till 9 week(epoch 500)  : ----60218           |           70890             |\n",
    " - test error till 9 week(epoch 700)  : -54077              |         70855               |\n",
    " - test error till 9 week(epoch 850)  : --56610  -          |         71499               |\n",
    " - test error till 9 week(epoch 1000) : ---57762            |         72550               |\n",
    " - test error till 9 week(epoch 1500) : -----76965          |         97565               | \n",
    "                            \n",
    " - test error till 10 week(epoch 500) : --54776             |         65476               |\n",
    " - test error till 10 week(epoch 700) : ----64414           |         89292               | \n",
    " - test error till 10 week(epoch 850) : ---61874    -       |         87200               | \n",
    " - test error till 10 week(epoch 1000): -52364              |         73819               | \n",
    " - test error till 10 week(epoch 1500): -----68142          |         88067               |\n",
    "\n",
    " test mae max -> 1500 epoch\n",
    " train mae max -> 500 epoch\n",
    "\n",
    "2. with delhi, laknow and rajasthan temperature (epoch 850)\n",
    "\n",
    " mean of N2 -> 183538.5\n",
    "\n",
    " - train error (epoch 850)            : 39998.17 (21.79%)  | 52987.793 | 0.027382\n",
    " - test error till 9 week             : 37568 (20.47%)    | 51439     |\n",
    " - test error till 10 week            : 51082 (27.83%)    | 68357     |\n",
    "\n",
    "\n"
   ]
  }
 ],
 "metadata": {
  "kernelspec": {
   "display_name": "intern",
   "language": "python",
   "name": "python3"
  },
  "language_info": {
   "codemirror_mode": {
    "name": "ipython",
    "version": 3
   },
   "file_extension": ".py",
   "mimetype": "text/x-python",
   "name": "python",
   "nbconvert_exporter": "python",
   "pygments_lexer": "ipython3",
   "version": "3.11.8"
  }
 },
 "nbformat": 4,
 "nbformat_minor": 2
}
