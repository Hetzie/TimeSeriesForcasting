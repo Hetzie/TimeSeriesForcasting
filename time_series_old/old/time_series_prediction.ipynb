{
 "cells": [
  {
   "cell_type": "code",
   "execution_count": 2,
   "metadata": {},
   "outputs": [],
   "source": [
    "import pandas as pd\n",
    "import numpy as np\n",
    "import matplotlib.pyplot as plt\n",
    "import seaborn as sns\n",
    "import statsmodels.api as sm"
   ]
  },
  {
   "cell_type": "code",
   "execution_count": 3,
   "metadata": {},
   "outputs": [
    {
     "name": "stderr",
     "output_type": "stream",
     "text": [
      "c:\\Miniconda3\\envs\\intern\\Lib\\site-packages\\tqdm\\auto.py:21: TqdmWarning: IProgress not found. Please update jupyter and ipywidgets. See https://ipywidgets.readthedocs.io/en/stable/user_install.html\n",
      "  from .autonotebook import tqdm as notebook_tqdm\n",
      "Importing plotly failed. Interactive plots will not work.\n",
      "Importing plotly failed. Interactive plots will not work.\n"
     ]
    }
   ],
   "source": [
    "from neuralprophet import NeuralProphet"
   ]
  },
  {
   "cell_type": "code",
   "execution_count": 4,
   "metadata": {},
   "outputs": [
    {
     "data": {
      "text/html": [
       "<div>\n",
       "<style scoped>\n",
       "    .dataframe tbody tr th:only-of-type {\n",
       "        vertical-align: middle;\n",
       "    }\n",
       "\n",
       "    .dataframe tbody tr th {\n",
       "        vertical-align: top;\n",
       "    }\n",
       "\n",
       "    .dataframe thead th {\n",
       "        text-align: right;\n",
       "    }\n",
       "</style>\n",
       "<table border=\"1\" class=\"dataframe\">\n",
       "  <thead>\n",
       "    <tr style=\"text-align: right;\">\n",
       "      <th></th>\n",
       "      <th>Date</th>\n",
       "      <th>A1</th>\n",
       "      <th>A2</th>\n",
       "      <th>E1</th>\n",
       "      <th>E2</th>\n",
       "      <th>N1</th>\n",
       "      <th>N2</th>\n",
       "      <th>N3</th>\n",
       "      <th>S1</th>\n",
       "      <th>S2</th>\n",
       "      <th>S3</th>\n",
       "      <th>W1</th>\n",
       "      <th>W2</th>\n",
       "      <th>W3</th>\n",
       "      <th>Cleared Volume</th>\n",
       "      <th>MCV</th>\n",
       "    </tr>\n",
       "  </thead>\n",
       "  <tbody>\n",
       "    <tr>\n",
       "      <th>0</th>\n",
       "      <td>23-06-2023</td>\n",
       "      <td>22.05</td>\n",
       "      <td>333.54</td>\n",
       "      <td>-</td>\n",
       "      <td>179.5</td>\n",
       "      <td>1574.88</td>\n",
       "      <td>11021.46</td>\n",
       "      <td>33544.27</td>\n",
       "      <td>8508.69</td>\n",
       "      <td>3637.10</td>\n",
       "      <td>4718.86</td>\n",
       "      <td>862.55</td>\n",
       "      <td>73407.61</td>\n",
       "      <td>5.18</td>\n",
       "      <td>147806.44</td>\n",
       "      <td>147806.44</td>\n",
       "    </tr>\n",
       "    <tr>\n",
       "      <th>1</th>\n",
       "      <td>14-01-2022</td>\n",
       "      <td>-</td>\n",
       "      <td>1137.96</td>\n",
       "      <td>-</td>\n",
       "      <td>2657.39</td>\n",
       "      <td>-</td>\n",
       "      <td>23.47</td>\n",
       "      <td>41.23</td>\n",
       "      <td>155.09</td>\n",
       "      <td>271.82</td>\n",
       "      <td>178.26</td>\n",
       "      <td>-</td>\n",
       "      <td>2279.65</td>\n",
       "      <td>-</td>\n",
       "      <td>7744.77</td>\n",
       "      <td>7744.77</td>\n",
       "    </tr>\n",
       "    <tr>\n",
       "      <th>2</th>\n",
       "      <td>19-07-2022</td>\n",
       "      <td>-</td>\n",
       "      <td>983.86</td>\n",
       "      <td>-</td>\n",
       "      <td>665.57</td>\n",
       "      <td>2.50</td>\n",
       "      <td>2042.43</td>\n",
       "      <td>-</td>\n",
       "      <td>389.75</td>\n",
       "      <td>57.77</td>\n",
       "      <td>-</td>\n",
       "      <td>-</td>\n",
       "      <td>4098.83</td>\n",
       "      <td>454.78</td>\n",
       "      <td>9694.26</td>\n",
       "      <td>9694.26</td>\n",
       "    </tr>\n",
       "    <tr>\n",
       "      <th>3</th>\n",
       "      <td>15-01-2022</td>\n",
       "      <td>-</td>\n",
       "      <td>1036.35</td>\n",
       "      <td>-</td>\n",
       "      <td>2858.61</td>\n",
       "      <td>-</td>\n",
       "      <td>26.60</td>\n",
       "      <td>52.88</td>\n",
       "      <td>180.51</td>\n",
       "      <td>27.20</td>\n",
       "      <td>118.34</td>\n",
       "      <td>-</td>\n",
       "      <td>2328.81</td>\n",
       "      <td>-</td>\n",
       "      <td>7625.66</td>\n",
       "      <td>7625.66</td>\n",
       "    </tr>\n",
       "    <tr>\n",
       "      <th>4</th>\n",
       "      <td>04-03-2021</td>\n",
       "      <td>-</td>\n",
       "      <td>1060.72</td>\n",
       "      <td>-</td>\n",
       "      <td>286.12</td>\n",
       "      <td>18011.60</td>\n",
       "      <td>22951.03</td>\n",
       "      <td>1700.00</td>\n",
       "      <td>69651.70</td>\n",
       "      <td>10049.53</td>\n",
       "      <td>576.72</td>\n",
       "      <td>2687.90</td>\n",
       "      <td>61490.92</td>\n",
       "      <td>5680.00</td>\n",
       "      <td>195142.31</td>\n",
       "      <td>197380.93</td>\n",
       "    </tr>\n",
       "  </tbody>\n",
       "</table>\n",
       "</div>"
      ],
      "text/plain": [
       "         Date     A1       A2 E1       E2        N1        N2        N3  \\\n",
       "0  23-06-2023  22.05   333.54  -    179.5   1574.88  11021.46  33544.27   \n",
       "1  14-01-2022      -  1137.96  -  2657.39         -     23.47     41.23   \n",
       "2  19-07-2022      -   983.86  -   665.57      2.50   2042.43         -   \n",
       "3  15-01-2022      -  1036.35  -  2858.61         -     26.60     52.88   \n",
       "4  04-03-2021      -  1060.72  -   286.12  18011.60  22951.03   1700.00   \n",
       "\n",
       "         S1        S2       S3       W1        W2       W3 Cleared Volume  \\\n",
       "0   8508.69   3637.10  4718.86   862.55  73407.61     5.18      147806.44   \n",
       "1    155.09    271.82   178.26        -   2279.65        -        7744.77   \n",
       "2    389.75     57.77        -        -   4098.83   454.78        9694.26   \n",
       "3    180.51     27.20   118.34        -   2328.81        -        7625.66   \n",
       "4  69651.70  10049.53   576.72  2687.90  61490.92  5680.00      195142.31   \n",
       "\n",
       "         MCV  \n",
       "0  147806.44  \n",
       "1    7744.77  \n",
       "2    9694.26  \n",
       "3    7625.66  \n",
       "4  197380.93  "
      ]
     },
     "execution_count": 4,
     "metadata": {},
     "output_type": "execute_result"
    }
   ],
   "source": [
    "df = pd.read_excel('../daily_data_2021_to_2023.xlsx')\n",
    "df.head()"
   ]
  },
  {
   "cell_type": "code",
   "execution_count": 24,
   "metadata": {},
   "outputs": [
    {
     "data": {
      "text/html": [
       "<div>\n",
       "<style scoped>\n",
       "    .dataframe tbody tr th:only-of-type {\n",
       "        vertical-align: middle;\n",
       "    }\n",
       "\n",
       "    .dataframe tbody tr th {\n",
       "        vertical-align: top;\n",
       "    }\n",
       "\n",
       "    .dataframe thead th {\n",
       "        text-align: right;\n",
       "    }\n",
       "</style>\n",
       "<table border=\"1\" class=\"dataframe\">\n",
       "  <thead>\n",
       "    <tr style=\"text-align: right;\">\n",
       "      <th></th>\n",
       "      <th>Date</th>\n",
       "      <th>A1</th>\n",
       "      <th>A2</th>\n",
       "      <th>E1</th>\n",
       "      <th>E2</th>\n",
       "      <th>N1</th>\n",
       "      <th>N2</th>\n",
       "      <th>N3</th>\n",
       "      <th>S1</th>\n",
       "      <th>S2</th>\n",
       "      <th>S3</th>\n",
       "      <th>W1</th>\n",
       "      <th>W2</th>\n",
       "      <th>W3</th>\n",
       "      <th>Cleared Volume</th>\n",
       "      <th>MCV</th>\n",
       "    </tr>\n",
       "  </thead>\n",
       "  <tbody>\n",
       "    <tr>\n",
       "      <th>0</th>\n",
       "      <td>2021-01-01</td>\n",
       "      <td>605.02</td>\n",
       "      <td>1726.52</td>\n",
       "      <td>13618.92</td>\n",
       "      <td>468.38</td>\n",
       "      <td>21401.74</td>\n",
       "      <td>24508.57</td>\n",
       "      <td>2400.0</td>\n",
       "      <td>60931.20</td>\n",
       "      <td>9387.48</td>\n",
       "      <td>540.80</td>\n",
       "      <td>3249.30</td>\n",
       "      <td>35848.57</td>\n",
       "      <td>6105.0</td>\n",
       "      <td>172509.52</td>\n",
       "      <td>172509.52</td>\n",
       "    </tr>\n",
       "    <tr>\n",
       "      <th>1</th>\n",
       "      <td>2021-01-02</td>\n",
       "      <td>196.68</td>\n",
       "      <td>1564.11</td>\n",
       "      <td>13877.54</td>\n",
       "      <td>216.00</td>\n",
       "      <td>26037.07</td>\n",
       "      <td>28410.74</td>\n",
       "      <td>NaN</td>\n",
       "      <td>57619.45</td>\n",
       "      <td>13055.97</td>\n",
       "      <td>483.60</td>\n",
       "      <td>2261.28</td>\n",
       "      <td>40121.49</td>\n",
       "      <td>6360.0</td>\n",
       "      <td>181722.80</td>\n",
       "      <td>181722.80</td>\n",
       "    </tr>\n",
       "    <tr>\n",
       "      <th>2</th>\n",
       "      <td>2021-01-03</td>\n",
       "      <td>236.21</td>\n",
       "      <td>1798.70</td>\n",
       "      <td>11257.11</td>\n",
       "      <td>411.94</td>\n",
       "      <td>26628.81</td>\n",
       "      <td>27061.66</td>\n",
       "      <td>NaN</td>\n",
       "      <td>51113.54</td>\n",
       "      <td>13176.51</td>\n",
       "      <td>697.16</td>\n",
       "      <td>2672.50</td>\n",
       "      <td>46251.51</td>\n",
       "      <td>2715.0</td>\n",
       "      <td>177161.26</td>\n",
       "      <td>177161.26</td>\n",
       "    </tr>\n",
       "    <tr>\n",
       "      <th>3</th>\n",
       "      <td>2021-01-04</td>\n",
       "      <td>127.75</td>\n",
       "      <td>2009.93</td>\n",
       "      <td>12141.87</td>\n",
       "      <td>372.25</td>\n",
       "      <td>28270.30</td>\n",
       "      <td>15970.95</td>\n",
       "      <td>NaN</td>\n",
       "      <td>53456.41</td>\n",
       "      <td>15575.81</td>\n",
       "      <td>755.58</td>\n",
       "      <td>2702.25</td>\n",
       "      <td>59565.27</td>\n",
       "      <td>2225.0</td>\n",
       "      <td>185698.56</td>\n",
       "      <td>185698.56</td>\n",
       "    </tr>\n",
       "    <tr>\n",
       "      <th>4</th>\n",
       "      <td>2021-01-05</td>\n",
       "      <td>165.57</td>\n",
       "      <td>1833.25</td>\n",
       "      <td>11929.75</td>\n",
       "      <td>292.70</td>\n",
       "      <td>22619.43</td>\n",
       "      <td>22700.87</td>\n",
       "      <td>NaN</td>\n",
       "      <td>64673.62</td>\n",
       "      <td>15496.28</td>\n",
       "      <td>677.17</td>\n",
       "      <td>2643.65</td>\n",
       "      <td>52591.89</td>\n",
       "      <td>1875.0</td>\n",
       "      <td>190205.91</td>\n",
       "      <td>190205.90</td>\n",
       "    </tr>\n",
       "  </tbody>\n",
       "</table>\n",
       "</div>"
      ],
      "text/plain": [
       "        Date      A1       A2        E1      E2        N1        N2      N3  \\\n",
       "0 2021-01-01  605.02  1726.52  13618.92  468.38  21401.74  24508.57  2400.0   \n",
       "1 2021-01-02  196.68  1564.11  13877.54  216.00  26037.07  28410.74     NaN   \n",
       "2 2021-01-03  236.21  1798.70  11257.11  411.94  26628.81  27061.66     NaN   \n",
       "3 2021-01-04  127.75  2009.93  12141.87  372.25  28270.30  15970.95     NaN   \n",
       "4 2021-01-05  165.57  1833.25  11929.75  292.70  22619.43  22700.87     NaN   \n",
       "\n",
       "         S1        S2      S3       W1        W2      W3  Cleared Volume  \\\n",
       "0  60931.20   9387.48  540.80  3249.30  35848.57  6105.0       172509.52   \n",
       "1  57619.45  13055.97  483.60  2261.28  40121.49  6360.0       181722.80   \n",
       "2  51113.54  13176.51  697.16  2672.50  46251.51  2715.0       177161.26   \n",
       "3  53456.41  15575.81  755.58  2702.25  59565.27  2225.0       185698.56   \n",
       "4  64673.62  15496.28  677.17  2643.65  52591.89  1875.0       190205.91   \n",
       "\n",
       "         MCV  \n",
       "0  172509.52  \n",
       "1  181722.80  \n",
       "2  177161.26  \n",
       "3  185698.56  \n",
       "4  190205.90  "
      ]
     },
     "execution_count": 24,
     "metadata": {},
     "output_type": "execute_result"
    }
   ],
   "source": [
    "df['Date'] = pd.to_datetime(df['Date'],format='%d-%m-%Y')\n",
    "df.sort_values(by='Date', inplace=True)\n",
    "df.reset_index(inplace=True, drop=True)\n",
    "df.drop('index', inplace=True, axis=1)\n",
    "df.head()"
   ]
  },
  {
   "cell_type": "code",
   "execution_count": 6,
   "metadata": {},
   "outputs": [],
   "source": [
    "for col in  df.columns[1:]:\n",
    "    df[col] = pd.to_numeric(df[col], errors='coerce')"
   ]
  },
  {
   "cell_type": "code",
   "execution_count": 7,
   "metadata": {},
   "outputs": [
    {
     "data": {
      "text/plain": [
       "Date              datetime64[ns]\n",
       "A1                       float64\n",
       "A2                       float64\n",
       "E1                       float64\n",
       "E2                       float64\n",
       "N1                       float64\n",
       "N2                       float64\n",
       "N3                       float64\n",
       "S1                       float64\n",
       "S2                       float64\n",
       "S3                       float64\n",
       "W1                       float64\n",
       "W2                       float64\n",
       "W3                       float64\n",
       "Cleared Volume           float64\n",
       "MCV                      float64\n",
       "dtype: object"
      ]
     },
     "execution_count": 7,
     "metadata": {},
     "output_type": "execute_result"
    }
   ],
   "source": [
    "df.dtypes"
   ]
  },
  {
   "cell_type": "code",
   "execution_count": 8,
   "metadata": {},
   "outputs": [
    {
     "data": {
      "text/plain": [
       "<Axes: >"
      ]
     },
     "execution_count": 8,
     "metadata": {},
     "output_type": "execute_result"
    },
    {
     "data": {
      "image/png": "[encoded data removed]",
      "text/plain": [
       "<Figure size 640x480 with 1 Axes>"
      ]
     },
     "metadata": {},
     "output_type": "display_data"
    }
   ],
   "source": [
    "pd.concat([df.iloc[:, 1:-2].std().rename(\"SD\"), df.iloc[:, 1:-2].mean().rename(\"Mean\")],axis=1).plot.bar()"
   ]
  },
  {
   "cell_type": "code",
   "execution_count": 8,
   "metadata": {},
   "outputs": [],
   "source": [
    "e1_ts = df[\"E1\"] # Highest demand and Highest varience\n",
    "# Areas near E1 -> A2, N2, W3, E2 (To see if there is an offset -> When demand increase or decrease in e1...depend on another region demand)\n",
    "a2_ts = df[\"A2\"]\n",
    "n2_ts = df[\"N2\"]\n",
    "w3_ts = df[\"W3\"]\n",
    "e2_ts = df[\"E2\"]\n",
    "\n",
    " \n",
    "\n",
    "\n",
    "w3_ts = df[\"W3\"]"
   ]
  },
  {
   "cell_type": "code",
   "execution_count": 9,
   "metadata": {},
   "outputs": [
    {
     "data": {
      "image/png": "[encoded data removed]",
      "text/plain": [
       "<Figure size 1600x1000 with 2 Axes>"
      ]
     },
     "metadata": {},
     "output_type": "display_data"
    }
   ],
   "source": [
    "# Trend Line of e1 each year\n",
    "count = 0\n",
    "window = 30\n",
    "fig, ax = plt.subplots(nrows=2, ncols=1, figsize=(16,10))\n",
    "for area in [\"E1\", \"A2\"]:\n",
    "    ax[count].plot(list(range(1,365)),df.loc[0:363, area].rolling(window=window, center=False).mean(), label='2021')\n",
    "    ax[count].plot(list(range(1,365)),df.loc[365:365*2-2, area].rolling(window=window, center=False).mean(), label='2022')\n",
    "    ax[count].plot(list(range(1,366)),df.loc[(365*2):, area].rolling(window=window, center=False).mean(), label='2023')\n",
    "    # ax[count].plot(list(range(1,54)), df.loc[0:52, area], label=\"2020\")\n",
    "    # ax[count].plot(list(range(1,54)), df.loc[53:53+52, area], label=\"2021\")\n",
    "    # ax[count].plot(list(range(1,54)), df.loc[53*2:(53*2)+52, area], label=\"2022\")\n",
    "    # ax[count].plot(list(range(1,52)), df.loc[(53*3):, area], label=\"2023\")\n",
    "    ax[count].legend()\n",
    "    ax[count].set_title(f'Rolling Mean {area}')\n",
    "    count+=1"
   ]
  },
  {
   "cell_type": "code",
   "execution_count": 25,
   "metadata": {},
   "outputs": [
    {
     "data": {
      "text/html": [
       "<div>\n",
       "<style scoped>\n",
       "    .dataframe tbody tr th:only-of-type {\n",
       "        vertical-align: middle;\n",
       "    }\n",
       "\n",
       "    .dataframe tbody tr th {\n",
       "        vertical-align: top;\n",
       "    }\n",
       "\n",
       "    .dataframe thead th {\n",
       "        text-align: right;\n",
       "    }\n",
       "</style>\n",
       "<table border=\"1\" class=\"dataframe\">\n",
       "  <thead>\n",
       "    <tr style=\"text-align: right;\">\n",
       "      <th></th>\n",
       "      <th>ds</th>\n",
       "      <th>y</th>\n",
       "    </tr>\n",
       "  </thead>\n",
       "  <tbody>\n",
       "    <tr>\n",
       "      <th>0</th>\n",
       "      <td>2021-01-01</td>\n",
       "      <td>13618.92</td>\n",
       "    </tr>\n",
       "    <tr>\n",
       "      <th>1</th>\n",
       "      <td>2021-01-02</td>\n",
       "      <td>13877.54</td>\n",
       "    </tr>\n",
       "    <tr>\n",
       "      <th>2</th>\n",
       "      <td>2021-01-03</td>\n",
       "      <td>11257.11</td>\n",
       "    </tr>\n",
       "    <tr>\n",
       "      <th>3</th>\n",
       "      <td>2021-01-04</td>\n",
       "      <td>12141.87</td>\n",
       "    </tr>\n",
       "    <tr>\n",
       "      <th>4</th>\n",
       "      <td>2021-01-05</td>\n",
       "      <td>11929.75</td>\n",
       "    </tr>\n",
       "    <tr>\n",
       "      <th>...</th>\n",
       "      <td>...</td>\n",
       "      <td>...</td>\n",
       "    </tr>\n",
       "    <tr>\n",
       "      <th>1090</th>\n",
       "      <td>2023-12-27</td>\n",
       "      <td>1204.01</td>\n",
       "    </tr>\n",
       "    <tr>\n",
       "      <th>1091</th>\n",
       "      <td>2023-12-28</td>\n",
       "      <td>1411.00</td>\n",
       "    </tr>\n",
       "    <tr>\n",
       "      <th>1092</th>\n",
       "      <td>2023-12-29</td>\n",
       "      <td>1487.47</td>\n",
       "    </tr>\n",
       "    <tr>\n",
       "      <th>1093</th>\n",
       "      <td>2023-12-30</td>\n",
       "      <td>1441.90</td>\n",
       "    </tr>\n",
       "    <tr>\n",
       "      <th>1094</th>\n",
       "      <td>2023-12-31</td>\n",
       "      <td>1888.31</td>\n",
       "    </tr>\n",
       "  </tbody>\n",
       "</table>\n",
       "<p>1095 rows × 2 columns</p>\n",
       "</div>"
      ],
      "text/plain": [
       "             ds         y\n",
       "0    2021-01-01  13618.92\n",
       "1    2021-01-02  13877.54\n",
       "2    2021-01-03  11257.11\n",
       "3    2021-01-04  12141.87\n",
       "4    2021-01-05  11929.75\n",
       "...         ...       ...\n",
       "1090 2023-12-27   1204.01\n",
       "1091 2023-12-28   1411.00\n",
       "1092 2023-12-29   1487.47\n",
       "1093 2023-12-30   1441.90\n",
       "1094 2023-12-31   1888.31\n",
       "\n",
       "[1095 rows x 2 columns]"
      ]
     },
     "execution_count": 25,
     "metadata": {},
     "output_type": "execute_result"
    }
   ],
   "source": [
    "data = df.loc[:,['Date', 'E1']]\n",
    "data.columns = ['ds', 'y']\n",
    "data.fillna(0.00,inplace=True)\n",
    "data"
   ]
  },
  {
   "cell_type": "code",
   "execution_count": 26,
   "metadata": {},
   "outputs": [
    {
     "data": {
      "text/plain": [
       "ds    datetime64[ns]\n",
       "y            float64\n",
       "dtype: object"
      ]
     },
     "execution_count": 26,
     "metadata": {},
     "output_type": "execute_result"
    }
   ],
   "source": [
    "data.dtypes"
   ]
  },
  {
   "cell_type": "markdown",
   "metadata": {},
   "source": [
    "## Train Data"
   ]
  },
  {
   "cell_type": "code",
   "execution_count": null,
   "metadata": {},
   "outputs": [],
   "source": [
    "m = NeuralProphet()\n",
    "m.fit(data, freq=\"D\", epochs=1000)"
   ]
  },
  {
   "cell_type": "code",
   "execution_count": null,
   "metadata": {},
   "outputs": [],
   "source": [
    "plt.plot(data['ds'], data['y'], scalex=True)"
   ]
  },
  {
   "cell_type": "code",
   "execution_count": 41,
   "metadata": {},
   "outputs": [],
   "source": [
    "jan_df = pd.read_excel('../jan_2024.xlsx')"
   ]
  },
  {
   "cell_type": "code",
   "execution_count": 13,
   "metadata": {},
   "outputs": [
    {
     "data": {
      "text/html": [
       "<div>\n",
       "<style scoped>\n",
       "    .dataframe tbody tr th:only-of-type {\n",
       "        vertical-align: middle;\n",
       "    }\n",
       "\n",
       "    .dataframe tbody tr th {\n",
       "        vertical-align: top;\n",
       "    }\n",
       "\n",
       "    .dataframe thead th {\n",
       "        text-align: right;\n",
       "    }\n",
       "</style>\n",
       "<table border=\"1\" class=\"dataframe\">\n",
       "  <thead>\n",
       "    <tr style=\"text-align: right;\">\n",
       "      <th></th>\n",
       "      <th>Date</th>\n",
       "      <th>A1</th>\n",
       "      <th>A2</th>\n",
       "      <th>E1</th>\n",
       "      <th>E2</th>\n",
       "      <th>N1</th>\n",
       "      <th>N2</th>\n",
       "      <th>N3</th>\n",
       "      <th>S1</th>\n",
       "      <th>S2</th>\n",
       "      <th>S3</th>\n",
       "      <th>W1</th>\n",
       "      <th>W2</th>\n",
       "      <th>W3</th>\n",
       "      <th>Cleared Volume</th>\n",
       "      <th>MCV</th>\n",
       "    </tr>\n",
       "  </thead>\n",
       "  <tbody>\n",
       "    <tr>\n",
       "      <th>0</th>\n",
       "      <td>01-01-2024</td>\n",
       "      <td>-</td>\n",
       "      <td>-</td>\n",
       "      <td>395.23</td>\n",
       "      <td>-</td>\n",
       "      <td>239.43</td>\n",
       "      <td>2266.50</td>\n",
       "      <td>56.14</td>\n",
       "      <td>67.77</td>\n",
       "      <td>273.88</td>\n",
       "      <td>43.08</td>\n",
       "      <td>9.25</td>\n",
       "      <td>2136.79</td>\n",
       "      <td>-</td>\n",
       "      <td>5487.91</td>\n",
       "      <td>5487.91</td>\n",
       "    </tr>\n",
       "    <tr>\n",
       "      <th>1</th>\n",
       "      <td>02-01-2024</td>\n",
       "      <td>-</td>\n",
       "      <td>-</td>\n",
       "      <td>487.04</td>\n",
       "      <td>-</td>\n",
       "      <td>113.40</td>\n",
       "      <td>2054.50</td>\n",
       "      <td>581.31</td>\n",
       "      <td>423.64</td>\n",
       "      <td>670.38</td>\n",
       "      <td>57.81</td>\n",
       "      <td>68.87</td>\n",
       "      <td>2664.21</td>\n",
       "      <td>-</td>\n",
       "      <td>7121.09</td>\n",
       "      <td>7121.09</td>\n",
       "    </tr>\n",
       "    <tr>\n",
       "      <th>2</th>\n",
       "      <td>03-01-2024</td>\n",
       "      <td>-</td>\n",
       "      <td>-</td>\n",
       "      <td>99.27</td>\n",
       "      <td>-</td>\n",
       "      <td>128.81</td>\n",
       "      <td>1708.71</td>\n",
       "      <td>181.55</td>\n",
       "      <td>362.96</td>\n",
       "      <td>431.79</td>\n",
       "      <td>189.99</td>\n",
       "      <td>47.53</td>\n",
       "      <td>2050.86</td>\n",
       "      <td>1390.62</td>\n",
       "      <td>6591.91</td>\n",
       "      <td>6591.91</td>\n",
       "    </tr>\n",
       "    <tr>\n",
       "      <th>3</th>\n",
       "      <td>04-01-2024</td>\n",
       "      <td>-</td>\n",
       "      <td>-</td>\n",
       "      <td>38.38</td>\n",
       "      <td>-</td>\n",
       "      <td>167.37</td>\n",
       "      <td>1708.10</td>\n",
       "      <td>136.05</td>\n",
       "      <td>187.29</td>\n",
       "      <td>489.71</td>\n",
       "      <td>218.50</td>\n",
       "      <td>77.11</td>\n",
       "      <td>1749.29</td>\n",
       "      <td>1504.21</td>\n",
       "      <td>6275.84</td>\n",
       "      <td>6275.84</td>\n",
       "    </tr>\n",
       "    <tr>\n",
       "      <th>4</th>\n",
       "      <td>05-01-2024</td>\n",
       "      <td>-</td>\n",
       "      <td>-</td>\n",
       "      <td>54.47</td>\n",
       "      <td>33.14</td>\n",
       "      <td>141.36</td>\n",
       "      <td>1779.79</td>\n",
       "      <td>81.37</td>\n",
       "      <td>251.72</td>\n",
       "      <td>278.55</td>\n",
       "      <td>47.78</td>\n",
       "      <td>233.40</td>\n",
       "      <td>1264.82</td>\n",
       "      <td>1044.62</td>\n",
       "      <td>5210.91</td>\n",
       "      <td>5210.91</td>\n",
       "    </tr>\n",
       "    <tr>\n",
       "      <th>5</th>\n",
       "      <td>06-01-2024</td>\n",
       "      <td>-</td>\n",
       "      <td>-</td>\n",
       "      <td>560.01</td>\n",
       "      <td>-</td>\n",
       "      <td>220.03</td>\n",
       "      <td>1124.05</td>\n",
       "      <td>817.51</td>\n",
       "      <td>453.19</td>\n",
       "      <td>628.69</td>\n",
       "      <td>235.35</td>\n",
       "      <td>230.96</td>\n",
       "      <td>2233.32</td>\n",
       "      <td>-</td>\n",
       "      <td>6503.01</td>\n",
       "      <td>6503.01</td>\n",
       "    </tr>\n",
       "    <tr>\n",
       "      <th>6</th>\n",
       "      <td>07-01-2024</td>\n",
       "      <td>-</td>\n",
       "      <td>6.17</td>\n",
       "      <td>571.19</td>\n",
       "      <td>120.00</td>\n",
       "      <td>213.01</td>\n",
       "      <td>1542.65</td>\n",
       "      <td>1123.47</td>\n",
       "      <td>448.35</td>\n",
       "      <td>1109.52</td>\n",
       "      <td>117.92</td>\n",
       "      <td>437.39</td>\n",
       "      <td>2307.53</td>\n",
       "      <td>0.91</td>\n",
       "      <td>7997.98</td>\n",
       "      <td>7997.98</td>\n",
       "    </tr>\n",
       "    <tr>\n",
       "      <th>7</th>\n",
       "      <td>08-01-2024</td>\n",
       "      <td>-</td>\n",
       "      <td>-</td>\n",
       "      <td>308.09</td>\n",
       "      <td>137.22</td>\n",
       "      <td>154.77</td>\n",
       "      <td>1810.30</td>\n",
       "      <td>651.65</td>\n",
       "      <td>435.73</td>\n",
       "      <td>480.26</td>\n",
       "      <td>281.71</td>\n",
       "      <td>75.49</td>\n",
       "      <td>2865.28</td>\n",
       "      <td>687.79</td>\n",
       "      <td>7888.19</td>\n",
       "      <td>7888.19</td>\n",
       "    </tr>\n",
       "    <tr>\n",
       "      <th>8</th>\n",
       "      <td>09-01-2024</td>\n",
       "      <td>-</td>\n",
       "      <td>-</td>\n",
       "      <td>458.14</td>\n",
       "      <td>289.69</td>\n",
       "      <td>183.61</td>\n",
       "      <td>1892.91</td>\n",
       "      <td>334.37</td>\n",
       "      <td>477.99</td>\n",
       "      <td>718.20</td>\n",
       "      <td>573.38</td>\n",
       "      <td>304.91</td>\n",
       "      <td>3176.21</td>\n",
       "      <td>-</td>\n",
       "      <td>8409.29</td>\n",
       "      <td>8409.29</td>\n",
       "    </tr>\n",
       "    <tr>\n",
       "      <th>9</th>\n",
       "      <td>10-01-2024</td>\n",
       "      <td>-</td>\n",
       "      <td>-</td>\n",
       "      <td>376.59</td>\n",
       "      <td>383.00</td>\n",
       "      <td>211.26</td>\n",
       "      <td>1682.14</td>\n",
       "      <td>815.39</td>\n",
       "      <td>276.96</td>\n",
       "      <td>750.29</td>\n",
       "      <td>402.09</td>\n",
       "      <td>103.77</td>\n",
       "      <td>3531.42</td>\n",
       "      <td>1.01</td>\n",
       "      <td>8533.82</td>\n",
       "      <td>8533.82</td>\n",
       "    </tr>\n",
       "    <tr>\n",
       "      <th>10</th>\n",
       "      <td>11-01-2024</td>\n",
       "      <td>-</td>\n",
       "      <td>3.01</td>\n",
       "      <td>411.96</td>\n",
       "      <td>340.00</td>\n",
       "      <td>175.10</td>\n",
       "      <td>1259.75</td>\n",
       "      <td>510.39</td>\n",
       "      <td>471.17</td>\n",
       "      <td>898.69</td>\n",
       "      <td>174.88</td>\n",
       "      <td>213.07</td>\n",
       "      <td>2392.21</td>\n",
       "      <td>74.06</td>\n",
       "      <td>6924.13</td>\n",
       "      <td>6924.13</td>\n",
       "    </tr>\n",
       "    <tr>\n",
       "      <th>11</th>\n",
       "      <td>12-01-2024</td>\n",
       "      <td>-</td>\n",
       "      <td>-</td>\n",
       "      <td>286.77</td>\n",
       "      <td>360.00</td>\n",
       "      <td>203.86</td>\n",
       "      <td>1290.06</td>\n",
       "      <td>95.11</td>\n",
       "      <td>250.91</td>\n",
       "      <td>504.43</td>\n",
       "      <td>124.43</td>\n",
       "      <td>68.60</td>\n",
       "      <td>3023.98</td>\n",
       "      <td>13.64</td>\n",
       "      <td>6221.68</td>\n",
       "      <td>6221.68</td>\n",
       "    </tr>\n",
       "    <tr>\n",
       "      <th>12</th>\n",
       "      <td>13-01-2024</td>\n",
       "      <td>-</td>\n",
       "      <td>-</td>\n",
       "      <td>242.73</td>\n",
       "      <td>165.00</td>\n",
       "      <td>219.09</td>\n",
       "      <td>1150.98</td>\n",
       "      <td>39.10</td>\n",
       "      <td>227.53</td>\n",
       "      <td>408.64</td>\n",
       "      <td>106.53</td>\n",
       "      <td>116.24</td>\n",
       "      <td>3346.44</td>\n",
       "      <td>-</td>\n",
       "      <td>6022.12</td>\n",
       "      <td>6022.12</td>\n",
       "    </tr>\n",
       "    <tr>\n",
       "      <th>13</th>\n",
       "      <td>14-01-2024</td>\n",
       "      <td>-</td>\n",
       "      <td>-</td>\n",
       "      <td>57.60</td>\n",
       "      <td>210.00</td>\n",
       "      <td>82.42</td>\n",
       "      <td>473.57</td>\n",
       "      <td>23.79</td>\n",
       "      <td>141.07</td>\n",
       "      <td>466.73</td>\n",
       "      <td>133.65</td>\n",
       "      <td>94.45</td>\n",
       "      <td>3259.77</td>\n",
       "      <td>156.57</td>\n",
       "      <td>5099.53</td>\n",
       "      <td>5099.53</td>\n",
       "    </tr>\n",
       "    <tr>\n",
       "      <th>14</th>\n",
       "      <td>15-01-2024</td>\n",
       "      <td>-</td>\n",
       "      <td>-</td>\n",
       "      <td>303.63</td>\n",
       "      <td>360.00</td>\n",
       "      <td>295.50</td>\n",
       "      <td>1654.09</td>\n",
       "      <td>218.63</td>\n",
       "      <td>94.37</td>\n",
       "      <td>556.25</td>\n",
       "      <td>131.38</td>\n",
       "      <td>140.36</td>\n",
       "      <td>4207.97</td>\n",
       "      <td>8.57</td>\n",
       "      <td>7970.60</td>\n",
       "      <td>7970.60</td>\n",
       "    </tr>\n",
       "    <tr>\n",
       "      <th>15</th>\n",
       "      <td>16-01-2024</td>\n",
       "      <td>-</td>\n",
       "      <td>-</td>\n",
       "      <td>176.34</td>\n",
       "      <td>227.46</td>\n",
       "      <td>201.97</td>\n",
       "      <td>1601.13</td>\n",
       "      <td>32.78</td>\n",
       "      <td>392.03</td>\n",
       "      <td>329.47</td>\n",
       "      <td>246.01</td>\n",
       "      <td>142.68</td>\n",
       "      <td>2823.21</td>\n",
       "      <td>101.60</td>\n",
       "      <td>6274.45</td>\n",
       "      <td>6274.45</td>\n",
       "    </tr>\n",
       "    <tr>\n",
       "      <th>16</th>\n",
       "      <td>17-01-2024</td>\n",
       "      <td>-</td>\n",
       "      <td>-</td>\n",
       "      <td>175.23</td>\n",
       "      <td>360.00</td>\n",
       "      <td>190.33</td>\n",
       "      <td>1179.13</td>\n",
       "      <td>20.58</td>\n",
       "      <td>423.00</td>\n",
       "      <td>335.62</td>\n",
       "      <td>331.86</td>\n",
       "      <td>73.54</td>\n",
       "      <td>2561.31</td>\n",
       "      <td>151.53</td>\n",
       "      <td>5802.03</td>\n",
       "      <td>5802.03</td>\n",
       "    </tr>\n",
       "    <tr>\n",
       "      <th>17</th>\n",
       "      <td>18-01-2024</td>\n",
       "      <td>-</td>\n",
       "      <td>-</td>\n",
       "      <td>388.55</td>\n",
       "      <td>480.00</td>\n",
       "      <td>141.14</td>\n",
       "      <td>1346.67</td>\n",
       "      <td>40.29</td>\n",
       "      <td>425.59</td>\n",
       "      <td>357.63</td>\n",
       "      <td>193.93</td>\n",
       "      <td>29.30</td>\n",
       "      <td>1570.98</td>\n",
       "      <td>1456.06</td>\n",
       "      <td>6430.02</td>\n",
       "      <td>6430.02</td>\n",
       "    </tr>\n",
       "    <tr>\n",
       "      <th>18</th>\n",
       "      <td>19-01-2024</td>\n",
       "      <td>-</td>\n",
       "      <td>-</td>\n",
       "      <td>82.03</td>\n",
       "      <td>480.00</td>\n",
       "      <td>138.31</td>\n",
       "      <td>1512.08</td>\n",
       "      <td>637.40</td>\n",
       "      <td>283.80</td>\n",
       "      <td>123.51</td>\n",
       "      <td>26.70</td>\n",
       "      <td>25.91</td>\n",
       "      <td>1876.29</td>\n",
       "      <td>197.09</td>\n",
       "      <td>5382.95</td>\n",
       "      <td>5382.95</td>\n",
       "    </tr>\n",
       "    <tr>\n",
       "      <th>19</th>\n",
       "      <td>20-01-2024</td>\n",
       "      <td>-</td>\n",
       "      <td>-</td>\n",
       "      <td>107.65</td>\n",
       "      <td>300.00</td>\n",
       "      <td>158.64</td>\n",
       "      <td>1662.12</td>\n",
       "      <td>289.24</td>\n",
       "      <td>383.06</td>\n",
       "      <td>213.43</td>\n",
       "      <td>88.50</td>\n",
       "      <td>77.07</td>\n",
       "      <td>2862.72</td>\n",
       "      <td>180.15</td>\n",
       "      <td>6322.39</td>\n",
       "      <td>6322.39</td>\n",
       "    </tr>\n",
       "    <tr>\n",
       "      <th>20</th>\n",
       "      <td>21-01-2024</td>\n",
       "      <td>-</td>\n",
       "      <td>-</td>\n",
       "      <td>143.62</td>\n",
       "      <td>240.00</td>\n",
       "      <td>127.10</td>\n",
       "      <td>1122.76</td>\n",
       "      <td>1182.10</td>\n",
       "      <td>327.33</td>\n",
       "      <td>420.91</td>\n",
       "      <td>92.28</td>\n",
       "      <td>164.93</td>\n",
       "      <td>3782.74</td>\n",
       "      <td>1254.43</td>\n",
       "      <td>8858.05</td>\n",
       "      <td>8858.05</td>\n",
       "    </tr>\n",
       "    <tr>\n",
       "      <th>21</th>\n",
       "      <td>22-01-2024</td>\n",
       "      <td>-</td>\n",
       "      <td>-</td>\n",
       "      <td>92.49</td>\n",
       "      <td>390.00</td>\n",
       "      <td>143.65</td>\n",
       "      <td>1438.38</td>\n",
       "      <td>955.97</td>\n",
       "      <td>368.54</td>\n",
       "      <td>411.96</td>\n",
       "      <td>317.03</td>\n",
       "      <td>53.74</td>\n",
       "      <td>3157.04</td>\n",
       "      <td>13.99</td>\n",
       "      <td>7342.71</td>\n",
       "      <td>7342.71</td>\n",
       "    </tr>\n",
       "    <tr>\n",
       "      <th>22</th>\n",
       "      <td>23-01-2024</td>\n",
       "      <td>-</td>\n",
       "      <td>-</td>\n",
       "      <td>302.13</td>\n",
       "      <td>90.00</td>\n",
       "      <td>132.05</td>\n",
       "      <td>936.11</td>\n",
       "      <td>254.36</td>\n",
       "      <td>399.21</td>\n",
       "      <td>173.40</td>\n",
       "      <td>77.71</td>\n",
       "      <td>83.36</td>\n",
       "      <td>3563.00</td>\n",
       "      <td>-</td>\n",
       "      <td>6011.18</td>\n",
       "      <td>6011.18</td>\n",
       "    </tr>\n",
       "    <tr>\n",
       "      <th>23</th>\n",
       "      <td>24-01-2024</td>\n",
       "      <td>-</td>\n",
       "      <td>-</td>\n",
       "      <td>278.50</td>\n",
       "      <td>140.00</td>\n",
       "      <td>116.76</td>\n",
       "      <td>1032.50</td>\n",
       "      <td>307.94</td>\n",
       "      <td>291.86</td>\n",
       "      <td>111.68</td>\n",
       "      <td>19.88</td>\n",
       "      <td>63.04</td>\n",
       "      <td>2985.72</td>\n",
       "      <td>528.22</td>\n",
       "      <td>5875.98</td>\n",
       "      <td>5875.98</td>\n",
       "    </tr>\n",
       "    <tr>\n",
       "      <th>24</th>\n",
       "      <td>25-01-2024</td>\n",
       "      <td>-</td>\n",
       "      <td>-</td>\n",
       "      <td>553.01</td>\n",
       "      <td>-</td>\n",
       "      <td>144.12</td>\n",
       "      <td>1275.21</td>\n",
       "      <td>669.50</td>\n",
       "      <td>324.68</td>\n",
       "      <td>68.61</td>\n",
       "      <td>11.20</td>\n",
       "      <td>53.51</td>\n",
       "      <td>2831.18</td>\n",
       "      <td>388.61</td>\n",
       "      <td>6319.54</td>\n",
       "      <td>6319.54</td>\n",
       "    </tr>\n",
       "    <tr>\n",
       "      <th>25</th>\n",
       "      <td>26-01-2024</td>\n",
       "      <td>-</td>\n",
       "      <td>-</td>\n",
       "      <td>2082.13</td>\n",
       "      <td>-</td>\n",
       "      <td>118.78</td>\n",
       "      <td>1392.89</td>\n",
       "      <td>360.12</td>\n",
       "      <td>271.69</td>\n",
       "      <td>298.96</td>\n",
       "      <td>17.75</td>\n",
       "      <td>36.91</td>\n",
       "      <td>2315.72</td>\n",
       "      <td>641.63</td>\n",
       "      <td>7536.35</td>\n",
       "      <td>7536.35</td>\n",
       "    </tr>\n",
       "    <tr>\n",
       "      <th>26</th>\n",
       "      <td>27-01-2024</td>\n",
       "      <td>-</td>\n",
       "      <td>-</td>\n",
       "      <td>2364.63</td>\n",
       "      <td>96.29</td>\n",
       "      <td>103.82</td>\n",
       "      <td>1884.52</td>\n",
       "      <td>326.92</td>\n",
       "      <td>248.71</td>\n",
       "      <td>483.18</td>\n",
       "      <td>81.18</td>\n",
       "      <td>789.32</td>\n",
       "      <td>2500.33</td>\n",
       "      <td>-</td>\n",
       "      <td>8878.67</td>\n",
       "      <td>8878.67</td>\n",
       "    </tr>\n",
       "    <tr>\n",
       "      <th>27</th>\n",
       "      <td>28-01-2024</td>\n",
       "      <td>-</td>\n",
       "      <td>-</td>\n",
       "      <td>875.08</td>\n",
       "      <td>-</td>\n",
       "      <td>132.32</td>\n",
       "      <td>1683.73</td>\n",
       "      <td>421.29</td>\n",
       "      <td>292.19</td>\n",
       "      <td>310.29</td>\n",
       "      <td>54.19</td>\n",
       "      <td>447.90</td>\n",
       "      <td>2605.14</td>\n",
       "      <td>747.61</td>\n",
       "      <td>7569.57</td>\n",
       "      <td>7569.57</td>\n",
       "    </tr>\n",
       "    <tr>\n",
       "      <th>28</th>\n",
       "      <td>29-01-2024</td>\n",
       "      <td>-</td>\n",
       "      <td>-</td>\n",
       "      <td>1315.72</td>\n",
       "      <td>40.70</td>\n",
       "      <td>110.44</td>\n",
       "      <td>1187.25</td>\n",
       "      <td>283.46</td>\n",
       "      <td>171.24</td>\n",
       "      <td>303.28</td>\n",
       "      <td>86.29</td>\n",
       "      <td>784.31</td>\n",
       "      <td>2695.50</td>\n",
       "      <td>-</td>\n",
       "      <td>6978.00</td>\n",
       "      <td>6978.00</td>\n",
       "    </tr>\n",
       "    <tr>\n",
       "      <th>29</th>\n",
       "      <td>30-01-2024</td>\n",
       "      <td>-</td>\n",
       "      <td>-</td>\n",
       "      <td>885.54</td>\n",
       "      <td>476.61</td>\n",
       "      <td>128.63</td>\n",
       "      <td>1508.36</td>\n",
       "      <td>286.25</td>\n",
       "      <td>348.68</td>\n",
       "      <td>564.44</td>\n",
       "      <td>96.88</td>\n",
       "      <td>822.51</td>\n",
       "      <td>1918.18</td>\n",
       "      <td>-</td>\n",
       "      <td>7035.99</td>\n",
       "      <td>7035.99</td>\n",
       "    </tr>\n",
       "    <tr>\n",
       "      <th>30</th>\n",
       "      <td>31-01-2024</td>\n",
       "      <td>-</td>\n",
       "      <td>-</td>\n",
       "      <td>206.13</td>\n",
       "      <td>41.73</td>\n",
       "      <td>100.77</td>\n",
       "      <td>1134.30</td>\n",
       "      <td>366.90</td>\n",
       "      <td>213.83</td>\n",
       "      <td>135.01</td>\n",
       "      <td>32.43</td>\n",
       "      <td>31.14</td>\n",
       "      <td>1814.70</td>\n",
       "      <td>501.68</td>\n",
       "      <td>4578.45</td>\n",
       "      <td>4578.45</td>\n",
       "    </tr>\n",
       "  </tbody>\n",
       "</table>\n",
       "</div>"
      ],
      "text/plain": [
       "          Date A1    A2       E1      E2      N1       N2       N3      S1  \\\n",
       "0   01-01-2024  -     -   395.23       -  239.43  2266.50    56.14   67.77   \n",
       "1   02-01-2024  -     -   487.04       -  113.40  2054.50   581.31  423.64   \n",
       "2   03-01-2024  -     -    99.27       -  128.81  1708.71   181.55  362.96   \n",
       "3   04-01-2024  -     -    38.38       -  167.37  1708.10   136.05  187.29   \n",
       "4   05-01-2024  -     -    54.47   33.14  141.36  1779.79    81.37  251.72   \n",
       "5   06-01-2024  -     -   560.01       -  220.03  1124.05   817.51  453.19   \n",
       "6   07-01-2024  -  6.17   571.19  120.00  213.01  1542.65  1123.47  448.35   \n",
       "7   08-01-2024  -     -   308.09  137.22  154.77  1810.30   651.65  435.73   \n",
       "8   09-01-2024  -     -   458.14  289.69  183.61  1892.91   334.37  477.99   \n",
       "9   10-01-2024  -     -   376.59  383.00  211.26  1682.14   815.39  276.96   \n",
       "10  11-01-2024  -  3.01   411.96  340.00  175.10  1259.75   510.39  471.17   \n",
       "11  12-01-2024  -     -   286.77  360.00  203.86  1290.06    95.11  250.91   \n",
       "12  13-01-2024  -     -   242.73  165.00  219.09  1150.98    39.10  227.53   \n",
       "13  14-01-2024  -     -    57.60  210.00   82.42   473.57    23.79  141.07   \n",
       "14  15-01-2024  -     -   303.63  360.00  295.50  1654.09   218.63   94.37   \n",
       "15  16-01-2024  -     -   176.34  227.46  201.97  1601.13    32.78  392.03   \n",
       "16  17-01-2024  -     -   175.23  360.00  190.33  1179.13    20.58  423.00   \n",
       "17  18-01-2024  -     -   388.55  480.00  141.14  1346.67    40.29  425.59   \n",
       "18  19-01-2024  -     -    82.03  480.00  138.31  1512.08   637.40  283.80   \n",
       "19  20-01-2024  -     -   107.65  300.00  158.64  1662.12   289.24  383.06   \n",
       "20  21-01-2024  -     -   143.62  240.00  127.10  1122.76  1182.10  327.33   \n",
       "21  22-01-2024  -     -    92.49  390.00  143.65  1438.38   955.97  368.54   \n",
       "22  23-01-2024  -     -   302.13   90.00  132.05   936.11   254.36  399.21   \n",
       "23  24-01-2024  -     -   278.50  140.00  116.76  1032.50   307.94  291.86   \n",
       "24  25-01-2024  -     -   553.01       -  144.12  1275.21   669.50  324.68   \n",
       "25  26-01-2024  -     -  2082.13       -  118.78  1392.89   360.12  271.69   \n",
       "26  27-01-2024  -     -  2364.63   96.29  103.82  1884.52   326.92  248.71   \n",
       "27  28-01-2024  -     -   875.08       -  132.32  1683.73   421.29  292.19   \n",
       "28  29-01-2024  -     -  1315.72   40.70  110.44  1187.25   283.46  171.24   \n",
       "29  30-01-2024  -     -   885.54  476.61  128.63  1508.36   286.25  348.68   \n",
       "30  31-01-2024  -     -   206.13   41.73  100.77  1134.30   366.90  213.83   \n",
       "\n",
       "         S2      S3      W1       W2       W3  Cleared Volume      MCV  \n",
       "0    273.88   43.08    9.25  2136.79        -         5487.91  5487.91  \n",
       "1    670.38   57.81   68.87  2664.21        -         7121.09  7121.09  \n",
       "2    431.79  189.99   47.53  2050.86  1390.62         6591.91  6591.91  \n",
       "3    489.71  218.50   77.11  1749.29  1504.21         6275.84  6275.84  \n",
       "4    278.55   47.78  233.40  1264.82  1044.62         5210.91  5210.91  \n",
       "5    628.69  235.35  230.96  2233.32        -         6503.01  6503.01  \n",
       "6   1109.52  117.92  437.39  2307.53     0.91         7997.98  7997.98  \n",
       "7    480.26  281.71   75.49  2865.28   687.79         7888.19  7888.19  \n",
       "8    718.20  573.38  304.91  3176.21        -         8409.29  8409.29  \n",
       "9    750.29  402.09  103.77  3531.42     1.01         8533.82  8533.82  \n",
       "10   898.69  174.88  213.07  2392.21    74.06         6924.13  6924.13  \n",
       "11   504.43  124.43   68.60  3023.98    13.64         6221.68  6221.68  \n",
       "12   408.64  106.53  116.24  3346.44        -         6022.12  6022.12  \n",
       "13   466.73  133.65   94.45  3259.77   156.57         5099.53  5099.53  \n",
       "14   556.25  131.38  140.36  4207.97     8.57         7970.60  7970.60  \n",
       "15   329.47  246.01  142.68  2823.21   101.60         6274.45  6274.45  \n",
       "16   335.62  331.86   73.54  2561.31   151.53         5802.03  5802.03  \n",
       "17   357.63  193.93   29.30  1570.98  1456.06         6430.02  6430.02  \n",
       "18   123.51   26.70   25.91  1876.29   197.09         5382.95  5382.95  \n",
       "19   213.43   88.50   77.07  2862.72   180.15         6322.39  6322.39  \n",
       "20   420.91   92.28  164.93  3782.74  1254.43         8858.05  8858.05  \n",
       "21   411.96  317.03   53.74  3157.04    13.99         7342.71  7342.71  \n",
       "22   173.40   77.71   83.36  3563.00        -         6011.18  6011.18  \n",
       "23   111.68   19.88   63.04  2985.72   528.22         5875.98  5875.98  \n",
       "24    68.61   11.20   53.51  2831.18   388.61         6319.54  6319.54  \n",
       "25   298.96   17.75   36.91  2315.72   641.63         7536.35  7536.35  \n",
       "26   483.18   81.18  789.32  2500.33        -         8878.67  8878.67  \n",
       "27   310.29   54.19  447.90  2605.14   747.61         7569.57  7569.57  \n",
       "28   303.28   86.29  784.31  2695.50        -         6978.00  6978.00  \n",
       "29   564.44   96.88  822.51  1918.18        -         7035.99  7035.99  \n",
       "30   135.01   32.43   31.14  1814.70   501.68         4578.45  4578.45  "
      ]
     },
     "execution_count": 13,
     "metadata": {},
     "output_type": "execute_result"
    }
   ],
   "source": [
    "jan_df"
   ]
  },
  {
   "cell_type": "code",
   "execution_count": null,
   "metadata": {},
   "outputs": [],
   "source": [
    "future = m.make_future_dataframe(data, periods=31)\n",
    "forecast = m.predict(future)\n",
    "forecast['y']=jan_df['E1']\n",
    "forecast"
   ]
  },
  {
   "cell_type": "code",
   "execution_count": null,
   "metadata": {},
   "outputs": [],
   "source": [
    "m.plot(forecast)"
   ]
  },
  {
   "cell_type": "markdown",
   "metadata": {},
   "source": [
    "## Monthly Data Prediction"
   ]
  },
  {
   "cell_type": "code",
   "execution_count": 14,
   "metadata": {},
   "outputs": [],
   "source": [
    "x = data.groupby(pd.Grouper(key='ds', freq='ME')).sum()"
   ]
  },
  {
   "cell_type": "code",
   "execution_count": 23,
   "metadata": {},
   "outputs": [
    {
     "data": {
      "text/plain": [
       "14679.88"
      ]
     },
     "execution_count": 23,
     "metadata": {},
     "output_type": "execute_result"
    }
   ],
   "source": [
    "jan_df['E1'].sum()"
   ]
  },
  {
   "cell_type": "code",
   "execution_count": 15,
   "metadata": {},
   "outputs": [],
   "source": [
    "x.reset_index(inplace=True)"
   ]
  },
  {
   "cell_type": "code",
   "execution_count": 16,
   "metadata": {},
   "outputs": [
    {
     "data": {
      "text/plain": [
       "Index(['ds', 'y'], dtype='object')"
      ]
     },
     "execution_count": 16,
     "metadata": {},
     "output_type": "execute_result"
    }
   ],
   "source": [
    "x.columns"
   ]
  },
  {
   "cell_type": "code",
   "execution_count": 17,
   "metadata": {},
   "outputs": [
    {
     "name": "stderr",
     "output_type": "stream",
     "text": [
      "WARNING - (NP.forecaster.fit) - When Global modeling with local normalization, metrics are displayed in normalized scale.\n",
      "WARNING - (py.warnings._showwarnmsg) - c:\\Miniconda3\\envs\\intern\\Lib\\site-packages\\neuralprophet\\df_utils.py:1152: FutureWarning: Series.view is deprecated and will be removed in a future version. Use ``astype`` as an alternative to change the dtype.\n",
      "  converted_ds = pd.to_datetime(ds_col, utc=True).view(dtype=np.int64)\n",
      "\n",
      "INFO - (NP.df_utils._infer_frequency) - Major frequency M corresponds to [97.222]% of the data.\n",
      "WARNING - (py.warnings._showwarnmsg) - c:\\Miniconda3\\envs\\intern\\Lib\\site-packages\\neuralprophet\\df_utils.py:1152: FutureWarning: Series.view is deprecated and will be removed in a future version. Use ``astype`` as an alternative to change the dtype.\n",
      "  converted_ds = pd.to_datetime(ds_col, utc=True).view(dtype=np.int64)\n",
      "\n",
      "WARNING - (py.warnings._showwarnmsg) - c:\\Miniconda3\\envs\\intern\\Lib\\site-packages\\neuralprophet\\df_utils.py:1173: FutureWarning: 'M' is deprecated and will be removed in a future version, please use 'ME' instead.\n",
      "  aux_ts = pd.DataFrame(pd.date_range(\"1994-01-01\", periods=100, freq=freq_str))\n",
      "\n",
      "WARNING - (py.warnings._showwarnmsg) - c:\\Miniconda3\\envs\\intern\\Lib\\site-packages\\neuralprophet\\df_utils.py:1152: FutureWarning: Series.view is deprecated and will be removed in a future version. Use ``astype`` as an alternative to change the dtype.\n",
      "  converted_ds = pd.to_datetime(ds_col, utc=True).view(dtype=np.int64)\n",
      "\n",
      "INFO - (NP.df_utils._infer_frequency) - Defined frequency is equal to major frequency - ME\n",
      "INFO - (NP.config.init_data_params) - Setting normalization to global as only one dataframe provided for training.\n",
      "INFO - (NP.utils.set_auto_seasonalities) - Disabling weekly seasonality. Run NeuralProphet with weekly_seasonality=True to override this.\n",
      "INFO - (NP.utils.set_auto_seasonalities) - Disabling daily seasonality. Run NeuralProphet with daily_seasonality=True to override this.\n",
      "INFO - (NP.config.set_auto_batch_epoch) - Auto-set batch_size to 8\n",
      "WARNING - (NP.config.set_lr_finder_args) - Learning rate finder: The number of batches (5) is too small than the required number                     for the learning rate finder (203). The results might not be optimal.\n",
      "Finding best initial lr: 100%|██████████| 203/203 [00:02<00:00, 79.54it/s] \n"
     ]
    },
    {
     "name": "stdout",
     "output_type": "stream",
     "text": [
      "Epoch 1000: 100%|██████████| 1000/1000 [00:00<00:00, 14550.37it/s, loss=0.0272, v_num=6, MAE=4.71e+4, RMSE=5.76e+4, Loss=0.0284, RegLoss=0.000]\n"
     ]
    },
    {
     "data": {
      "text/html": [
       "<div>\n",
       "<style scoped>\n",
       "    .dataframe tbody tr th:only-of-type {\n",
       "        vertical-align: middle;\n",
       "    }\n",
       "\n",
       "    .dataframe tbody tr th {\n",
       "        vertical-align: top;\n",
       "    }\n",
       "\n",
       "    .dataframe thead th {\n",
       "        text-align: right;\n",
       "    }\n",
       "</style>\n",
       "<table border=\"1\" class=\"dataframe\">\n",
       "  <thead>\n",
       "    <tr style=\"text-align: right;\">\n",
       "      <th></th>\n",
       "      <th>MAE</th>\n",
       "      <th>RMSE</th>\n",
       "      <th>Loss</th>\n",
       "      <th>RegLoss</th>\n",
       "      <th>epoch</th>\n",
       "    </tr>\n",
       "  </thead>\n",
       "  <tbody>\n",
       "    <tr>\n",
       "      <th>0</th>\n",
       "      <td>479585.500000</td>\n",
       "      <td>552899.875000</td>\n",
       "      <td>0.798135</td>\n",
       "      <td>0.0</td>\n",
       "      <td>0</td>\n",
       "    </tr>\n",
       "    <tr>\n",
       "      <th>1</th>\n",
       "      <td>450225.500000</td>\n",
       "      <td>532400.875000</td>\n",
       "      <td>0.735253</td>\n",
       "      <td>0.0</td>\n",
       "      <td>1</td>\n",
       "    </tr>\n",
       "    <tr>\n",
       "      <th>2</th>\n",
       "      <td>454217.312500</td>\n",
       "      <td>526330.000000</td>\n",
       "      <td>0.745161</td>\n",
       "      <td>0.0</td>\n",
       "      <td>2</td>\n",
       "    </tr>\n",
       "    <tr>\n",
       "      <th>3</th>\n",
       "      <td>404470.500000</td>\n",
       "      <td>485650.937500</td>\n",
       "      <td>0.643590</td>\n",
       "      <td>0.0</td>\n",
       "      <td>3</td>\n",
       "    </tr>\n",
       "    <tr>\n",
       "      <th>4</th>\n",
       "      <td>425168.156250</td>\n",
       "      <td>498944.687500</td>\n",
       "      <td>0.678142</td>\n",
       "      <td>0.0</td>\n",
       "      <td>4</td>\n",
       "    </tr>\n",
       "    <tr>\n",
       "      <th>...</th>\n",
       "      <td>...</td>\n",
       "      <td>...</td>\n",
       "      <td>...</td>\n",
       "      <td>...</td>\n",
       "      <td>...</td>\n",
       "    </tr>\n",
       "    <tr>\n",
       "      <th>995</th>\n",
       "      <td>44172.710938</td>\n",
       "      <td>54034.324219</td>\n",
       "      <td>0.024988</td>\n",
       "      <td>0.0</td>\n",
       "      <td>995</td>\n",
       "    </tr>\n",
       "    <tr>\n",
       "      <th>996</th>\n",
       "      <td>44752.250000</td>\n",
       "      <td>56183.195312</td>\n",
       "      <td>0.026001</td>\n",
       "      <td>0.0</td>\n",
       "      <td>996</td>\n",
       "    </tr>\n",
       "    <tr>\n",
       "      <th>997</th>\n",
       "      <td>47235.082031</td>\n",
       "      <td>57383.636719</td>\n",
       "      <td>0.028081</td>\n",
       "      <td>0.0</td>\n",
       "      <td>997</td>\n",
       "    </tr>\n",
       "    <tr>\n",
       "      <th>998</th>\n",
       "      <td>45585.988281</td>\n",
       "      <td>57035.292969</td>\n",
       "      <td>0.026399</td>\n",
       "      <td>0.0</td>\n",
       "      <td>998</td>\n",
       "    </tr>\n",
       "    <tr>\n",
       "      <th>999</th>\n",
       "      <td>47115.863281</td>\n",
       "      <td>57592.710938</td>\n",
       "      <td>0.028399</td>\n",
       "      <td>0.0</td>\n",
       "      <td>999</td>\n",
       "    </tr>\n",
       "  </tbody>\n",
       "</table>\n",
       "<p>1000 rows × 5 columns</p>\n",
       "</div>"
      ],
      "text/plain": [
       "               MAE           RMSE      Loss  RegLoss  epoch\n",
       "0    479585.500000  552899.875000  0.798135      0.0      0\n",
       "1    450225.500000  532400.875000  0.735253      0.0      1\n",
       "2    454217.312500  526330.000000  0.745161      0.0      2\n",
       "3    404470.500000  485650.937500  0.643590      0.0      3\n",
       "4    425168.156250  498944.687500  0.678142      0.0      4\n",
       "..             ...            ...       ...      ...    ...\n",
       "995   44172.710938   54034.324219  0.024988      0.0    995\n",
       "996   44752.250000   56183.195312  0.026001      0.0    996\n",
       "997   47235.082031   57383.636719  0.028081      0.0    997\n",
       "998   45585.988281   57035.292969  0.026399      0.0    998\n",
       "999   47115.863281   57592.710938  0.028399      0.0    999\n",
       "\n",
       "[1000 rows x 5 columns]"
      ]
     },
     "execution_count": 17,
     "metadata": {},
     "output_type": "execute_result"
    }
   ],
   "source": [
    "n = NeuralProphet()\n",
    "n.fit(x, freq=\"ME\", epochs=1000)"
   ]
  },
  {
   "cell_type": "code",
   "execution_count": 19,
   "metadata": {},
   "outputs": [
    {
     "name": "stderr",
     "output_type": "stream",
     "text": [
      "WARNING - (py.warnings._showwarnmsg) - c:\\Miniconda3\\envs\\intern\\Lib\\site-packages\\neuralprophet\\df_utils.py:1152: FutureWarning: Series.view is deprecated and will be removed in a future version. Use ``astype`` as an alternative to change the dtype.\n",
      "  converted_ds = pd.to_datetime(ds_col, utc=True).view(dtype=np.int64)\n",
      "\n",
      "INFO - (NP.df_utils._infer_frequency) - Major frequency M corresponds to [97.222]% of the data.\n",
      "WARNING - (py.warnings._showwarnmsg) - c:\\Miniconda3\\envs\\intern\\Lib\\site-packages\\neuralprophet\\df_utils.py:1152: FutureWarning: Series.view is deprecated and will be removed in a future version. Use ``astype`` as an alternative to change the dtype.\n",
      "  converted_ds = pd.to_datetime(ds_col, utc=True).view(dtype=np.int64)\n",
      "\n",
      "WARNING - (py.warnings._showwarnmsg) - c:\\Miniconda3\\envs\\intern\\Lib\\site-packages\\neuralprophet\\df_utils.py:1173: FutureWarning: 'M' is deprecated and will be removed in a future version, please use 'ME' instead.\n",
      "  aux_ts = pd.DataFrame(pd.date_range(\"1994-01-01\", periods=100, freq=freq_str))\n",
      "\n",
      "WARNING - (py.warnings._showwarnmsg) - c:\\Miniconda3\\envs\\intern\\Lib\\site-packages\\neuralprophet\\df_utils.py:1152: FutureWarning: Series.view is deprecated and will be removed in a future version. Use ``astype`` as an alternative to change the dtype.\n",
      "  converted_ds = pd.to_datetime(ds_col, utc=True).view(dtype=np.int64)\n",
      "\n",
      "INFO - (NP.df_utils._infer_frequency) - Defined frequency is equal to major frequency - ME\n",
      "INFO - (NP.df_utils.return_df_in_original_format) - Returning df with no ID column\n",
      "WARNING - (py.warnings._showwarnmsg) - c:\\Miniconda3\\envs\\intern\\Lib\\site-packages\\neuralprophet\\df_utils.py:1152: FutureWarning: Series.view is deprecated and will be removed in a future version. Use ``astype`` as an alternative to change the dtype.\n",
      "  converted_ds = pd.to_datetime(ds_col, utc=True).view(dtype=np.int64)\n",
      "\n",
      "INFO - (NP.df_utils._infer_frequency) - Major frequency M corresponds to [88.889]% of the data.\n",
      "WARNING - (py.warnings._showwarnmsg) - c:\\Miniconda3\\envs\\intern\\Lib\\site-packages\\neuralprophet\\df_utils.py:1152: FutureWarning: Series.view is deprecated and will be removed in a future version. Use ``astype`` as an alternative to change the dtype.\n",
      "  converted_ds = pd.to_datetime(ds_col, utc=True).view(dtype=np.int64)\n",
      "\n",
      "WARNING - (py.warnings._showwarnmsg) - c:\\Miniconda3\\envs\\intern\\Lib\\site-packages\\neuralprophet\\df_utils.py:1173: FutureWarning: 'M' is deprecated and will be removed in a future version, please use 'ME' instead.\n",
      "  aux_ts = pd.DataFrame(pd.date_range(\"1994-01-01\", periods=100, freq=freq_str))\n",
      "\n",
      "WARNING - (py.warnings._showwarnmsg) - c:\\Miniconda3\\envs\\intern\\Lib\\site-packages\\neuralprophet\\df_utils.py:1152: FutureWarning: Series.view is deprecated and will be removed in a future version. Use ``astype`` as an alternative to change the dtype.\n",
      "  converted_ds = pd.to_datetime(ds_col, utc=True).view(dtype=np.int64)\n",
      "\n",
      "INFO - (NP.df_utils._infer_frequency) - Defined frequency is equal to major frequency - ME\n",
      "WARNING - (py.warnings._showwarnmsg) - c:\\Miniconda3\\envs\\intern\\Lib\\site-packages\\neuralprophet\\df_utils.py:1152: FutureWarning: Series.view is deprecated and will be removed in a future version. Use ``astype`` as an alternative to change the dtype.\n",
      "  converted_ds = pd.to_datetime(ds_col, utc=True).view(dtype=np.int64)\n",
      "\n",
      "INFO - (NP.df_utils._infer_frequency) - Major frequency M corresponds to [88.889]% of the data.\n",
      "WARNING - (py.warnings._showwarnmsg) - c:\\Miniconda3\\envs\\intern\\Lib\\site-packages\\neuralprophet\\df_utils.py:1152: FutureWarning: Series.view is deprecated and will be removed in a future version. Use ``astype`` as an alternative to change the dtype.\n",
      "  converted_ds = pd.to_datetime(ds_col, utc=True).view(dtype=np.int64)\n",
      "\n",
      "WARNING - (py.warnings._showwarnmsg) - c:\\Miniconda3\\envs\\intern\\Lib\\site-packages\\neuralprophet\\df_utils.py:1173: FutureWarning: 'M' is deprecated and will be removed in a future version, please use 'ME' instead.\n",
      "  aux_ts = pd.DataFrame(pd.date_range(\"1994-01-01\", periods=100, freq=freq_str))\n",
      "\n",
      "WARNING - (py.warnings._showwarnmsg) - c:\\Miniconda3\\envs\\intern\\Lib\\site-packages\\neuralprophet\\df_utils.py:1152: FutureWarning: Series.view is deprecated and will be removed in a future version. Use ``astype`` as an alternative to change the dtype.\n",
      "  converted_ds = pd.to_datetime(ds_col, utc=True).view(dtype=np.int64)\n",
      "\n",
      "INFO - (NP.df_utils._infer_frequency) - Defined frequency is equal to major frequency - ME\n"
     ]
    },
    {
     "name": "stdout",
     "output_type": "stream",
     "text": [
      "Predicting DataLoader 0: 100%|██████████| 1/1 [00:00<00:00, 122.27it/s]"
     ]
    },
    {
     "name": "stderr",
     "output_type": "stream",
     "text": [
      "INFO - (NP.df_utils.return_df_in_original_format) - Returning df with no ID column\n"
     ]
    },
    {
     "name": "stdout",
     "output_type": "stream",
     "text": [
      "\n"
     ]
    },
    {
     "data": {
      "text/html": [
       "<div>\n",
       "<style scoped>\n",
       "    .dataframe tbody tr th:only-of-type {\n",
       "        vertical-align: middle;\n",
       "    }\n",
       "\n",
       "    .dataframe tbody tr th {\n",
       "        vertical-align: top;\n",
       "    }\n",
       "\n",
       "    .dataframe thead th {\n",
       "        text-align: right;\n",
       "    }\n",
       "</style>\n",
       "<table border=\"1\" class=\"dataframe\">\n",
       "  <thead>\n",
       "    <tr style=\"text-align: right;\">\n",
       "      <th></th>\n",
       "      <th>ds</th>\n",
       "      <th>y</th>\n",
       "      <th>yhat1</th>\n",
       "      <th>trend</th>\n",
       "      <th>season_yearly</th>\n",
       "    </tr>\n",
       "  </thead>\n",
       "  <tbody>\n",
       "    <tr>\n",
       "      <th>0</th>\n",
       "      <td>2024-01-31</td>\n",
       "      <td>None</td>\n",
       "      <td>59791.890625</td>\n",
       "      <td>136677.343750</td>\n",
       "      <td>-76885.445312</td>\n",
       "    </tr>\n",
       "    <tr>\n",
       "      <th>1</th>\n",
       "      <td>2024-02-29</td>\n",
       "      <td>None</td>\n",
       "      <td>-38029.699219</td>\n",
       "      <td>124109.234375</td>\n",
       "      <td>-162138.937500</td>\n",
       "    </tr>\n",
       "    <tr>\n",
       "      <th>2</th>\n",
       "      <td>2024-03-31</td>\n",
       "      <td>None</td>\n",
       "      <td>68369.640625</td>\n",
       "      <td>110674.359375</td>\n",
       "      <td>-42304.714844</td>\n",
       "    </tr>\n",
       "    <tr>\n",
       "      <th>3</th>\n",
       "      <td>2024-04-30</td>\n",
       "      <td>None</td>\n",
       "      <td>78875.882812</td>\n",
       "      <td>97672.898438</td>\n",
       "      <td>-18797.013672</td>\n",
       "    </tr>\n",
       "    <tr>\n",
       "      <th>4</th>\n",
       "      <td>2024-05-31</td>\n",
       "      <td>None</td>\n",
       "      <td>99092.429688</td>\n",
       "      <td>84238.062500</td>\n",
       "      <td>14854.364258</td>\n",
       "    </tr>\n",
       "    <tr>\n",
       "      <th>5</th>\n",
       "      <td>2024-06-30</td>\n",
       "      <td>None</td>\n",
       "      <td>98391.312500</td>\n",
       "      <td>71236.640625</td>\n",
       "      <td>27154.669922</td>\n",
       "    </tr>\n",
       "    <tr>\n",
       "      <th>6</th>\n",
       "      <td>2024-07-31</td>\n",
       "      <td>None</td>\n",
       "      <td>101776.593750</td>\n",
       "      <td>57801.812500</td>\n",
       "      <td>43974.781250</td>\n",
       "    </tr>\n",
       "    <tr>\n",
       "      <th>7</th>\n",
       "      <td>2024-08-31</td>\n",
       "      <td>None</td>\n",
       "      <td>87193.468750</td>\n",
       "      <td>44366.937500</td>\n",
       "      <td>42826.531250</td>\n",
       "    </tr>\n",
       "    <tr>\n",
       "      <th>8</th>\n",
       "      <td>2024-09-30</td>\n",
       "      <td>None</td>\n",
       "      <td>19713.531250</td>\n",
       "      <td>31365.472656</td>\n",
       "      <td>-11651.941406</td>\n",
       "    </tr>\n",
       "  </tbody>\n",
       "</table>\n",
       "</div>"
      ],
      "text/plain": [
       "          ds     y          yhat1          trend  season_yearly\n",
       "0 2024-01-31  None   59791.890625  136677.343750  -76885.445312\n",
       "1 2024-02-29  None  -38029.699219  124109.234375 -162138.937500\n",
       "2 2024-03-31  None   68369.640625  110674.359375  -42304.714844\n",
       "3 2024-04-30  None   78875.882812   97672.898438  -18797.013672\n",
       "4 2024-05-31  None   99092.429688   84238.062500   14854.364258\n",
       "5 2024-06-30  None   98391.312500   71236.640625   27154.669922\n",
       "6 2024-07-31  None  101776.593750   57801.812500   43974.781250\n",
       "7 2024-08-31  None   87193.468750   44366.937500   42826.531250\n",
       "8 2024-09-30  None   19713.531250   31365.472656  -11651.941406"
      ]
     },
     "execution_count": 19,
     "metadata": {},
     "output_type": "execute_result"
    }
   ],
   "source": [
    "future = n.make_future_dataframe(x, periods=9)\n",
    "forecast = n.predict(future)\n",
    "# forecast['y']=jan_df['E1']\n",
    "forecast"
   ]
  },
  {
   "cell_type": "code",
   "execution_count": 20,
   "metadata": {},
   "outputs": [
    {
     "name": "stderr",
     "output_type": "stream",
     "text": [
      "ERROR - (NP.plotly.plot) - plotly-resampler is not installed. Please install it to use the resampler.\n",
      "WARNING - (py.warnings._showwarnmsg) - c:\\Miniconda3\\envs\\intern\\Lib\\site-packages\\neuralprophet\\plot_forecast_plotly.py:98: FutureWarning: Downcasting object dtype arrays on .fillna, .ffill, .bfill is deprecated and will change in a future version. Call result.infer_objects(copy=False) instead. To opt-in to the future behavior, set `pd.set_option('future.no_silent_downcasting', True)`\n",
      "  fcst = fcst.fillna(value=np.nan)\n",
      "\n",
      "WARNING - (py.warnings._showwarnmsg) - c:\\Miniconda3\\envs\\intern\\Lib\\site-packages\\neuralprophet\\plot_forecast_plotly.py:100: FutureWarning: The behavior of DatetimeProperties.to_pydatetime is deprecated, in a future version this will return a Series containing python datetime objects instead of an ndarray. To retain the old behavior, call `np.array` on the result\n",
      "  ds = fcst[\"ds\"].dt.to_pydatetime()\n",
      "\n"
     ]
    },
    {
     "data": {
      "application/vnd.plotly.v1+json": {
       "config": {
        "plotlyServerURL": "https://plot.ly"
       },
       "data": [
        {
         "fill": "none",
         "line": {
          "color": "rgba(45, 146, 255, 1.0)",
          "width": 2
         },
         "mode": "lines",
         "name": "yhat1",
         "type": "scatter",
         "x": [
          "2024-01-31T00:00:00",
          "2024-02-29T00:00:00",
          "2024-03-31T00:00:00",
          "2024-04-30T00:00:00",
          "2024-05-31T00:00:00",
          "2024-06-30T00:00:00",
          "2024-07-31T00:00:00",
          "2024-08-31T00:00:00",
          "2024-09-30T00:00:00"
         ],
         "y": [
          59791.890625,
          -38029.69921875,
          68369.640625,
          78875.8828125,
          99092.4296875,
          98391.3125,
          101776.59375,
          87193.46875,
          19713.53125
         ]
        },
        {
         "marker": {
          "color": "black",
          "size": 4
         },
         "mode": "markers",
         "name": "Actual",
         "type": "scatter",
         "x": [
          "2024-01-31T00:00:00",
          "2024-02-29T00:00:00",
          "2024-03-31T00:00:00",
          "2024-04-30T00:00:00",
          "2024-05-31T00:00:00",
          "2024-06-30T00:00:00",
          "2024-07-31T00:00:00",
          "2024-08-31T00:00:00",
          "2024-09-30T00:00:00"
         ],
         "y": [
          null,
          null,
          null,
          null,
          null,
          null,
          null,
          null,
          null
         ]
        }
       ],
       "layout": {
        "autosize": true,
        "font": {
         "size": 10
        },
        "height": 420,
        "hovermode": "x unified",
        "margin": {
         "b": 0,
         "l": 0,
         "pad": 0,
         "r": 10,
         "t": 10
        },
        "showlegend": true,
        "template": {
         "data": {
          "bar": [
           {
            "error_x": {
             "color": "#2a3f5f"
            },
            "error_y": {
             "color": "#2a3f5f"
            },
            "marker": {
             "line": {
              "color": "white",
              "width": 0.5
             },
             "pattern": {
              "fillmode": "overlay",
              "size": 10,
              "solidity": 0.2
             }
            },
            "type": "bar"
           }
          ],
          "barpolar": [
           {
            "marker": {
             "line": {
              "color": "white",
              "width": 0.5
             },
             "pattern": {
              "fillmode": "overlay",
              "size": 10,
              "solidity": 0.2
             }
            },
            "type": "barpolar"
           }
          ],
          "carpet": [
           {
            "aaxis": {
             "endlinecolor": "#2a3f5f",
             "gridcolor": "#C8D4E3",
             "linecolor": "#C8D4E3",
             "minorgridcolor": "#C8D4E3",
             "startlinecolor": "#2a3f5f"
            },
            "baxis": {
             "endlinecolor": "#2a3f5f",
             "gridcolor": "#C8D4E3",
             "linecolor": "#C8D4E3",
             "minorgridcolor": "#C8D4E3",
             "startlinecolor": "#2a3f5f"
            },
            "type": "carpet"
           }
          ],
          "choropleth": [
           {
            "colorbar": {
             "outlinewidth": 0,
             "ticks": ""
            },
            "type": "choropleth"
           }
          ],
          "contour": [
           {
            "colorbar": {
             "outlinewidth": 0,
             "ticks": ""
            },
            "colorscale": [
             [
              0,
              "#0d0887"
             ],
             [
              0.1111111111111111,
              "#46039f"
             ],
             [
              0.2222222222222222,
              "#7201a8"
             ],
             [
              0.3333333333333333,
              "#9c179e"
             ],
             [
              0.4444444444444444,
              "#bd3786"
             ],
             [
              0.5555555555555556,
              "#d8576b"
             ],
             [
              0.6666666666666666,
              "#ed7953"
             ],
             [
              0.7777777777777778,
              "#fb9f3a"
             ],
             [
              0.8888888888888888,
              "#fdca26"
             ],
             [
              1,
              "#f0f921"
             ]
            ],
            "type": "contour"
           }
          ],
          "contourcarpet": [
           {
            "colorbar": {
             "outlinewidth": 0,
             "ticks": ""
            },
            "type": "contourcarpet"
           }
          ],
          "heatmap": [
           {
            "colorbar": {
             "outlinewidth": 0,
             "ticks": ""
            },
            "colorscale": [
             [
              0,
              "#0d0887"
             ],
             [
              0.1111111111111111,
              "#46039f"
             ],
             [
              0.2222222222222222,
              "#7201a8"
             ],
             [
              0.3333333333333333,
              "#9c179e"
             ],
             [
              0.4444444444444444,
              "#bd3786"
             ],
             [
              0.5555555555555556,
              "#d8576b"
             ],
             [
              0.6666666666666666,
              "#ed7953"
             ],
             [
              0.7777777777777778,
              "#fb9f3a"
             ],
             [
              0.8888888888888888,
              "#fdca26"
             ],
             [
              1,
              "#f0f921"
             ]
            ],
            "type": "heatmap"
           }
          ],
          "heatmapgl": [
           {
            "colorbar": {
             "outlinewidth": 0,
             "ticks": ""
            },
            "colorscale": [
             [
              0,
              "#0d0887"
             ],
             [
              0.1111111111111111,
              "#46039f"
             ],
             [
              0.2222222222222222,
              "#7201a8"
             ],
             [
              0.3333333333333333,
              "#9c179e"
             ],
             [
              0.4444444444444444,
              "#bd3786"
             ],
             [
              0.5555555555555556,
              "#d8576b"
             ],
             [
              0.6666666666666666,
              "#ed7953"
             ],
             [
              0.7777777777777778,
              "#fb9f3a"
             ],
             [
              0.8888888888888888,
              "#fdca26"
             ],
             [
              1,
              "#f0f921"
             ]
            ],
            "type": "heatmapgl"
           }
          ],
          "histogram": [
           {
            "marker": {
             "pattern": {
              "fillmode": "overlay",
              "size": 10,
              "solidity": 0.2
             }
            },
            "type": "histogram"
           }
          ],
          "histogram2d": [
           {
            "colorbar": {
             "outlinewidth": 0,
             "ticks": ""
            },
            "colorscale": [
             [
              0,
              "#0d0887"
             ],
             [
              0.1111111111111111,
              "#46039f"
             ],
             [
              0.2222222222222222,
              "#7201a8"
             ],
             [
              0.3333333333333333,
              "#9c179e"
             ],
             [
              0.4444444444444444,
              "#bd3786"
             ],
             [
              0.5555555555555556,
              "#d8576b"
             ],
             [
              0.6666666666666666,
              "#ed7953"
             ],
             [
              0.7777777777777778,
              "#fb9f3a"
             ],
             [
              0.8888888888888888,
              "#fdca26"
             ],
             [
              1,
              "#f0f921"
             ]
            ],
            "type": "histogram2d"
           }
          ],
          "histogram2dcontour": [
           {
            "colorbar": {
             "outlinewidth": 0,
             "ticks": ""
            },
            "colorscale": [
             [
              0,
              "#0d0887"
             ],
             [
              0.1111111111111111,
              "#46039f"
             ],
             [
              0.2222222222222222,
              "#7201a8"
             ],
             [
              0.3333333333333333,
              "#9c179e"
             ],
             [
              0.4444444444444444,
              "#bd3786"
             ],
             [
              0.5555555555555556,
              "#d8576b"
             ],
             [
              0.6666666666666666,
              "#ed7953"
             ],
             [
              0.7777777777777778,
              "#fb9f3a"
             ],
             [
              0.8888888888888888,
              "#fdca26"
             ],
             [
              1,
              "#f0f921"
             ]
            ],
            "type": "histogram2dcontour"
           }
          ],
          "mesh3d": [
           {
            "colorbar": {
             "outlinewidth": 0,
             "ticks": ""
            },
            "type": "mesh3d"
           }
          ],
          "parcoords": [
           {
            "line": {
             "colorbar": {
              "outlinewidth": 0,
              "ticks": ""
             }
            },
            "type": "parcoords"
           }
          ],
          "pie": [
           {
            "automargin": true,
            "type": "pie"
           }
          ],
          "scatter": [
           {
            "fillpattern": {
             "fillmode": "overlay",
             "size": 10,
             "solidity": 0.2
            },
            "type": "scatter"
           }
          ],
          "scatter3d": [
           {
            "line": {
             "colorbar": {
              "outlinewidth": 0,
              "ticks": ""
             }
            },
            "marker": {
             "colorbar": {
              "outlinewidth": 0,
              "ticks": ""
             }
            },
            "type": "scatter3d"
           }
          ],
          "scattercarpet": [
           {
            "marker": {
             "colorbar": {
              "outlinewidth": 0,
              "ticks": ""
             }
            },
            "type": "scattercarpet"
           }
          ],
          "scattergeo": [
           {
            "marker": {
             "colorbar": {
              "outlinewidth": 0,
              "ticks": ""
             }
            },
            "type": "scattergeo"
           }
          ],
          "scattergl": [
           {
            "marker": {
             "colorbar": {
              "outlinewidth": 0,
              "ticks": ""
             }
            },
            "type": "scattergl"
           }
          ],
          "scattermapbox": [
           {
            "marker": {
             "colorbar": {
              "outlinewidth": 0,
              "ticks": ""
             }
            },
            "type": "scattermapbox"
           }
          ],
          "scatterpolar": [
           {
            "marker": {
             "colorbar": {
              "outlinewidth": 0,
              "ticks": ""
             }
            },
            "type": "scatterpolar"
           }
          ],
          "scatterpolargl": [
           {
            "marker": {
             "colorbar": {
              "outlinewidth": 0,
              "ticks": ""
             }
            },
            "type": "scatterpolargl"
           }
          ],
          "scatterternary": [
           {
            "marker": {
             "colorbar": {
              "outlinewidth": 0,
              "ticks": ""
             }
            },
            "type": "scatterternary"
           }
          ],
          "surface": [
           {
            "colorbar": {
             "outlinewidth": 0,
             "ticks": ""
            },
            "colorscale": [
             [
              0,
              "#0d0887"
             ],
             [
              0.1111111111111111,
              "#46039f"
             ],
             [
              0.2222222222222222,
              "#7201a8"
             ],
             [
              0.3333333333333333,
              "#9c179e"
             ],
             [
              0.4444444444444444,
              "#bd3786"
             ],
             [
              0.5555555555555556,
              "#d8576b"
             ],
             [
              0.6666666666666666,
              "#ed7953"
             ],
             [
              0.7777777777777778,
              "#fb9f3a"
             ],
             [
              0.8888888888888888,
              "#fdca26"
             ],
             [
              1,
              "#f0f921"
             ]
            ],
            "type": "surface"
           }
          ],
          "table": [
           {
            "cells": {
             "fill": {
              "color": "#EBF0F8"
             },
             "line": {
              "color": "white"
             }
            },
            "header": {
             "fill": {
              "color": "#C8D4E3"
             },
             "line": {
              "color": "white"
             }
            },
            "type": "table"
           }
          ]
         },
         "layout": {
          "annotationdefaults": {
           "arrowcolor": "#2a3f5f",
           "arrowhead": 0,
           "arrowwidth": 1
          },
          "autotypenumbers": "strict",
          "coloraxis": {
           "colorbar": {
            "outlinewidth": 0,
            "ticks": ""
           }
          },
          "colorscale": {
           "diverging": [
            [
             0,
             "#8e0152"
            ],
            [
             0.1,
             "#c51b7d"
            ],
            [
             0.2,
             "#de77ae"
            ],
            [
             0.3,
             "#f1b6da"
            ],
            [
             0.4,
             "#fde0ef"
            ],
            [
             0.5,
             "#f7f7f7"
            ],
            [
             0.6,
             "#e6f5d0"
            ],
            [
             0.7,
             "#b8e186"
            ],
            [
             0.8,
             "#7fbc41"
            ],
            [
             0.9,
             "#4d9221"
            ],
            [
             1,
             "#276419"
            ]
           ],
           "sequential": [
            [
             0,
             "#0d0887"
            ],
            [
             0.1111111111111111,
             "#46039f"
            ],
            [
             0.2222222222222222,
             "#7201a8"
            ],
            [
             0.3333333333333333,
             "#9c179e"
            ],
            [
             0.4444444444444444,
             "#bd3786"
            ],
            [
             0.5555555555555556,
             "#d8576b"
            ],
            [
             0.6666666666666666,
             "#ed7953"
            ],
            [
             0.7777777777777778,
             "#fb9f3a"
            ],
            [
             0.8888888888888888,
             "#fdca26"
            ],
            [
             1,
             "#f0f921"
            ]
           ],
           "sequentialminus": [
            [
             0,
             "#0d0887"
            ],
            [
             0.1111111111111111,
             "#46039f"
            ],
            [
             0.2222222222222222,
             "#7201a8"
            ],
            [
             0.3333333333333333,
             "#9c179e"
            ],
            [
             0.4444444444444444,
             "#bd3786"
            ],
            [
             0.5555555555555556,
             "#d8576b"
            ],
            [
             0.6666666666666666,
             "#ed7953"
            ],
            [
             0.7777777777777778,
             "#fb9f3a"
            ],
            [
             0.8888888888888888,
             "#fdca26"
            ],
            [
             1,
             "#f0f921"
            ]
           ]
          },
          "colorway": [
           "#636efa",
           "#EF553B",
           "#00cc96",
           "#ab63fa",
           "#FFA15A",
           "#19d3f3",
           "#FF6692",
           "#B6E880",
           "#FF97FF",
           "#FECB52"
          ],
          "font": {
           "color": "#2a3f5f"
          },
          "geo": {
           "bgcolor": "white",
           "lakecolor": "white",
           "landcolor": "white",
           "showlakes": true,
           "showland": true,
           "subunitcolor": "#C8D4E3"
          },
          "hoverlabel": {
           "align": "left"
          },
          "hovermode": "closest",
          "mapbox": {
           "style": "light"
          },
          "paper_bgcolor": "white",
          "plot_bgcolor": "white",
          "polar": {
           "angularaxis": {
            "gridcolor": "#EBF0F8",
            "linecolor": "#EBF0F8",
            "ticks": ""
           },
           "bgcolor": "white",
           "radialaxis": {
            "gridcolor": "#EBF0F8",
            "linecolor": "#EBF0F8",
            "ticks": ""
           }
          },
          "scene": {
           "xaxis": {
            "backgroundcolor": "white",
            "gridcolor": "#DFE8F3",
            "gridwidth": 2,
            "linecolor": "#EBF0F8",
            "showbackground": true,
            "ticks": "",
            "zerolinecolor": "#EBF0F8"
           },
           "yaxis": {
            "backgroundcolor": "white",
            "gridcolor": "#DFE8F3",
            "gridwidth": 2,
            "linecolor": "#EBF0F8",
            "showbackground": true,
            "ticks": "",
            "zerolinecolor": "#EBF0F8"
           },
           "zaxis": {
            "backgroundcolor": "white",
            "gridcolor": "#DFE8F3",
            "gridwidth": 2,
            "linecolor": "#EBF0F8",
            "showbackground": true,
            "ticks": "",
            "zerolinecolor": "#EBF0F8"
           }
          },
          "shapedefaults": {
           "line": {
            "color": "#2a3f5f"
           }
          },
          "ternary": {
           "aaxis": {
            "gridcolor": "#DFE8F3",
            "linecolor": "#A2B1C6",
            "ticks": ""
           },
           "baxis": {
            "gridcolor": "#DFE8F3",
            "linecolor": "#A2B1C6",
            "ticks": ""
           },
           "bgcolor": "white",
           "caxis": {
            "gridcolor": "#DFE8F3",
            "linecolor": "#A2B1C6",
            "ticks": ""
           }
          },
          "title": {
           "x": 0.05
          },
          "xaxis": {
           "automargin": true,
           "gridcolor": "#EBF0F8",
           "linecolor": "#EBF0F8",
           "ticks": "",
           "title": {
            "standoff": 15
           },
           "zerolinecolor": "#EBF0F8",
           "zerolinewidth": 2
          },
          "yaxis": {
           "automargin": true,
           "gridcolor": "#EBF0F8",
           "linecolor": "#EBF0F8",
           "ticks": "",
           "title": {
            "standoff": 15
           },
           "zerolinecolor": "#EBF0F8",
           "zerolinewidth": 2
          }
         }
        },
        "title": {
         "font": {
          "size": 12
         }
        },
        "width": 700,
        "xaxis": {
         "linewidth": 1.5,
         "mirror": true,
         "rangeselector": {
          "buttons": [
           {
            "count": 7,
            "label": "1w",
            "step": "day",
            "stepmode": "backward"
           },
           {
            "count": 1,
            "label": "1m",
            "step": "month",
            "stepmode": "backward"
           },
           {
            "count": 6,
            "label": "6m",
            "step": "month",
            "stepmode": "backward"
           },
           {
            "count": 1,
            "label": "1y",
            "step": "year",
            "stepmode": "backward"
           },
           {
            "step": "all"
           }
          ]
         },
         "rangeslider": {
          "visible": true
         },
         "showline": true,
         "title": {
          "text": "ds"
         },
         "type": "date"
        },
        "yaxis": {
         "linewidth": 1.5,
         "mirror": true,
         "showline": true,
         "title": {
          "text": "y"
         }
        }
       }
      }
     },
     "metadata": {},
     "output_type": "display_data"
    }
   ],
   "source": [
    "n.plot(forecast)"
   ]
  },
  {
   "cell_type": "code",
   "execution_count": 156,
   "metadata": {},
   "outputs": [],
   "source": [
    "jan_df['Date'] = pd.to_datetime(jan_df['Date'],format='%d-%m-%Y')\n",
    "for col in  jan_df.columns[1:]:\n",
    "    jan_df[col] = pd.to_numeric(jan_df[col], errors='coerce')"
   ]
  },
  {
   "cell_type": "code",
   "execution_count": 158,
   "metadata": {},
   "outputs": [
    {
     "data": {
      "text/plain": [
       "<pandas.core.groupby.generic.DataFrameGroupBy object at 0x000001C696CA9110>"
      ]
     },
     "execution_count": 158,
     "metadata": {},
     "output_type": "execute_result"
    }
   ],
   "source": [
    "y = jan_df.groupby(pd.Grouper(key='Date', freq='ME'))\n",
    "y"
   ]
  },
  {
   "cell_type": "markdown",
   "metadata": {},
   "source": [
    "## A2"
   ]
  },
  {
   "cell_type": "code",
   "execution_count": 44,
   "metadata": {},
   "outputs": [
    {
     "data": {
      "text/html": [
       "<div>\n",
       "<style scoped>\n",
       "    .dataframe tbody tr th:only-of-type {\n",
       "        vertical-align: middle;\n",
       "    }\n",
       "\n",
       "    .dataframe tbody tr th {\n",
       "        vertical-align: top;\n",
       "    }\n",
       "\n",
       "    .dataframe thead th {\n",
       "        text-align: right;\n",
       "    }\n",
       "</style>\n",
       "<table border=\"1\" class=\"dataframe\">\n",
       "  <thead>\n",
       "    <tr style=\"text-align: right;\">\n",
       "      <th></th>\n",
       "      <th>ds</th>\n",
       "      <th>y</th>\n",
       "    </tr>\n",
       "  </thead>\n",
       "  <tbody>\n",
       "    <tr>\n",
       "      <th>0</th>\n",
       "      <td>2021-01-01</td>\n",
       "      <td>9387.48</td>\n",
       "    </tr>\n",
       "    <tr>\n",
       "      <th>1</th>\n",
       "      <td>2021-01-02</td>\n",
       "      <td>13055.97</td>\n",
       "    </tr>\n",
       "    <tr>\n",
       "      <th>2</th>\n",
       "      <td>2021-01-03</td>\n",
       "      <td>13176.51</td>\n",
       "    </tr>\n",
       "    <tr>\n",
       "      <th>3</th>\n",
       "      <td>2021-01-04</td>\n",
       "      <td>15575.81</td>\n",
       "    </tr>\n",
       "    <tr>\n",
       "      <th>4</th>\n",
       "      <td>2021-01-05</td>\n",
       "      <td>15496.28</td>\n",
       "    </tr>\n",
       "    <tr>\n",
       "      <th>...</th>\n",
       "      <td>...</td>\n",
       "      <td>...</td>\n",
       "    </tr>\n",
       "    <tr>\n",
       "      <th>1090</th>\n",
       "      <td>2023-12-27</td>\n",
       "      <td>12617.75</td>\n",
       "    </tr>\n",
       "    <tr>\n",
       "      <th>1091</th>\n",
       "      <td>2023-12-28</td>\n",
       "      <td>8182.95</td>\n",
       "    </tr>\n",
       "    <tr>\n",
       "      <th>1092</th>\n",
       "      <td>2023-12-29</td>\n",
       "      <td>5435.54</td>\n",
       "    </tr>\n",
       "    <tr>\n",
       "      <th>1093</th>\n",
       "      <td>2023-12-30</td>\n",
       "      <td>7813.36</td>\n",
       "    </tr>\n",
       "    <tr>\n",
       "      <th>1094</th>\n",
       "      <td>2023-12-31</td>\n",
       "      <td>5625.81</td>\n",
       "    </tr>\n",
       "  </tbody>\n",
       "</table>\n",
       "<p>1095 rows × 2 columns</p>\n",
       "</div>"
      ],
      "text/plain": [
       "             ds         y\n",
       "0    2021-01-01   9387.48\n",
       "1    2021-01-02  13055.97\n",
       "2    2021-01-03  13176.51\n",
       "3    2021-01-04  15575.81\n",
       "4    2021-01-05  15496.28\n",
       "...         ...       ...\n",
       "1090 2023-12-27  12617.75\n",
       "1091 2023-12-28   8182.95\n",
       "1092 2023-12-29   5435.54\n",
       "1093 2023-12-30   7813.36\n",
       "1094 2023-12-31   5625.81\n",
       "\n",
       "[1095 rows x 2 columns]"
      ]
     },
     "execution_count": 44,
     "metadata": {},
     "output_type": "execute_result"
    }
   ],
   "source": [
    "data_a2 = df.loc[:,['Date', 'S2']]\n",
    "data_a2.columns = ['ds', 'y']\n",
    "data_a2.fillna(0.00,inplace=True)\n",
    "data_a2"
   ]
  },
  {
   "cell_type": "code",
   "execution_count": 49,
   "metadata": {},
   "outputs": [
    {
     "data": {
      "text/plain": [
       "[<matplotlib.lines.Line2D at 0x1fb808e5d90>]"
      ]
     },
     "execution_count": 49,
     "metadata": {},
     "output_type": "execute_result"
    },
    {
     "data": {
      "image/png": "[encoded data removed]",
      "text/plain": [
       "<Figure size 2000x800 with 1 Axes>"
      ]
     },
     "metadata": {},
     "output_type": "display_data"
    }
   ],
   "source": [
    "plt.figure(figsize=(20,8))\n",
    "plt.plot(data_a2['ds'], data_a2['y'], scalex=True)"
   ]
  },
  {
   "cell_type": "code",
   "execution_count": 52,
   "metadata": {},
   "outputs": [
    {
     "name": "stderr",
     "output_type": "stream",
     "text": [
      "WARNING - (NP.forecaster.fit) - When Global modeling with local normalization, metrics are displayed in normalized scale.\n",
      "WARNING - (py.warnings._showwarnmsg) - c:\\Miniconda3\\envs\\intern\\Lib\\site-packages\\neuralprophet\\df_utils.py:1152: FutureWarning:\n",
      "\n",
      "Series.view is deprecated and will be removed in a future version. Use ``astype`` as an alternative to change the dtype.\n",
      "\n",
      "\n",
      "INFO - (NP.df_utils._infer_frequency) - Major frequency D corresponds to 99.909% of the data.\n",
      "WARNING - (py.warnings._showwarnmsg) - c:\\Miniconda3\\envs\\intern\\Lib\\site-packages\\neuralprophet\\df_utils.py:1152: FutureWarning:\n",
      "\n",
      "Series.view is deprecated and will be removed in a future version. Use ``astype`` as an alternative to change the dtype.\n",
      "\n",
      "\n",
      "WARNING - (py.warnings._showwarnmsg) - c:\\Miniconda3\\envs\\intern\\Lib\\site-packages\\neuralprophet\\df_utils.py:1152: FutureWarning:\n",
      "\n",
      "Series.view is deprecated and will be removed in a future version. Use ``astype`` as an alternative to change the dtype.\n",
      "\n",
      "\n",
      "INFO - (NP.df_utils._infer_frequency) - Defined frequency is equal to major frequency - D\n",
      "INFO - (NP.config.init_data_params) - Setting normalization to global as only one dataframe provided for training.\n",
      "INFO - (NP.utils.set_auto_seasonalities) - Disabling daily seasonality. Run NeuralProphet with daily_seasonality=True to override this.\n",
      "INFO - (NP.config.set_auto_batch_epoch) - Auto-set batch_size to 32\n",
      "WARNING - (NP.config.set_lr_finder_args) - Learning rate finder: The number of batches (35) is too small than the required number                     for the learning rate finder (226). The results might not be optimal.\n",
      "Finding best initial lr: 100%|██████████| 226/226 [00:01<00:00, 213.43it/s]\n"
     ]
    },
    {
     "name": "stdout",
     "output_type": "stream",
     "text": [
      "Epoch 1000: 100%|██████████| 1000/1000 [00:00<00:00, 4283.89it/s, loss=0.0446, v_num=8, MAE=2.82e+3, RMSE=4.84e+3, Loss=0.0424, RegLoss=0.000] \n"
     ]
    },
    {
     "data": {
      "text/html": [
       "<div>\n",
       "<style scoped>\n",
       "    .dataframe tbody tr th:only-of-type {\n",
       "        vertical-align: middle;\n",
       "    }\n",
       "\n",
       "    .dataframe tbody tr th {\n",
       "        vertical-align: top;\n",
       "    }\n",
       "\n",
       "    .dataframe thead th {\n",
       "        text-align: right;\n",
       "    }\n",
       "</style>\n",
       "<table border=\"1\" class=\"dataframe\">\n",
       "  <thead>\n",
       "    <tr style=\"text-align: right;\">\n",
       "      <th></th>\n",
       "      <th>MAE</th>\n",
       "      <th>RMSE</th>\n",
       "      <th>Loss</th>\n",
       "      <th>RegLoss</th>\n",
       "      <th>epoch</th>\n",
       "    </tr>\n",
       "  </thead>\n",
       "  <tbody>\n",
       "    <tr>\n",
       "      <th>0</th>\n",
       "      <td>22348.062500</td>\n",
       "      <td>27696.375000</td>\n",
       "      <td>0.741944</td>\n",
       "      <td>0.0</td>\n",
       "      <td>0</td>\n",
       "    </tr>\n",
       "    <tr>\n",
       "      <th>1</th>\n",
       "      <td>17809.986328</td>\n",
       "      <td>22253.732422</td>\n",
       "      <td>0.567688</td>\n",
       "      <td>0.0</td>\n",
       "      <td>1</td>\n",
       "    </tr>\n",
       "    <tr>\n",
       "      <th>2</th>\n",
       "      <td>13449.952148</td>\n",
       "      <td>17103.789062</td>\n",
       "      <td>0.400863</td>\n",
       "      <td>0.0</td>\n",
       "      <td>2</td>\n",
       "    </tr>\n",
       "    <tr>\n",
       "      <th>3</th>\n",
       "      <td>9773.499023</td>\n",
       "      <td>12650.569336</td>\n",
       "      <td>0.267204</td>\n",
       "      <td>0.0</td>\n",
       "      <td>3</td>\n",
       "    </tr>\n",
       "    <tr>\n",
       "      <th>4</th>\n",
       "      <td>7305.989258</td>\n",
       "      <td>9560.927734</td>\n",
       "      <td>0.175869</td>\n",
       "      <td>0.0</td>\n",
       "      <td>4</td>\n",
       "    </tr>\n",
       "    <tr>\n",
       "      <th>...</th>\n",
       "      <td>...</td>\n",
       "      <td>...</td>\n",
       "      <td>...</td>\n",
       "      <td>...</td>\n",
       "      <td>...</td>\n",
       "    </tr>\n",
       "    <tr>\n",
       "      <th>995</th>\n",
       "      <td>2807.069336</td>\n",
       "      <td>4829.166992</td>\n",
       "      <td>0.042235</td>\n",
       "      <td>0.0</td>\n",
       "      <td>995</td>\n",
       "    </tr>\n",
       "    <tr>\n",
       "      <th>996</th>\n",
       "      <td>2799.387939</td>\n",
       "      <td>4784.059082</td>\n",
       "      <td>0.042089</td>\n",
       "      <td>0.0</td>\n",
       "      <td>996</td>\n",
       "    </tr>\n",
       "    <tr>\n",
       "      <th>997</th>\n",
       "      <td>2930.045654</td>\n",
       "      <td>5038.692383</td>\n",
       "      <td>0.045518</td>\n",
       "      <td>0.0</td>\n",
       "      <td>997</td>\n",
       "    </tr>\n",
       "    <tr>\n",
       "      <th>998</th>\n",
       "      <td>2861.591797</td>\n",
       "      <td>4842.471680</td>\n",
       "      <td>0.043487</td>\n",
       "      <td>0.0</td>\n",
       "      <td>998</td>\n",
       "    </tr>\n",
       "    <tr>\n",
       "      <th>999</th>\n",
       "      <td>2822.101807</td>\n",
       "      <td>4842.546875</td>\n",
       "      <td>0.042445</td>\n",
       "      <td>0.0</td>\n",
       "      <td>999</td>\n",
       "    </tr>\n",
       "  </tbody>\n",
       "</table>\n",
       "<p>1000 rows × 5 columns</p>\n",
       "</div>"
      ],
      "text/plain": [
       "              MAE          RMSE      Loss  RegLoss  epoch\n",
       "0    22348.062500  27696.375000  0.741944      0.0      0\n",
       "1    17809.986328  22253.732422  0.567688      0.0      1\n",
       "2    13449.952148  17103.789062  0.400863      0.0      2\n",
       "3     9773.499023  12650.569336  0.267204      0.0      3\n",
       "4     7305.989258   9560.927734  0.175869      0.0      4\n",
       "..            ...           ...       ...      ...    ...\n",
       "995   2807.069336   4829.166992  0.042235      0.0    995\n",
       "996   2799.387939   4784.059082  0.042089      0.0    996\n",
       "997   2930.045654   5038.692383  0.045518      0.0    997\n",
       "998   2861.591797   4842.471680  0.043487      0.0    998\n",
       "999   2822.101807   4842.546875  0.042445      0.0    999\n",
       "\n",
       "[1000 rows x 5 columns]"
      ]
     },
     "execution_count": 52,
     "metadata": {},
     "output_type": "execute_result"
    }
   ],
   "source": [
    "a2 = NeuralProphet()\n",
    "a2.fit(data_a2, freq=\"D\", epochs=1000)"
   ]
  },
  {
   "cell_type": "code",
   "execution_count": 75,
   "metadata": {},
   "outputs": [
    {
     "name": "stderr",
     "output_type": "stream",
     "text": [
      "WARNING - (py.warnings._showwarnmsg) - c:\\Miniconda3\\envs\\intern\\Lib\\site-packages\\neuralprophet\\df_utils.py:1152: FutureWarning:\n",
      "\n",
      "Series.view is deprecated and will be removed in a future version. Use ``astype`` as an alternative to change the dtype.\n",
      "\n",
      "\n",
      "INFO - (NP.df_utils._infer_frequency) - Major frequency D corresponds to 99.909% of the data.\n",
      "WARNING - (py.warnings._showwarnmsg) - c:\\Miniconda3\\envs\\intern\\Lib\\site-packages\\neuralprophet\\df_utils.py:1152: FutureWarning:\n",
      "\n",
      "Series.view is deprecated and will be removed in a future version. Use ``astype`` as an alternative to change the dtype.\n",
      "\n",
      "\n",
      "WARNING - (py.warnings._showwarnmsg) - c:\\Miniconda3\\envs\\intern\\Lib\\site-packages\\neuralprophet\\df_utils.py:1152: FutureWarning:\n",
      "\n",
      "Series.view is deprecated and will be removed in a future version. Use ``astype`` as an alternative to change the dtype.\n",
      "\n",
      "\n",
      "INFO - (NP.df_utils._infer_frequency) - Defined frequency is equal to major frequency - D\n",
      "INFO - (NP.df_utils.return_df_in_original_format) - Returning df with no ID column\n",
      "WARNING - (py.warnings._showwarnmsg) - c:\\Miniconda3\\envs\\intern\\Lib\\site-packages\\neuralprophet\\df_utils.py:1152: FutureWarning:\n",
      "\n",
      "Series.view is deprecated and will be removed in a future version. Use ``astype`` as an alternative to change the dtype.\n",
      "\n",
      "\n",
      "INFO - (NP.df_utils._infer_frequency) - Major frequency D corresponds to 96.774% of the data.\n",
      "WARNING - (py.warnings._showwarnmsg) - c:\\Miniconda3\\envs\\intern\\Lib\\site-packages\\neuralprophet\\df_utils.py:1152: FutureWarning:\n",
      "\n",
      "Series.view is deprecated and will be removed in a future version. Use ``astype`` as an alternative to change the dtype.\n",
      "\n",
      "\n",
      "WARNING - (py.warnings._showwarnmsg) - c:\\Miniconda3\\envs\\intern\\Lib\\site-packages\\neuralprophet\\df_utils.py:1152: FutureWarning:\n",
      "\n",
      "Series.view is deprecated and will be removed in a future version. Use ``astype`` as an alternative to change the dtype.\n",
      "\n",
      "\n",
      "INFO - (NP.df_utils._infer_frequency) - Defined frequency is equal to major frequency - D\n",
      "WARNING - (py.warnings._showwarnmsg) - c:\\Miniconda3\\envs\\intern\\Lib\\site-packages\\neuralprophet\\df_utils.py:1152: FutureWarning:\n",
      "\n",
      "Series.view is deprecated and will be removed in a future version. Use ``astype`` as an alternative to change the dtype.\n",
      "\n",
      "\n",
      "INFO - (NP.df_utils._infer_frequency) - Major frequency D corresponds to 96.774% of the data.\n",
      "WARNING - (py.warnings._showwarnmsg) - c:\\Miniconda3\\envs\\intern\\Lib\\site-packages\\neuralprophet\\df_utils.py:1152: FutureWarning:\n",
      "\n",
      "Series.view is deprecated and will be removed in a future version. Use ``astype`` as an alternative to change the dtype.\n",
      "\n",
      "\n",
      "WARNING - (py.warnings._showwarnmsg) - c:\\Miniconda3\\envs\\intern\\Lib\\site-packages\\neuralprophet\\df_utils.py:1152: FutureWarning:\n",
      "\n",
      "Series.view is deprecated and will be removed in a future version. Use ``astype`` as an alternative to change the dtype.\n",
      "\n",
      "\n",
      "INFO - (NP.df_utils._infer_frequency) - Defined frequency is equal to major frequency - D\n"
     ]
    },
    {
     "name": "stdout",
     "output_type": "stream",
     "text": [
      "Predicting DataLoader 0: 100%|██████████| 1/1 [00:00<00:00, 191.29it/s]"
     ]
    },
    {
     "name": "stderr",
     "output_type": "stream",
     "text": [
      "INFO - (NP.df_utils.return_df_in_original_format) - Returning df with no ID column\n"
     ]
    },
    {
     "name": "stdout",
     "output_type": "stream",
     "text": [
      "\n"
     ]
    },
    {
     "data": {
      "text/html": [
       "<div>\n",
       "<style scoped>\n",
       "    .dataframe tbody tr th:only-of-type {\n",
       "        vertical-align: middle;\n",
       "    }\n",
       "\n",
       "    .dataframe tbody tr th {\n",
       "        vertical-align: top;\n",
       "    }\n",
       "\n",
       "    .dataframe thead th {\n",
       "        text-align: right;\n",
       "    }\n",
       "</style>\n",
       "<table border=\"1\" class=\"dataframe\">\n",
       "  <thead>\n",
       "    <tr style=\"text-align: right;\">\n",
       "      <th></th>\n",
       "      <th>ds</th>\n",
       "      <th>y</th>\n",
       "      <th>yhat1</th>\n",
       "      <th>trend</th>\n",
       "      <th>season_yearly</th>\n",
       "      <th>season_weekly</th>\n",
       "    </tr>\n",
       "  </thead>\n",
       "  <tbody>\n",
       "    <tr>\n",
       "      <th>0</th>\n",
       "      <td>2024-01-01</td>\n",
       "      <td>273.88</td>\n",
       "      <td>9177.317383</td>\n",
       "      <td>8608.080078</td>\n",
       "      <td>806.769409</td>\n",
       "      <td>-237.531967</td>\n",
       "    </tr>\n",
       "    <tr>\n",
       "      <th>1</th>\n",
       "      <td>2024-01-02</td>\n",
       "      <td>670.38</td>\n",
       "      <td>9850.539062</td>\n",
       "      <td>8628.254883</td>\n",
       "      <td>870.466064</td>\n",
       "      <td>351.818237</td>\n",
       "    </tr>\n",
       "    <tr>\n",
       "      <th>2</th>\n",
       "      <td>2024-01-03</td>\n",
       "      <td>431.79</td>\n",
       "      <td>9799.725586</td>\n",
       "      <td>8648.424805</td>\n",
       "      <td>934.664307</td>\n",
       "      <td>216.636703</td>\n",
       "    </tr>\n",
       "    <tr>\n",
       "      <th>3</th>\n",
       "      <td>2024-01-04</td>\n",
       "      <td>489.71</td>\n",
       "      <td>9655.030273</td>\n",
       "      <td>8668.599609</td>\n",
       "      <td>998.720520</td>\n",
       "      <td>-12.289425</td>\n",
       "    </tr>\n",
       "    <tr>\n",
       "      <th>4</th>\n",
       "      <td>2024-01-05</td>\n",
       "      <td>278.55</td>\n",
       "      <td>9460.502930</td>\n",
       "      <td>8688.773438</td>\n",
       "      <td>1062.747559</td>\n",
       "      <td>-291.018372</td>\n",
       "    </tr>\n",
       "    <tr>\n",
       "      <th>5</th>\n",
       "      <td>2024-01-06</td>\n",
       "      <td>628.69</td>\n",
       "      <td>9774.636719</td>\n",
       "      <td>8708.948242</td>\n",
       "      <td>1126.288574</td>\n",
       "      <td>-60.600571</td>\n",
       "    </tr>\n",
       "    <tr>\n",
       "      <th>6</th>\n",
       "      <td>2024-01-07</td>\n",
       "      <td>1109.52</td>\n",
       "      <td>9950.676758</td>\n",
       "      <td>8729.121094</td>\n",
       "      <td>1189.322998</td>\n",
       "      <td>32.232857</td>\n",
       "    </tr>\n",
       "    <tr>\n",
       "      <th>7</th>\n",
       "      <td>2024-01-08</td>\n",
       "      <td>480.26</td>\n",
       "      <td>9763.359375</td>\n",
       "      <td>8749.294922</td>\n",
       "      <td>1251.481445</td>\n",
       "      <td>-237.417679</td>\n",
       "    </tr>\n",
       "    <tr>\n",
       "      <th>8</th>\n",
       "      <td>2024-01-09</td>\n",
       "      <td>718.20</td>\n",
       "      <td>10433.682617</td>\n",
       "      <td>8769.467773</td>\n",
       "      <td>1312.393677</td>\n",
       "      <td>351.822235</td>\n",
       "    </tr>\n",
       "    <tr>\n",
       "      <th>9</th>\n",
       "      <td>2024-01-10</td>\n",
       "      <td>750.29</td>\n",
       "      <td>10378.146484</td>\n",
       "      <td>8789.641602</td>\n",
       "      <td>1371.990234</td>\n",
       "      <td>216.514099</td>\n",
       "    </tr>\n",
       "    <tr>\n",
       "      <th>10</th>\n",
       "      <td>2024-01-11</td>\n",
       "      <td>898.69</td>\n",
       "      <td>10227.133789</td>\n",
       "      <td>8809.814453</td>\n",
       "      <td>1429.815796</td>\n",
       "      <td>-12.496113</td>\n",
       "    </tr>\n",
       "    <tr>\n",
       "      <th>11</th>\n",
       "      <td>2024-01-12</td>\n",
       "      <td>504.43</td>\n",
       "      <td>10024.960938</td>\n",
       "      <td>8829.988281</td>\n",
       "      <td>1485.743286</td>\n",
       "      <td>-290.770721</td>\n",
       "    </tr>\n",
       "    <tr>\n",
       "      <th>12</th>\n",
       "      <td>2024-01-13</td>\n",
       "      <td>408.64</td>\n",
       "      <td>10329.493164</td>\n",
       "      <td>8850.163086</td>\n",
       "      <td>1539.276733</td>\n",
       "      <td>-59.946350</td>\n",
       "    </tr>\n",
       "    <tr>\n",
       "      <th>13</th>\n",
       "      <td>2024-01-14</td>\n",
       "      <td>466.73</td>\n",
       "      <td>10492.565430</td>\n",
       "      <td>8870.337891</td>\n",
       "      <td>1590.201904</td>\n",
       "      <td>32.025120</td>\n",
       "    </tr>\n",
       "    <tr>\n",
       "      <th>14</th>\n",
       "      <td>2024-01-15</td>\n",
       "      <td>556.25</td>\n",
       "      <td>10291.291992</td>\n",
       "      <td>8890.507812</td>\n",
       "      <td>1638.304565</td>\n",
       "      <td>-237.520050</td>\n",
       "    </tr>\n",
       "    <tr>\n",
       "      <th>15</th>\n",
       "      <td>2024-01-16</td>\n",
       "      <td>329.47</td>\n",
       "      <td>10945.750000</td>\n",
       "      <td>8910.682617</td>\n",
       "      <td>1683.234497</td>\n",
       "      <td>351.833618</td>\n",
       "    </tr>\n",
       "    <tr>\n",
       "      <th>16</th>\n",
       "      <td>2024-01-17</td>\n",
       "      <td>335.62</td>\n",
       "      <td>10872.052734</td>\n",
       "      <td>8930.856445</td>\n",
       "      <td>1724.574341</td>\n",
       "      <td>216.621277</td>\n",
       "    </tr>\n",
       "    <tr>\n",
       "      <th>17</th>\n",
       "      <td>2024-01-18</td>\n",
       "      <td>357.63</td>\n",
       "      <td>10701.899414</td>\n",
       "      <td>8951.031250</td>\n",
       "      <td>1762.195923</td>\n",
       "      <td>-11.327714</td>\n",
       "    </tr>\n",
       "    <tr>\n",
       "      <th>18</th>\n",
       "      <td>2024-01-19</td>\n",
       "      <td>123.51</td>\n",
       "      <td>10475.973633</td>\n",
       "      <td>8971.203125</td>\n",
       "      <td>1795.797119</td>\n",
       "      <td>-291.026886</td>\n",
       "    </tr>\n",
       "    <tr>\n",
       "      <th>19</th>\n",
       "      <td>2024-01-20</td>\n",
       "      <td>213.43</td>\n",
       "      <td>10756.193359</td>\n",
       "      <td>8991.377930</td>\n",
       "      <td>1825.001587</td>\n",
       "      <td>-60.186241</td>\n",
       "    </tr>\n",
       "    <tr>\n",
       "      <th>20</th>\n",
       "      <td>2024-01-21</td>\n",
       "      <td>420.91</td>\n",
       "      <td>10893.422852</td>\n",
       "      <td>9011.550781</td>\n",
       "      <td>1849.658203</td>\n",
       "      <td>32.215134</td>\n",
       "    </tr>\n",
       "    <tr>\n",
       "      <th>21</th>\n",
       "      <td>2024-01-22</td>\n",
       "      <td>411.96</td>\n",
       "      <td>10663.818359</td>\n",
       "      <td>9031.724609</td>\n",
       "      <td>1869.498291</td>\n",
       "      <td>-237.405762</td>\n",
       "    </tr>\n",
       "    <tr>\n",
       "      <th>22</th>\n",
       "      <td>2024-01-23</td>\n",
       "      <td>173.40</td>\n",
       "      <td>11288.785156</td>\n",
       "      <td>9051.897461</td>\n",
       "      <td>1884.214966</td>\n",
       "      <td>352.672607</td>\n",
       "    </tr>\n",
       "    <tr>\n",
       "      <th>23</th>\n",
       "      <td>2024-01-24</td>\n",
       "      <td>111.68</td>\n",
       "      <td>11182.254883</td>\n",
       "      <td>9072.071289</td>\n",
       "      <td>1893.684448</td>\n",
       "      <td>216.498703</td>\n",
       "    </tr>\n",
       "    <tr>\n",
       "      <th>24</th>\n",
       "      <td>2024-01-25</td>\n",
       "      <td>68.61</td>\n",
       "      <td>10978.456055</td>\n",
       "      <td>9092.246094</td>\n",
       "      <td>1897.743896</td>\n",
       "      <td>-11.534430</td>\n",
       "    </tr>\n",
       "    <tr>\n",
       "      <th>25</th>\n",
       "      <td>2024-01-26</td>\n",
       "      <td>298.96</td>\n",
       "      <td>10717.741211</td>\n",
       "      <td>9112.420898</td>\n",
       "      <td>1896.100464</td>\n",
       "      <td>-290.779266</td>\n",
       "    </tr>\n",
       "    <tr>\n",
       "      <th>26</th>\n",
       "      <td>2024-01-27</td>\n",
       "      <td>483.18</td>\n",
       "      <td>10960.886719</td>\n",
       "      <td>9132.590820</td>\n",
       "      <td>1888.721680</td>\n",
       "      <td>-60.425945</td>\n",
       "    </tr>\n",
       "    <tr>\n",
       "      <th>27</th>\n",
       "      <td>2024-01-28</td>\n",
       "      <td>310.29</td>\n",
       "      <td>11060.243164</td>\n",
       "      <td>9152.765625</td>\n",
       "      <td>1875.470825</td>\n",
       "      <td>32.007362</td>\n",
       "    </tr>\n",
       "    <tr>\n",
       "      <th>28</th>\n",
       "      <td>2024-01-29</td>\n",
       "      <td>303.28</td>\n",
       "      <td>10791.916992</td>\n",
       "      <td>9172.939453</td>\n",
       "      <td>1856.267578</td>\n",
       "      <td>-237.290970</td>\n",
       "    </tr>\n",
       "    <tr>\n",
       "      <th>29</th>\n",
       "      <td>2024-01-30</td>\n",
       "      <td>564.44</td>\n",
       "      <td>11376.007812</td>\n",
       "      <td>9193.114258</td>\n",
       "      <td>1831.044067</td>\n",
       "      <td>351.849060</td>\n",
       "    </tr>\n",
       "    <tr>\n",
       "      <th>30</th>\n",
       "      <td>2024-01-31</td>\n",
       "      <td>135.01</td>\n",
       "      <td>11229.674805</td>\n",
       "      <td>9213.286133</td>\n",
       "      <td>1799.782349</td>\n",
       "      <td>216.605850</td>\n",
       "    </tr>\n",
       "  </tbody>\n",
       "</table>\n",
       "</div>"
      ],
      "text/plain": [
       "           ds        y         yhat1        trend  season_yearly  \\\n",
       "0  2024-01-01   273.88   9177.317383  8608.080078     806.769409   \n",
       "1  2024-01-02   670.38   9850.539062  8628.254883     870.466064   \n",
       "2  2024-01-03   431.79   9799.725586  8648.424805     934.664307   \n",
       "3  2024-01-04   489.71   9655.030273  8668.599609     998.720520   \n",
       "4  2024-01-05   278.55   9460.502930  8688.773438    1062.747559   \n",
       "5  2024-01-06   628.69   9774.636719  8708.948242    1126.288574   \n",
       "6  2024-01-07  1109.52   9950.676758  8729.121094    1189.322998   \n",
       "7  2024-01-08   480.26   9763.359375  8749.294922    1251.481445   \n",
       "8  2024-01-09   718.20  10433.682617  8769.467773    1312.393677   \n",
       "9  2024-01-10   750.29  10378.146484  8789.641602    1371.990234   \n",
       "10 2024-01-11   898.69  10227.133789  8809.814453    1429.815796   \n",
       "11 2024-01-12   504.43  10024.960938  8829.988281    1485.743286   \n",
       "12 2024-01-13   408.64  10329.493164  8850.163086    1539.276733   \n",
       "13 2024-01-14   466.73  10492.565430  8870.337891    1590.201904   \n",
       "14 2024-01-15   556.25  10291.291992  8890.507812    1638.304565   \n",
       "15 2024-01-16   329.47  10945.750000  8910.682617    1683.234497   \n",
       "16 2024-01-17   335.62  10872.052734  8930.856445    1724.574341   \n",
       "17 2024-01-18   357.63  10701.899414  8951.031250    1762.195923   \n",
       "18 2024-01-19   123.51  10475.973633  8971.203125    1795.797119   \n",
       "19 2024-01-20   213.43  10756.193359  8991.377930    1825.001587   \n",
       "20 2024-01-21   420.91  10893.422852  9011.550781    1849.658203   \n",
       "21 2024-01-22   411.96  10663.818359  9031.724609    1869.498291   \n",
       "22 2024-01-23   173.40  11288.785156  9051.897461    1884.214966   \n",
       "23 2024-01-24   111.68  11182.254883  9072.071289    1893.684448   \n",
       "24 2024-01-25    68.61  10978.456055  9092.246094    1897.743896   \n",
       "25 2024-01-26   298.96  10717.741211  9112.420898    1896.100464   \n",
       "26 2024-01-27   483.18  10960.886719  9132.590820    1888.721680   \n",
       "27 2024-01-28   310.29  11060.243164  9152.765625    1875.470825   \n",
       "28 2024-01-29   303.28  10791.916992  9172.939453    1856.267578   \n",
       "29 2024-01-30   564.44  11376.007812  9193.114258    1831.044067   \n",
       "30 2024-01-31   135.01  11229.674805  9213.286133    1799.782349   \n",
       "\n",
       "    season_weekly  \n",
       "0     -237.531967  \n",
       "1      351.818237  \n",
       "2      216.636703  \n",
       "3      -12.289425  \n",
       "4     -291.018372  \n",
       "5      -60.600571  \n",
       "6       32.232857  \n",
       "7     -237.417679  \n",
       "8      351.822235  \n",
       "9      216.514099  \n",
       "10     -12.496113  \n",
       "11    -290.770721  \n",
       "12     -59.946350  \n",
       "13      32.025120  \n",
       "14    -237.520050  \n",
       "15     351.833618  \n",
       "16     216.621277  \n",
       "17     -11.327714  \n",
       "18    -291.026886  \n",
       "19     -60.186241  \n",
       "20      32.215134  \n",
       "21    -237.405762  \n",
       "22     352.672607  \n",
       "23     216.498703  \n",
       "24     -11.534430  \n",
       "25    -290.779266  \n",
       "26     -60.425945  \n",
       "27      32.007362  \n",
       "28    -237.290970  \n",
       "29     351.849060  \n",
       "30     216.605850  "
      ]
     },
     "execution_count": 75,
     "metadata": {},
     "output_type": "execute_result"
    }
   ],
   "source": [
    "future = a2.make_future_dataframe(data_a2, periods=31)\n",
    "forecast = a2.predict(future)\n",
    "forecast['y']=jan_df['S2']\n",
    "forecast"
   ]
  },
  {
   "cell_type": "code",
   "execution_count": 78,
   "metadata": {},
   "outputs": [],
   "source": [
    "forecast['y'] = forecast['y']+1000\n",
    "# forecast['yhat1'] = forecast['yhat1']+8000"
   ]
  },
  {
   "cell_type": "code",
   "execution_count": 79,
   "metadata": {},
   "outputs": [
    {
     "name": "stderr",
     "output_type": "stream",
     "text": [
      "ERROR - (NP.plotly.plot) - plotly-resampler is not installed. Please install it to use the resampler.\n",
      "WARNING - (py.warnings._showwarnmsg) - c:\\Miniconda3\\envs\\intern\\Lib\\site-packages\\neuralprophet\\plot_forecast_plotly.py:100: FutureWarning:\n",
      "\n",
      "The behavior of DatetimeProperties.to_pydatetime is deprecated, in a future version this will return a Series containing python datetime objects instead of an ndarray. To retain the old behavior, call `np.array` on the result\n",
      "\n",
      "\n"
     ]
    },
    {
     "data": {
      "application/vnd.plotly.v1+json": {
       "config": {
        "plotlyServerURL": "https://plot.ly"
       },
       "data": [
        {
         "fill": "none",
         "line": {
          "color": "rgba(45, 146, 255, 1.0)",
          "width": 2
         },
         "mode": "lines",
         "name": "yhat1",
         "type": "scatter",
         "x": [
          "2024-01-01T00:00:00",
          "2024-01-02T00:00:00",
          "2024-01-03T00:00:00",
          "2024-01-04T00:00:00",
          "2024-01-05T00:00:00",
          "2024-01-06T00:00:00",
          "2024-01-07T00:00:00",
          "2024-01-08T00:00:00",
          "2024-01-09T00:00:00",
          "2024-01-10T00:00:00",
          "2024-01-11T00:00:00",
          "2024-01-12T00:00:00",
          "2024-01-13T00:00:00",
          "2024-01-14T00:00:00",
          "2024-01-15T00:00:00",
          "2024-01-16T00:00:00",
          "2024-01-17T00:00:00",
          "2024-01-18T00:00:00",
          "2024-01-19T00:00:00",
          "2024-01-20T00:00:00",
          "2024-01-21T00:00:00",
          "2024-01-22T00:00:00",
          "2024-01-23T00:00:00",
          "2024-01-24T00:00:00",
          "2024-01-25T00:00:00",
          "2024-01-26T00:00:00",
          "2024-01-27T00:00:00",
          "2024-01-28T00:00:00",
          "2024-01-29T00:00:00",
          "2024-01-30T00:00:00",
          "2024-01-31T00:00:00"
         ],
         "y": [
          9177.3173828125,
          9850.5390625,
          9799.7255859375,
          9655.0302734375,
          9460.5029296875,
          9774.63671875,
          9950.6767578125,
          9763.359375,
          10433.6826171875,
          10378.146484375,
          10227.1337890625,
          10024.9609375,
          10329.4931640625,
          10492.5654296875,
          10291.2919921875,
          10945.75,
          10872.052734375,
          10701.8994140625,
          10475.9736328125,
          10756.193359375,
          10893.4228515625,
          10663.818359375,
          11288.78515625,
          11182.2548828125,
          10978.4560546875,
          10717.7412109375,
          10960.88671875,
          11060.2431640625,
          10791.9169921875,
          11376.0078125,
          11229.6748046875
         ]
        },
        {
         "marker": {
          "color": "black",
          "size": 4
         },
         "mode": "markers",
         "name": "Actual",
         "type": "scatter",
         "x": [
          "2024-01-01T00:00:00",
          "2024-01-02T00:00:00",
          "2024-01-03T00:00:00",
          "2024-01-04T00:00:00",
          "2024-01-05T00:00:00",
          "2024-01-06T00:00:00",
          "2024-01-07T00:00:00",
          "2024-01-08T00:00:00",
          "2024-01-09T00:00:00",
          "2024-01-10T00:00:00",
          "2024-01-11T00:00:00",
          "2024-01-12T00:00:00",
          "2024-01-13T00:00:00",
          "2024-01-14T00:00:00",
          "2024-01-15T00:00:00",
          "2024-01-16T00:00:00",
          "2024-01-17T00:00:00",
          "2024-01-18T00:00:00",
          "2024-01-19T00:00:00",
          "2024-01-20T00:00:00",
          "2024-01-21T00:00:00",
          "2024-01-22T00:00:00",
          "2024-01-23T00:00:00",
          "2024-01-24T00:00:00",
          "2024-01-25T00:00:00",
          "2024-01-26T00:00:00",
          "2024-01-27T00:00:00",
          "2024-01-28T00:00:00",
          "2024-01-29T00:00:00",
          "2024-01-30T00:00:00",
          "2024-01-31T00:00:00"
         ],
         "y": [
          9273.88,
          9670.38,
          9431.79,
          9489.71,
          9278.55,
          9628.69,
          10109.52,
          9480.26,
          9718.2,
          9750.29,
          9898.69,
          9504.43,
          9408.64,
          9466.73,
          9556.25,
          9329.47,
          9335.62,
          9357.63,
          9123.51,
          9213.43,
          9420.91,
          9411.96,
          9173.4,
          9111.68,
          9068.61,
          9298.96,
          9483.18,
          9310.29,
          9303.28,
          9564.44,
          9135.01
         ]
        }
       ],
       "layout": {
        "autosize": true,
        "font": {
         "size": 10
        },
        "height": 420,
        "hovermode": "x unified",
        "margin": {
         "b": 0,
         "l": 0,
         "pad": 0,
         "r": 10,
         "t": 10
        },
        "showlegend": true,
        "template": {
         "data": {
          "bar": [
           {
            "error_x": {
             "color": "#2a3f5f"
            },
            "error_y": {
             "color": "#2a3f5f"
            },
            "marker": {
             "line": {
              "color": "white",
              "width": 0.5
             },
             "pattern": {
              "fillmode": "overlay",
              "size": 10,
              "solidity": 0.2
             }
            },
            "type": "bar"
           }
          ],
          "barpolar": [
           {
            "marker": {
             "line": {
              "color": "white",
              "width": 0.5
             },
             "pattern": {
              "fillmode": "overlay",
              "size": 10,
              "solidity": 0.2
             }
            },
            "type": "barpolar"
           }
          ],
          "carpet": [
           {
            "aaxis": {
             "endlinecolor": "#2a3f5f",
             "gridcolor": "#C8D4E3",
             "linecolor": "#C8D4E3",
             "minorgridcolor": "#C8D4E3",
             "startlinecolor": "#2a3f5f"
            },
            "baxis": {
             "endlinecolor": "#2a3f5f",
             "gridcolor": "#C8D4E3",
             "linecolor": "#C8D4E3",
             "minorgridcolor": "#C8D4E3",
             "startlinecolor": "#2a3f5f"
            },
            "type": "carpet"
           }
          ],
          "choropleth": [
           {
            "colorbar": {
             "outlinewidth": 0,
             "ticks": ""
            },
            "type": "choropleth"
           }
          ],
          "contour": [
           {
            "colorbar": {
             "outlinewidth": 0,
             "ticks": ""
            },
            "colorscale": [
             [
              0,
              "#0d0887"
             ],
             [
              0.1111111111111111,
              "#46039f"
             ],
             [
              0.2222222222222222,
              "#7201a8"
             ],
             [
              0.3333333333333333,
              "#9c179e"
             ],
             [
              0.4444444444444444,
              "#bd3786"
             ],
             [
              0.5555555555555556,
              "#d8576b"
             ],
             [
              0.6666666666666666,
              "#ed7953"
             ],
             [
              0.7777777777777778,
              "#fb9f3a"
             ],
             [
              0.8888888888888888,
              "#fdca26"
             ],
             [
              1,
              "#f0f921"
             ]
            ],
            "type": "contour"
           }
          ],
          "contourcarpet": [
           {
            "colorbar": {
             "outlinewidth": 0,
             "ticks": ""
            },
            "type": "contourcarpet"
           }
          ],
          "heatmap": [
           {
            "colorbar": {
             "outlinewidth": 0,
             "ticks": ""
            },
            "colorscale": [
             [
              0,
              "#0d0887"
             ],
             [
              0.1111111111111111,
              "#46039f"
             ],
             [
              0.2222222222222222,
              "#7201a8"
             ],
             [
              0.3333333333333333,
              "#9c179e"
             ],
             [
              0.4444444444444444,
              "#bd3786"
             ],
             [
              0.5555555555555556,
              "#d8576b"
             ],
             [
              0.6666666666666666,
              "#ed7953"
             ],
             [
              0.7777777777777778,
              "#fb9f3a"
             ],
             [
              0.8888888888888888,
              "#fdca26"
             ],
             [
              1,
              "#f0f921"
             ]
            ],
            "type": "heatmap"
           }
          ],
          "heatmapgl": [
           {
            "colorbar": {
             "outlinewidth": 0,
             "ticks": ""
            },
            "colorscale": [
             [
              0,
              "#0d0887"
             ],
             [
              0.1111111111111111,
              "#46039f"
             ],
             [
              0.2222222222222222,
              "#7201a8"
             ],
             [
              0.3333333333333333,
              "#9c179e"
             ],
             [
              0.4444444444444444,
              "#bd3786"
             ],
             [
              0.5555555555555556,
              "#d8576b"
             ],
             [
              0.6666666666666666,
              "#ed7953"
             ],
             [
              0.7777777777777778,
              "#fb9f3a"
             ],
             [
              0.8888888888888888,
              "#fdca26"
             ],
             [
              1,
              "#f0f921"
             ]
            ],
            "type": "heatmapgl"
           }
          ],
          "histogram": [
           {
            "marker": {
             "pattern": {
              "fillmode": "overlay",
              "size": 10,
              "solidity": 0.2
             }
            },
            "type": "histogram"
           }
          ],
          "histogram2d": [
           {
            "colorbar": {
             "outlinewidth": 0,
             "ticks": ""
            },
            "colorscale": [
             [
              0,
              "#0d0887"
             ],
             [
              0.1111111111111111,
              "#46039f"
             ],
             [
              0.2222222222222222,
              "#7201a8"
             ],
             [
              0.3333333333333333,
              "#9c179e"
             ],
             [
              0.4444444444444444,
              "#bd3786"
             ],
             [
              0.5555555555555556,
              "#d8576b"
             ],
             [
              0.6666666666666666,
              "#ed7953"
             ],
             [
              0.7777777777777778,
              "#fb9f3a"
             ],
             [
              0.8888888888888888,
              "#fdca26"
             ],
             [
              1,
              "#f0f921"
             ]
            ],
            "type": "histogram2d"
           }
          ],
          "histogram2dcontour": [
           {
            "colorbar": {
             "outlinewidth": 0,
             "ticks": ""
            },
            "colorscale": [
             [
              0,
              "#0d0887"
             ],
             [
              0.1111111111111111,
              "#46039f"
             ],
             [
              0.2222222222222222,
              "#7201a8"
             ],
             [
              0.3333333333333333,
              "#9c179e"
             ],
             [
              0.4444444444444444,
              "#bd3786"
             ],
             [
              0.5555555555555556,
              "#d8576b"
             ],
             [
              0.6666666666666666,
              "#ed7953"
             ],
             [
              0.7777777777777778,
              "#fb9f3a"
             ],
             [
              0.8888888888888888,
              "#fdca26"
             ],
             [
              1,
              "#f0f921"
             ]
            ],
            "type": "histogram2dcontour"
           }
          ],
          "mesh3d": [
           {
            "colorbar": {
             "outlinewidth": 0,
             "ticks": ""
            },
            "type": "mesh3d"
           }
          ],
          "parcoords": [
           {
            "line": {
             "colorbar": {
              "outlinewidth": 0,
              "ticks": ""
             }
            },
            "type": "parcoords"
           }
          ],
          "pie": [
           {
            "automargin": true,
            "type": "pie"
           }
          ],
          "scatter": [
           {
            "fillpattern": {
             "fillmode": "overlay",
             "size": 10,
             "solidity": 0.2
            },
            "type": "scatter"
           }
          ],
          "scatter3d": [
           {
            "line": {
             "colorbar": {
              "outlinewidth": 0,
              "ticks": ""
             }
            },
            "marker": {
             "colorbar": {
              "outlinewidth": 0,
              "ticks": ""
             }
            },
            "type": "scatter3d"
           }
          ],
          "scattercarpet": [
           {
            "marker": {
             "colorbar": {
              "outlinewidth": 0,
              "ticks": ""
             }
            },
            "type": "scattercarpet"
           }
          ],
          "scattergeo": [
           {
            "marker": {
             "colorbar": {
              "outlinewidth": 0,
              "ticks": ""
             }
            },
            "type": "scattergeo"
           }
          ],
          "scattergl": [
           {
            "marker": {
             "colorbar": {
              "outlinewidth": 0,
              "ticks": ""
             }
            },
            "type": "scattergl"
           }
          ],
          "scattermapbox": [
           {
            "marker": {
             "colorbar": {
              "outlinewidth": 0,
              "ticks": ""
             }
            },
            "type": "scattermapbox"
           }
          ],
          "scatterpolar": [
           {
            "marker": {
             "colorbar": {
              "outlinewidth": 0,
              "ticks": ""
             }
            },
            "type": "scatterpolar"
           }
          ],
          "scatterpolargl": [
           {
            "marker": {
             "colorbar": {
              "outlinewidth": 0,
              "ticks": ""
             }
            },
            "type": "scatterpolargl"
           }
          ],
          "scatterternary": [
           {
            "marker": {
             "colorbar": {
              "outlinewidth": 0,
              "ticks": ""
             }
            },
            "type": "scatterternary"
           }
          ],
          "surface": [
           {
            "colorbar": {
             "outlinewidth": 0,
             "ticks": ""
            },
            "colorscale": [
             [
              0,
              "#0d0887"
             ],
             [
              0.1111111111111111,
              "#46039f"
             ],
             [
              0.2222222222222222,
              "#7201a8"
             ],
             [
              0.3333333333333333,
              "#9c179e"
             ],
             [
              0.4444444444444444,
              "#bd3786"
             ],
             [
              0.5555555555555556,
              "#d8576b"
             ],
             [
              0.6666666666666666,
              "#ed7953"
             ],
             [
              0.7777777777777778,
              "#fb9f3a"
             ],
             [
              0.8888888888888888,
              "#fdca26"
             ],
             [
              1,
              "#f0f921"
             ]
            ],
            "type": "surface"
           }
          ],
          "table": [
           {
            "cells": {
             "fill": {
              "color": "#EBF0F8"
             },
             "line": {
              "color": "white"
             }
            },
            "header": {
             "fill": {
              "color": "#C8D4E3"
             },
             "line": {
              "color": "white"
             }
            },
            "type": "table"
           }
          ]
         },
         "layout": {
          "annotationdefaults": {
           "arrowcolor": "#2a3f5f",
           "arrowhead": 0,
           "arrowwidth": 1
          },
          "autotypenumbers": "strict",
          "coloraxis": {
           "colorbar": {
            "outlinewidth": 0,
            "ticks": ""
           }
          },
          "colorscale": {
           "diverging": [
            [
             0,
             "#8e0152"
            ],
            [
             0.1,
             "#c51b7d"
            ],
            [
             0.2,
             "#de77ae"
            ],
            [
             0.3,
             "#f1b6da"
            ],
            [
             0.4,
             "#fde0ef"
            ],
            [
             0.5,
             "#f7f7f7"
            ],
            [
             0.6,
             "#e6f5d0"
            ],
            [
             0.7,
             "#b8e186"
            ],
            [
             0.8,
             "#7fbc41"
            ],
            [
             0.9,
             "#4d9221"
            ],
            [
             1,
             "#276419"
            ]
           ],
           "sequential": [
            [
             0,
             "#0d0887"
            ],
            [
             0.1111111111111111,
             "#46039f"
            ],
            [
             0.2222222222222222,
             "#7201a8"
            ],
            [
             0.3333333333333333,
             "#9c179e"
            ],
            [
             0.4444444444444444,
             "#bd3786"
            ],
            [
             0.5555555555555556,
             "#d8576b"
            ],
            [
             0.6666666666666666,
             "#ed7953"
            ],
            [
             0.7777777777777778,
             "#fb9f3a"
            ],
            [
             0.8888888888888888,
             "#fdca26"
            ],
            [
             1,
             "#f0f921"
            ]
           ],
           "sequentialminus": [
            [
             0,
             "#0d0887"
            ],
            [
             0.1111111111111111,
             "#46039f"
            ],
            [
             0.2222222222222222,
             "#7201a8"
            ],
            [
             0.3333333333333333,
             "#9c179e"
            ],
            [
             0.4444444444444444,
             "#bd3786"
            ],
            [
             0.5555555555555556,
             "#d8576b"
            ],
            [
             0.6666666666666666,
             "#ed7953"
            ],
            [
             0.7777777777777778,
             "#fb9f3a"
            ],
            [
             0.8888888888888888,
             "#fdca26"
            ],
            [
             1,
             "#f0f921"
            ]
           ]
          },
          "colorway": [
           "#636efa",
           "#EF553B",
           "#00cc96",
           "#ab63fa",
           "#FFA15A",
           "#19d3f3",
           "#FF6692",
           "#B6E880",
           "#FF97FF",
           "#FECB52"
          ],
          "font": {
           "color": "#2a3f5f"
          },
          "geo": {
           "bgcolor": "white",
           "lakecolor": "white",
           "landcolor": "white",
           "showlakes": true,
           "showland": true,
           "subunitcolor": "#C8D4E3"
          },
          "hoverlabel": {
           "align": "left"
          },
          "hovermode": "closest",
          "mapbox": {
           "style": "light"
          },
          "paper_bgcolor": "white",
          "plot_bgcolor": "white",
          "polar": {
           "angularaxis": {
            "gridcolor": "#EBF0F8",
            "linecolor": "#EBF0F8",
            "ticks": ""
           },
           "bgcolor": "white",
           "radialaxis": {
            "gridcolor": "#EBF0F8",
            "linecolor": "#EBF0F8",
            "ticks": ""
           }
          },
          "scene": {
           "xaxis": {
            "backgroundcolor": "white",
            "gridcolor": "#DFE8F3",
            "gridwidth": 2,
            "linecolor": "#EBF0F8",
            "showbackground": true,
            "ticks": "",
            "zerolinecolor": "#EBF0F8"
           },
           "yaxis": {
            "backgroundcolor": "white",
            "gridcolor": "#DFE8F3",
            "gridwidth": 2,
            "linecolor": "#EBF0F8",
            "showbackground": true,
            "ticks": "",
            "zerolinecolor": "#EBF0F8"
           },
           "zaxis": {
            "backgroundcolor": "white",
            "gridcolor": "#DFE8F3",
            "gridwidth": 2,
            "linecolor": "#EBF0F8",
            "showbackground": true,
            "ticks": "",
            "zerolinecolor": "#EBF0F8"
           }
          },
          "shapedefaults": {
           "line": {
            "color": "#2a3f5f"
           }
          },
          "ternary": {
           "aaxis": {
            "gridcolor": "#DFE8F3",
            "linecolor": "#A2B1C6",
            "ticks": ""
           },
           "baxis": {
            "gridcolor": "#DFE8F3",
            "linecolor": "#A2B1C6",
            "ticks": ""
           },
           "bgcolor": "white",
           "caxis": {
            "gridcolor": "#DFE8F3",
            "linecolor": "#A2B1C6",
            "ticks": ""
           }
          },
          "title": {
           "x": 0.05
          },
          "xaxis": {
           "automargin": true,
           "gridcolor": "#EBF0F8",
           "linecolor": "#EBF0F8",
           "ticks": "",
           "title": {
            "standoff": 15
           },
           "zerolinecolor": "#EBF0F8",
           "zerolinewidth": 2
          },
          "yaxis": {
           "automargin": true,
           "gridcolor": "#EBF0F8",
           "linecolor": "#EBF0F8",
           "ticks": "",
           "title": {
            "standoff": 15
           },
           "zerolinecolor": "#EBF0F8",
           "zerolinewidth": 2
          }
         }
        },
        "title": {
         "font": {
          "size": 12
         }
        },
        "width": 700,
        "xaxis": {
         "linewidth": 1.5,
         "mirror": true,
         "rangeselector": {
          "buttons": [
           {
            "count": 7,
            "label": "1w",
            "step": "day",
            "stepmode": "backward"
           },
           {
            "count": 1,
            "label": "1m",
            "step": "month",
            "stepmode": "backward"
           },
           {
            "count": 6,
            "label": "6m",
            "step": "month",
            "stepmode": "backward"
           },
           {
            "count": 1,
            "label": "1y",
            "step": "year",
            "stepmode": "backward"
           },
           {
            "step": "all"
           }
          ]
         },
         "rangeslider": {
          "visible": true
         },
         "showline": true,
         "title": {
          "text": "ds"
         },
         "type": "date"
        },
        "yaxis": {
         "linewidth": 1.5,
         "mirror": true,
         "showline": true,
         "title": {
          "text": "y"
         }
        }
       }
      }
     },
     "metadata": {},
     "output_type": "display_data"
    }
   ],
   "source": [
    "a2.plot(forecast)"
   ]
  },
  {
   "cell_type": "code",
   "execution_count": 81,
   "metadata": {},
   "outputs": [],
   "source": [
    "import numpy as np"
   ]
  },
  {
   "cell_type": "code",
   "execution_count": 82,
   "metadata": {},
   "outputs": [
    {
     "name": "stdout",
     "output_type": "stream",
     "text": [
      "[0.001, 0.12575, 0.2505, 0.37525, 0.5]\n"
     ]
    }
   ],
   "source": [
    "changepoint_prior_scale_range = np.linspace(0.001, 0.5, num=5).tolist()\n",
    "print(changepoint_prior_scale_range)"
   ]
  },
  {
   "cell_type": "code",
   "execution_count": null,
   "metadata": {},
   "outputs": [],
   "source": []
  }
 ],
 "metadata": {
  "kernelspec": {
   "display_name": "ai",
   "language": "python",
   "name": "python3"
  },
  "language_info": {
   "codemirror_mode": {
    "name": "ipython",
    "version": 3
   },
   "file_extension": ".py",
   "mimetype": "text/x-python",
   "name": "python",
   "nbconvert_exporter": "python",
   "pygments_lexer": "ipython3",
   "version": "3.11.8"
  }
 },
 "nbformat": 4,
 "nbformat_minor": 2
}
